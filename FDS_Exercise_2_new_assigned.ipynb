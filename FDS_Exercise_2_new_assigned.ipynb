{
 "cells": [
  {
   "cell_type": "markdown",
   "metadata": {
    "id": "qSfK3TzzOeBK"
   },
   "source": [
    "# Fundamentals of Data Science\n",
    "Winter Semester 2020\n",
    "\n",
    "## Prof. Fabio Galasso, Alessandro Flaborea and Luca Franco\n",
    "<galasso@di.uniroma1.it>, <flaborea.1841969@studenti.uniroma1.it>, <franco.luca.17@gmail.com>\n",
    "\n",
    "## Exercise 2"
   ]
  },
  {
   "cell_type": "markdown",
   "metadata": {
    "id": "laIa2DFiOeBL"
   },
   "source": [
    "In Exercise 2, you will re-derive and implement logistic regression and optimize the parameters with Gradient Descent and with the Newton's method. Also, in this exercise you will re-derive and implement Gassian Discriminant Analysis.\n",
    "We will use the files logistic_x.txt and logistic_y.txt. The first contains the feature values $x^{(i)}_1$ and $x^{(i)}_2$ for the $i$-th data sample $x^{(i)}$. The second contains the ground truth label $y^{(i)}$ for each corresponding data sample.\n",
    "\n",
    "Note that, differently from what seen in lecture, $y^{(i)}\\in \\{-1,1\\}$.\n",
    "\n",
    "The completed exercise should be handed in as a single notebook file. Use Markdown to provide equations. Use the code sections to provide your scripts and the corresponding plots.\n",
    "Submit it by sending an email to galasso@di.uniroma1.it, flaborea.1841969@studenti.uniroma1.it and franco.luca.17@gmail.com by Wednesday November 25th, 23:59."
   ]
  },
  {
   "cell_type": "markdown",
   "metadata": {
    "id": "LK9pUVWmOeBM"
   },
   "source": [
    "## Notation\n",
    "\n",
    "- $x^i$ is the $i^{th}$ feature vector\n",
    "- $y^i$ is the expected outcome for the $i^{th}$ training example\n",
    "- $m$ is the number of training examples\n",
    "- $n$ is the number of features\n",
    "\n",
    "Let's start by setting up our Python environment and importing the required libraries:"
   ]
  },
  {
   "cell_type": "markdown",
   "metadata": {
    "id": "vpM7R9w8OeBN"
   },
   "source": [
    "\n",
    "## [15 points] Question 1: Logistic Regression with Gradient Ascent"
   ]
  },
  {
   "cell_type": "markdown",
   "metadata": {
    "id": "96Z43pcuOeBN"
   },
   "source": [
    "### (a) [5 points] Equations for the log likelihood, its gradient, and the gradient ascent update rule.\n",
    "\n",
    "Write and simplify the likelihood $L(\\theta)$ and log-likelihood $l(\\theta)$ of the parameters $\\theta$.\n",
    "\n",
    "Recall the probabilistic interpretation of the hypothesis $h_\\theta(x)= P(y=1|x;\\theta)$ and that $h_\\theta(x)=\\frac{1}{1+\\exp(-\\theta^T x)}$.\n",
    "\n",
    "Also derive the gradient $\\frac{\\delta l(\\theta)}{\\delta \\theta_j}$ of $l(\\theta)$ and write the gradient update equation. \n",
    "\n",
    "Question: in order to learn the optimal $\\theta$, do you need to minimize or to maximize $l(\\theta)$?"
   ]
  },
  {
   "cell_type": "markdown",
   "metadata": {
    "id": "ryllEcxDOeBO"
   },
   "source": [
    "################# Do not write above this line #################"
   ]
  },
  {
   "cell_type": "markdown",
   "metadata": {
    "id": "wgkYGHGSOeBO"
   },
   "source": [
    "The probablistic interpretation of the hypothesis function is as follows:\n",
    "\n",
    "$\\\\\n",
    "P(y=1|X;\\theta) = h_\\theta(x) \\\\\n",
    "$\n",
    "therefore\n",
    "\n",
    "$\n",
    "P(y=0|X;\\theta) = 1 - h_\\theta(x) \\\\\n",
    "$\n",
    "\n",
    "and\n",
    "\n",
    "$P(y|X;\\theta) = h_\\theta(x)^y(1-h_\\theta(x))^{1-y}$\n",
    "\n",
    "The likelihood equation for logistic regression is:\n",
    "\n",
    "$L(\\theta) = P(\\vec{y}|X;\\theta) = \\prod_{i=1}^mP(y^{(i)}|x^{(i)};\\theta) = \\prod_{i=1}^mh_\\theta(x^{(i)})^{y^{(i)}}(1-h_\\theta(x^{(i)}))^{{1-y^{(i)}}}$\n",
    "\n",
    "Therefore the log likelihood is:\n",
    "\n",
    "$log(\\prod_{i=1}^mh_\\theta(x^{(i)})^{y^{(i)}}(1-h_\\theta(x^{(i)}))^{{1-y^{(i)}}}) = \\\\\n",
    "\\sum_{i=1}^{m}y^{(i)}log(h_\\theta(x^{(i)})) + (1-y^{(i)})log(1-h_\\theta(x^{(i)}))$\n",
    "\n",
    "The gradient of the log-likelihood is:\n",
    "$\\frac{\\delta l(\\theta)}{\\delta \\theta_j} = \\sum_{i=1}^m(y^{(i)}-h_\\theta(x^{(i)}))x_j^{(i)}$\n",
    "\n",
    "Therefore the update equation is:\n",
    "\n",
    "$\\theta_j := \\theta_j + \\alpha\\sum_{i=1}^m(y^{(i)}-h_\\theta(x^{(i)}))x_j^{(i)}$\n",
    "\n",
    "in order to obtain the optimal value for $\\theta$ we need to maximize the log-likelihood function (we are performing a gradient ascent in this case)"
   ]
  },
  {
   "cell_type": "markdown",
   "metadata": {
    "id": "yEco3MQ1OeBP"
   },
   "source": [
    "################# Do not write below this line #################"
   ]
  },
  {
   "cell_type": "markdown",
   "metadata": {
    "id": "4nCv4HmWOeBP"
   },
   "source": [
    "### (b) [10 points] Implementation of logistic regression with Gradient Ascent\n",
    "\n",
    "Code up the equations above to learn the logistic regression parameters. Consider as data the files logistic_x.txt and logistic_y.txt. The first contains the feature values $x^{(i)}_1$ and $x^{(i)}_2$ for the $i$-th data sample $x^{(i)}$. The second contains the ground truth label $y^{(i)}$ for each corresponding data sample."
   ]
  },
  {
   "cell_type": "code",
   "execution_count": 70,
   "metadata": {
    "id": "n9qXilF-OeBQ"
   },
   "outputs": [],
   "source": [
    "%matplotlib inline\n",
    "import numpy as np # imports a fast numerical programming library\n",
    "import scipy as sp # imports stats functions, amongst other things\n",
    "import matplotlib as mpl # this actually imports matplotlib\n",
    "import matplotlib.cm as cm # allows us easy access to colormaps\n",
    "import matplotlib.pyplot as plt # sets up plotting under plt\n",
    "import pandas as pd # lets us handle data as dataframes\n",
    "\n",
    "# sets up pandas table display\n",
    "pd.set_option('display.width', 500)\n",
    "pd.set_option('display.max_columns', 100)\n",
    "pd.set_option('display.notebook_repr_html', True)\n",
    "\n",
    "import seaborn as sns # sets up styles and gives us more plotting options"
   ]
  },
  {
   "cell_type": "markdown",
   "metadata": {
    "id": "bBZrP2jQOeBU"
   },
   "source": [
    "Let's start by loading the data into two pandas DataFrames:"
   ]
  },
  {
   "cell_type": "code",
   "execution_count": 71,
   "metadata": {
    "colab": {
     "base_uri": "https://localhost:8080/",
     "height": 203
    },
    "id": "AIYevbmGOeBU",
    "outputId": "754a01ff-66bb-487d-99ac-bd7be41f4183"
   },
   "outputs": [
    {
     "output_type": "execute_result",
     "data": {
      "text/plain": [
       "         x1        x2\n",
       "0  1.343250 -1.331148\n",
       "1  1.820553 -0.634668\n",
       "2  0.986321 -1.888576\n",
       "3  1.944373 -1.635452\n",
       "4  0.976734 -1.353315"
      ],
      "text/html": "<div>\n<style scoped>\n    .dataframe tbody tr th:only-of-type {\n        vertical-align: middle;\n    }\n\n    .dataframe tbody tr th {\n        vertical-align: top;\n    }\n\n    .dataframe thead th {\n        text-align: right;\n    }\n</style>\n<table border=\"1\" class=\"dataframe\">\n  <thead>\n    <tr style=\"text-align: right;\">\n      <th></th>\n      <th>x1</th>\n      <th>x2</th>\n    </tr>\n  </thead>\n  <tbody>\n    <tr>\n      <th>0</th>\n      <td>1.343250</td>\n      <td>-1.331148</td>\n    </tr>\n    <tr>\n      <th>1</th>\n      <td>1.820553</td>\n      <td>-0.634668</td>\n    </tr>\n    <tr>\n      <th>2</th>\n      <td>0.986321</td>\n      <td>-1.888576</td>\n    </tr>\n    <tr>\n      <th>3</th>\n      <td>1.944373</td>\n      <td>-1.635452</td>\n    </tr>\n    <tr>\n      <th>4</th>\n      <td>0.976734</td>\n      <td>-1.353315</td>\n    </tr>\n  </tbody>\n</table>\n</div>"
     },
     "metadata": {},
     "execution_count": 71
    }
   ],
   "source": [
    "df_x = pd.read_csv(\"./data/logistic_x.txt\", sep=\"\\ +\", names=[\"x1\",\"x2\"], header=None, engine='python')\n",
    "df_y = pd.read_csv('./data/logistic_y.txt', sep='\\ +', names=[\"y\"], header=None, engine='python')\n",
    "df_y = df_y.astype(int)\n",
    "df_x.head()"
   ]
  },
  {
   "cell_type": "code",
   "execution_count": 72,
   "metadata": {
    "colab": {
     "base_uri": "https://localhost:8080/",
     "height": 203
    },
    "id": "yzWVpxZKOeBY",
    "outputId": "087f03ed-90c2-43ba-ecc0-4e1eede2698e"
   },
   "outputs": [
    {
     "output_type": "execute_result",
     "data": {
      "text/plain": [
       "   y\n",
       "0 -1\n",
       "1 -1\n",
       "2 -1\n",
       "3 -1\n",
       "4 -1"
      ],
      "text/html": "<div>\n<style scoped>\n    .dataframe tbody tr th:only-of-type {\n        vertical-align: middle;\n    }\n\n    .dataframe tbody tr th {\n        vertical-align: top;\n    }\n\n    .dataframe thead th {\n        text-align: right;\n    }\n</style>\n<table border=\"1\" class=\"dataframe\">\n  <thead>\n    <tr style=\"text-align: right;\">\n      <th></th>\n      <th>y</th>\n    </tr>\n  </thead>\n  <tbody>\n    <tr>\n      <th>0</th>\n      <td>-1</td>\n    </tr>\n    <tr>\n      <th>1</th>\n      <td>-1</td>\n    </tr>\n    <tr>\n      <th>2</th>\n      <td>-1</td>\n    </tr>\n    <tr>\n      <th>3</th>\n      <td>-1</td>\n    </tr>\n    <tr>\n      <th>4</th>\n      <td>-1</td>\n    </tr>\n  </tbody>\n</table>\n</div>"
     },
     "metadata": {},
     "execution_count": 72
    }
   ],
   "source": [
    "df_y.head()"
   ]
  },
  {
   "cell_type": "markdown",
   "metadata": {
    "id": "dvJngk29OeBb"
   },
   "source": [
    "Let's get the NumPy arrays from the dataset, and add a column of 1's to $X$ to take into account the zero intercept"
   ]
  },
  {
   "cell_type": "code",
   "execution_count": 73,
   "metadata": {
    "id": "s2Jz97G4OeBb"
   },
   "outputs": [],
   "source": [
    "x = np.hstack([np.ones((df_x.shape[0], 1)), df_x[[\"x1\",\"x2\"]].values])\n",
    "y = df_y[\"y\"].values"
   ]
  },
  {
   "cell_type": "markdown",
   "metadata": {
    "id": "JyWYlB43OeBe"
   },
   "source": [
    "Adjust y so that $y^{(i)}\\in [0,1]$"
   ]
  },
  {
   "cell_type": "markdown",
   "metadata": {
    "id": "S5njaB8wOeBe"
   },
   "source": [
    "################# Do not write above this line #################"
   ]
  },
  {
   "cell_type": "markdown",
   "metadata": {
    "id": "kl6TZcBYOeBf"
   },
   "source": [
    "Your code here"
   ]
  },
  {
   "cell_type": "code",
   "execution_count": 124,
   "metadata": {
    "id": "HzS95OcYOeBf"
   },
   "outputs": [
    {
     "output_type": "stream",
     "name": "stdout",
     "text": [
      "0.0 1.0\n"
     ]
    }
   ],
   "source": [
    "y = (y + 1) / 2"
   ]
  },
  {
   "cell_type": "markdown",
   "metadata": {
    "id": "eh_JgsQoOeBi"
   },
   "source": [
    "################# Do not write below this line #################"
   ]
  },
  {
   "cell_type": "code",
   "execution_count": 74,
   "metadata": {
    "colab": {
     "base_uri": "https://localhost:8080/",
     "height": 185
    },
    "id": "_S8E0b9_OeBj",
    "outputId": "8c33615a-da97-48e0-8ca4-2f64b60b1093"
   },
   "outputs": [
    {
     "output_type": "execute_result",
     "data": {
      "text/plain": [
       "[array([[ 1.        ,  1.3432504 , -1.3311479 ],\n",
       "        [ 1.        ,  1.8205529 , -0.6346681 ],\n",
       "        [ 1.        ,  0.98632067, -1.8885762 ],\n",
       "        [ 1.        ,  1.9443734 , -1.635452  ],\n",
       "        [ 1.        ,  0.97673352, -1.3533151 ]]),\n",
       " array([[ 1.        ,  4.7748538 ,  0.09941521],\n",
       "        [ 1.        ,  5.8274854 , -0.69005848],\n",
       "        [ 1.        ,  2.2894737 ,  1.9707602 ],\n",
       "        [ 1.        ,  2.494152  ,  1.4152047 ],\n",
       "        [ 1.        ,  2.0847953 ,  1.3567251 ]])]"
      ]
     },
     "metadata": {},
     "execution_count": 74
    }
   ],
   "source": [
    "[x[:5,:],x[-5:,:]] # Plot the first and last 5 lines of x, now containing features x0 (constant=1), x1 and x2"
   ]
  },
  {
   "cell_type": "code",
   "execution_count": 115,
   "metadata": {
    "colab": {
     "base_uri": "https://localhost:8080/",
     "height": 34
    },
    "id": "DZFFdmUqOeBm",
    "outputId": "e68613e6-4b26-4d1b-e22e-3f9b82e8b3cc"
   },
   "outputs": [
    {
     "output_type": "execute_result",
     "data": {
      "text/plain": [
       "[array([-1, -1, -1, -1, -1]), array([1, 1, 1, 1, 1])]"
      ]
     },
     "metadata": {},
     "execution_count": 115
    }
   ],
   "source": [
    "[y[:5],y[-5:]] # Plot the first and last 5 lines of y"
   ]
  },
  {
   "cell_type": "markdown",
   "metadata": {
    "id": "qe5LdnkmOeBo"
   },
   "source": [
    "Define the sigmoid function \"sigmoid\", the function to compute the gradient of the log likelihood  \"grad_l\" and the gradient ascent algorithm."
   ]
  },
  {
   "cell_type": "markdown",
   "metadata": {
    "id": "iK3e_-LmOeBp"
   },
   "source": [
    "################# Do not write above this line #################"
   ]
  },
  {
   "cell_type": "markdown",
   "metadata": {
    "id": "F9D5RR6XOeBp"
   },
   "source": [
    "Your code here"
   ]
  },
  {
   "cell_type": "code",
   "execution_count": 211,
   "metadata": {
    "id": "seSHjGU7OeBq"
   },
   "outputs": [],
   "source": [
    "def sigmoid(x):\n",
    "    # return the sigmoid of x\n",
    "    g = 1 / ( 1 + np.exp(-x))\n",
    "    return g\n",
    "\n",
    "def log_likelihood(theta,x,y):\n",
    "    # return the log likehood of theta according to data x and label y\n",
    "    m = x.shape[0]\n",
    "    h = sigmoid(np.dot(x, theta))\n",
    "    log_l =  ( np.dot(y, np.log(h)) + np.dot((1 - y), np.log(1 - h)) ) / m\n",
    "    return log_l\n",
    "\n",
    "def grad_l(theta, x, y):\n",
    "    # return the gradient G of the log likelihood\n",
    "    m = x.shape[0]\n",
    "    h = sigmoid(np.dot(x, theta))\n",
    "    G = np.dot(np.transpose(x), y - h)\n",
    "    return G\n",
    "\n",
    "def gradient_ascent(theta,x,y,G,alpha=0.01,iterations=100):\n",
    "\n",
    "    m = len(y)\n",
    "    log_l_history = np.zeros(iterations)\n",
    "    theta_history = np.zeros((iterations,3))\n",
    "\n",
    "    # return the optimized theta parameters,\n",
    "    # as well as two lists containing the log likelihood's and values of theta at all iterations\n",
    "    for i in range(iterations):\n",
    "        theta = theta + alpha * G(theta, x, y) / m\n",
    "        theta_history[i] = theta\n",
    "        log_l_history[i] = log_likelihood(theta, x, y)\n",
    "    return theta, log_l_history, theta_history"
   ]
  },
  {
   "cell_type": "markdown",
   "metadata": {
    "id": "ne6TYR_GOeBu"
   },
   "source": [
    "################# Do not write below this line #################"
   ]
  },
  {
   "cell_type": "markdown",
   "metadata": {},
   "source": [
    "Check your grad_l implementation:\n",
    "grad_l applied to the theta_test (defined below) should provide a value for log_l_test close to the target_value (defined below); in other words the error_test should be 0, up to machine error precision."
   ]
  },
  {
   "cell_type": "code",
   "execution_count": 212,
   "metadata": {},
   "outputs": [
    {
     "output_type": "stream",
     "name": "stdout",
     "text": [
      "0.000000\n"
     ]
    }
   ],
   "source": [
    "target_value = -0.4250958770469834\n",
    "theta_test=np.array([-2,1,2])\n",
    "\n",
    "log_l_test  = log_likelihood(theta_test,x,y)\n",
    "error_test=np.abs(log_l_test-target_value)\n",
    "\n",
    "print(\"{:f}\".format(error_test))"
   ]
  },
  {
   "cell_type": "markdown",
   "metadata": {
    "id": "vjpqRLekOeBv"
   },
   "source": [
    "Let's now apply the function gradient_ascent and print the final theta as well as theta_history "
   ]
  },
  {
   "cell_type": "code",
   "execution_count": 213,
   "metadata": {
    "colab": {
     "base_uri": "https://localhost:8080/",
     "height": 151
    },
    "id": "E9YW5A-aOeBv",
    "outputId": "2c0e0da0-f9e9-4bb7-bbc2-6d5978ac9059",
    "tags": []
   },
   "outputs": [
    {
     "output_type": "stream",
     "name": "stdout",
     "text": [
      "[-2.62008936  0.76027868  1.1719157 ]\n[[-2.52525253e-03  2.40752765e-01  2.77415313e-01]\n [-9.46624841e-02  2.41740896e-02  4.84262297e-01]\n [-7.91257819e-02  2.89805031e-01  5.87796492e-01]\n ...\n [-2.62008225e+00  7.60277115e-01  1.17191517e+00]\n [-2.62008582e+00  7.60277900e-01  1.17191543e+00]\n [-2.62008936e+00  7.60278679e-01  1.17191570e+00]]\n"
     ]
    }
   ],
   "source": [
    "# Initialize theta0\n",
    "theta0 = np.zeros(x.shape[1])\n",
    "\n",
    "# Run Gradient Ascent method\n",
    "n_iter=1000\n",
    "theta_final, log_l_history, theta_history = gradient_ascent(theta0,x,y,grad_l,alpha=0.5,iterations=n_iter)\n",
    "print(theta_final)\n",
    "print(theta_history)"
   ]
  },
  {
   "cell_type": "markdown",
   "metadata": {
    "id": "aFv3R0V4OeBy"
   },
   "source": [
    "Let's plot the log likelihood over iterations"
   ]
  },
  {
   "cell_type": "code",
   "execution_count": 214,
   "metadata": {
    "colab": {
     "base_uri": "https://localhost:8080/",
     "height": 279
    },
    "id": "8e4XivQrOeBy",
    "outputId": "c3b202b0-bd07-4690-d310-673f04959bb4"
   },
   "outputs": [
    {
     "output_type": "display_data",
     "data": {
      "text/plain": "<Figure size 432x288 with 1 Axes>",
      "image/svg+xml": "<?xml version=\"1.0\" encoding=\"utf-8\" standalone=\"no\"?>\n<!DOCTYPE svg PUBLIC \"-//W3C//DTD SVG 1.1//EN\"\n  \"http://www.w3.org/Graphics/SVG/1.1/DTD/svg11.dtd\">\n<!-- Created with matplotlib (https://matplotlib.org/) -->\n<svg height=\"262.19625pt\" version=\"1.1\" viewBox=\"0 0 400.523437 262.19625\" width=\"400.523437pt\" xmlns=\"http://www.w3.org/2000/svg\" xmlns:xlink=\"http://www.w3.org/1999/xlink\">\n <metadata>\n  <rdf:RDF xmlns:cc=\"http://creativecommons.org/ns#\" xmlns:dc=\"http://purl.org/dc/elements/1.1/\" xmlns:rdf=\"http://www.w3.org/1999/02/22-rdf-syntax-ns#\">\n   <cc:Work>\n    <dc:type rdf:resource=\"http://purl.org/dc/dcmitype/StillImage\"/>\n    <dc:date>2020-11-18T23:17:24.279987</dc:date>\n    <dc:format>image/svg+xml</dc:format>\n    <dc:creator>\n     <cc:Agent>\n      <dc:title>Matplotlib v3.3.2, https://matplotlib.org/</dc:title>\n     </cc:Agent>\n    </dc:creator>\n   </cc:Work>\n  </rdf:RDF>\n </metadata>\n <defs>\n  <style type=\"text/css\">*{stroke-linecap:butt;stroke-linejoin:round;}</style>\n </defs>\n <g id=\"figure_1\">\n  <g id=\"patch_1\">\n   <path d=\"M 0 262.19625 \nL 400.523437 262.19625 \nL 400.523437 0 \nL 0 0 \nz\n\" style=\"fill:none;\"/>\n  </g>\n  <g id=\"axes_1\">\n   <g id=\"patch_2\">\n    <path d=\"M 58.523438 224.64 \nL 393.323438 224.64 \nL 393.323438 7.2 \nL 58.523438 7.2 \nz\n\" style=\"fill:#ffffff;\"/>\n   </g>\n   <g id=\"matplotlib.axis_1\">\n    <g id=\"xtick_1\">\n     <g id=\"line2d_1\">\n      <defs>\n       <path d=\"M 0 0 \nL 0 3.5 \n\" id=\"m930877e2b9\" style=\"stroke:#000000;stroke-width:0.8;\"/>\n      </defs>\n      <g>\n       <use style=\"stroke:#000000;stroke-width:0.8;\" x=\"73.741619\" xlink:href=\"#m930877e2b9\" y=\"224.64\"/>\n      </g>\n     </g>\n     <g id=\"text_1\">\n      <!-- 0 -->\n      <g transform=\"translate(70.560369 239.238438)scale(0.1 -0.1)\">\n       <defs>\n        <path d=\"M 31.78125 66.40625 \nQ 24.171875 66.40625 20.328125 58.90625 \nQ 16.5 51.421875 16.5 36.375 \nQ 16.5 21.390625 20.328125 13.890625 \nQ 24.171875 6.390625 31.78125 6.390625 \nQ 39.453125 6.390625 43.28125 13.890625 \nQ 47.125 21.390625 47.125 36.375 \nQ 47.125 51.421875 43.28125 58.90625 \nQ 39.453125 66.40625 31.78125 66.40625 \nz\nM 31.78125 74.21875 \nQ 44.046875 74.21875 50.515625 64.515625 \nQ 56.984375 54.828125 56.984375 36.375 \nQ 56.984375 17.96875 50.515625 8.265625 \nQ 44.046875 -1.421875 31.78125 -1.421875 \nQ 19.53125 -1.421875 13.0625 8.265625 \nQ 6.59375 17.96875 6.59375 36.375 \nQ 6.59375 54.828125 13.0625 64.515625 \nQ 19.53125 74.21875 31.78125 74.21875 \nz\n\" id=\"DejaVuSans-48\"/>\n       </defs>\n       <use xlink:href=\"#DejaVuSans-48\"/>\n      </g>\n     </g>\n    </g>\n    <g id=\"xtick_2\">\n     <g id=\"line2d_2\">\n      <g>\n       <use style=\"stroke:#000000;stroke-width:0.8;\" x=\"134.67528\" xlink:href=\"#m930877e2b9\" y=\"224.64\"/>\n      </g>\n     </g>\n     <g id=\"text_2\">\n      <!-- 200 -->\n      <g transform=\"translate(125.13153 239.238438)scale(0.1 -0.1)\">\n       <defs>\n        <path d=\"M 19.1875 8.296875 \nL 53.609375 8.296875 \nL 53.609375 0 \nL 7.328125 0 \nL 7.328125 8.296875 \nQ 12.9375 14.109375 22.625 23.890625 \nQ 32.328125 33.6875 34.8125 36.53125 \nQ 39.546875 41.84375 41.421875 45.53125 \nQ 43.3125 49.21875 43.3125 52.78125 \nQ 43.3125 58.59375 39.234375 62.25 \nQ 35.15625 65.921875 28.609375 65.921875 \nQ 23.96875 65.921875 18.8125 64.3125 \nQ 13.671875 62.703125 7.8125 59.421875 \nL 7.8125 69.390625 \nQ 13.765625 71.78125 18.9375 73 \nQ 24.125 74.21875 28.421875 74.21875 \nQ 39.75 74.21875 46.484375 68.546875 \nQ 53.21875 62.890625 53.21875 53.421875 \nQ 53.21875 48.921875 51.53125 44.890625 \nQ 49.859375 40.875 45.40625 35.40625 \nQ 44.1875 33.984375 37.640625 27.21875 \nQ 31.109375 20.453125 19.1875 8.296875 \nz\n\" id=\"DejaVuSans-50\"/>\n       </defs>\n       <use xlink:href=\"#DejaVuSans-50\"/>\n       <use x=\"63.623047\" xlink:href=\"#DejaVuSans-48\"/>\n       <use x=\"127.246094\" xlink:href=\"#DejaVuSans-48\"/>\n      </g>\n     </g>\n    </g>\n    <g id=\"xtick_3\">\n     <g id=\"line2d_3\">\n      <g>\n       <use style=\"stroke:#000000;stroke-width:0.8;\" x=\"195.608941\" xlink:href=\"#m930877e2b9\" y=\"224.64\"/>\n      </g>\n     </g>\n     <g id=\"text_3\">\n      <!-- 400 -->\n      <g transform=\"translate(186.065191 239.238438)scale(0.1 -0.1)\">\n       <defs>\n        <path d=\"M 37.796875 64.3125 \nL 12.890625 25.390625 \nL 37.796875 25.390625 \nz\nM 35.203125 72.90625 \nL 47.609375 72.90625 \nL 47.609375 25.390625 \nL 58.015625 25.390625 \nL 58.015625 17.1875 \nL 47.609375 17.1875 \nL 47.609375 0 \nL 37.796875 0 \nL 37.796875 17.1875 \nL 4.890625 17.1875 \nL 4.890625 26.703125 \nz\n\" id=\"DejaVuSans-52\"/>\n       </defs>\n       <use xlink:href=\"#DejaVuSans-52\"/>\n       <use x=\"63.623047\" xlink:href=\"#DejaVuSans-48\"/>\n       <use x=\"127.246094\" xlink:href=\"#DejaVuSans-48\"/>\n      </g>\n     </g>\n    </g>\n    <g id=\"xtick_4\">\n     <g id=\"line2d_4\">\n      <g>\n       <use style=\"stroke:#000000;stroke-width:0.8;\" x=\"256.542602\" xlink:href=\"#m930877e2b9\" y=\"224.64\"/>\n      </g>\n     </g>\n     <g id=\"text_4\">\n      <!-- 600 -->\n      <g transform=\"translate(246.998852 239.238438)scale(0.1 -0.1)\">\n       <defs>\n        <path d=\"M 33.015625 40.375 \nQ 26.375 40.375 22.484375 35.828125 \nQ 18.609375 31.296875 18.609375 23.390625 \nQ 18.609375 15.53125 22.484375 10.953125 \nQ 26.375 6.390625 33.015625 6.390625 \nQ 39.65625 6.390625 43.53125 10.953125 \nQ 47.40625 15.53125 47.40625 23.390625 \nQ 47.40625 31.296875 43.53125 35.828125 \nQ 39.65625 40.375 33.015625 40.375 \nz\nM 52.59375 71.296875 \nL 52.59375 62.3125 \nQ 48.875 64.0625 45.09375 64.984375 \nQ 41.3125 65.921875 37.59375 65.921875 \nQ 27.828125 65.921875 22.671875 59.328125 \nQ 17.53125 52.734375 16.796875 39.40625 \nQ 19.671875 43.65625 24.015625 45.921875 \nQ 28.375 48.1875 33.59375 48.1875 \nQ 44.578125 48.1875 50.953125 41.515625 \nQ 57.328125 34.859375 57.328125 23.390625 \nQ 57.328125 12.15625 50.6875 5.359375 \nQ 44.046875 -1.421875 33.015625 -1.421875 \nQ 20.359375 -1.421875 13.671875 8.265625 \nQ 6.984375 17.96875 6.984375 36.375 \nQ 6.984375 53.65625 15.1875 63.9375 \nQ 23.390625 74.21875 37.203125 74.21875 \nQ 40.921875 74.21875 44.703125 73.484375 \nQ 48.484375 72.75 52.59375 71.296875 \nz\n\" id=\"DejaVuSans-54\"/>\n       </defs>\n       <use xlink:href=\"#DejaVuSans-54\"/>\n       <use x=\"63.623047\" xlink:href=\"#DejaVuSans-48\"/>\n       <use x=\"127.246094\" xlink:href=\"#DejaVuSans-48\"/>\n      </g>\n     </g>\n    </g>\n    <g id=\"xtick_5\">\n     <g id=\"line2d_5\">\n      <g>\n       <use style=\"stroke:#000000;stroke-width:0.8;\" x=\"317.476263\" xlink:href=\"#m930877e2b9\" y=\"224.64\"/>\n      </g>\n     </g>\n     <g id=\"text_5\">\n      <!-- 800 -->\n      <g transform=\"translate(307.932513 239.238438)scale(0.1 -0.1)\">\n       <defs>\n        <path d=\"M 31.78125 34.625 \nQ 24.75 34.625 20.71875 30.859375 \nQ 16.703125 27.09375 16.703125 20.515625 \nQ 16.703125 13.921875 20.71875 10.15625 \nQ 24.75 6.390625 31.78125 6.390625 \nQ 38.8125 6.390625 42.859375 10.171875 \nQ 46.921875 13.96875 46.921875 20.515625 \nQ 46.921875 27.09375 42.890625 30.859375 \nQ 38.875 34.625 31.78125 34.625 \nz\nM 21.921875 38.8125 \nQ 15.578125 40.375 12.03125 44.71875 \nQ 8.5 49.078125 8.5 55.328125 \nQ 8.5 64.0625 14.71875 69.140625 \nQ 20.953125 74.21875 31.78125 74.21875 \nQ 42.671875 74.21875 48.875 69.140625 \nQ 55.078125 64.0625 55.078125 55.328125 \nQ 55.078125 49.078125 51.53125 44.71875 \nQ 48 40.375 41.703125 38.8125 \nQ 48.828125 37.15625 52.796875 32.3125 \nQ 56.78125 27.484375 56.78125 20.515625 \nQ 56.78125 9.90625 50.3125 4.234375 \nQ 43.84375 -1.421875 31.78125 -1.421875 \nQ 19.734375 -1.421875 13.25 4.234375 \nQ 6.78125 9.90625 6.78125 20.515625 \nQ 6.78125 27.484375 10.78125 32.3125 \nQ 14.796875 37.15625 21.921875 38.8125 \nz\nM 18.3125 54.390625 \nQ 18.3125 48.734375 21.84375 45.5625 \nQ 25.390625 42.390625 31.78125 42.390625 \nQ 38.140625 42.390625 41.71875 45.5625 \nQ 45.3125 48.734375 45.3125 54.390625 \nQ 45.3125 60.0625 41.71875 63.234375 \nQ 38.140625 66.40625 31.78125 66.40625 \nQ 25.390625 66.40625 21.84375 63.234375 \nQ 18.3125 60.0625 18.3125 54.390625 \nz\n\" id=\"DejaVuSans-56\"/>\n       </defs>\n       <use xlink:href=\"#DejaVuSans-56\"/>\n       <use x=\"63.623047\" xlink:href=\"#DejaVuSans-48\"/>\n       <use x=\"127.246094\" xlink:href=\"#DejaVuSans-48\"/>\n      </g>\n     </g>\n    </g>\n    <g id=\"xtick_6\">\n     <g id=\"line2d_6\">\n      <g>\n       <use style=\"stroke:#000000;stroke-width:0.8;\" x=\"378.409924\" xlink:href=\"#m930877e2b9\" y=\"224.64\"/>\n      </g>\n     </g>\n     <g id=\"text_6\">\n      <!-- 1000 -->\n      <g transform=\"translate(365.684924 239.238438)scale(0.1 -0.1)\">\n       <defs>\n        <path d=\"M 12.40625 8.296875 \nL 28.515625 8.296875 \nL 28.515625 63.921875 \nL 10.984375 60.40625 \nL 10.984375 69.390625 \nL 28.421875 72.90625 \nL 38.28125 72.90625 \nL 38.28125 8.296875 \nL 54.390625 8.296875 \nL 54.390625 0 \nL 12.40625 0 \nz\n\" id=\"DejaVuSans-49\"/>\n       </defs>\n       <use xlink:href=\"#DejaVuSans-49\"/>\n       <use x=\"63.623047\" xlink:href=\"#DejaVuSans-48\"/>\n       <use x=\"127.246094\" xlink:href=\"#DejaVuSans-48\"/>\n       <use x=\"190.869141\" xlink:href=\"#DejaVuSans-48\"/>\n      </g>\n     </g>\n    </g>\n    <g id=\"text_7\">\n     <!-- Iterations -->\n     <g transform=\"translate(202.110156 252.916563)scale(0.1 -0.1)\">\n      <defs>\n       <path d=\"M 9.8125 72.90625 \nL 19.671875 72.90625 \nL 19.671875 0 \nL 9.8125 0 \nz\n\" id=\"DejaVuSans-73\"/>\n       <path d=\"M 18.3125 70.21875 \nL 18.3125 54.6875 \nL 36.8125 54.6875 \nL 36.8125 47.703125 \nL 18.3125 47.703125 \nL 18.3125 18.015625 \nQ 18.3125 11.328125 20.140625 9.421875 \nQ 21.96875 7.515625 27.59375 7.515625 \nL 36.8125 7.515625 \nL 36.8125 0 \nL 27.59375 0 \nQ 17.1875 0 13.234375 3.875 \nQ 9.28125 7.765625 9.28125 18.015625 \nL 9.28125 47.703125 \nL 2.6875 47.703125 \nL 2.6875 54.6875 \nL 9.28125 54.6875 \nL 9.28125 70.21875 \nz\n\" id=\"DejaVuSans-116\"/>\n       <path d=\"M 56.203125 29.59375 \nL 56.203125 25.203125 \nL 14.890625 25.203125 \nQ 15.484375 15.921875 20.484375 11.0625 \nQ 25.484375 6.203125 34.421875 6.203125 \nQ 39.59375 6.203125 44.453125 7.46875 \nQ 49.3125 8.734375 54.109375 11.28125 \nL 54.109375 2.78125 \nQ 49.265625 0.734375 44.1875 -0.34375 \nQ 39.109375 -1.421875 33.890625 -1.421875 \nQ 20.796875 -1.421875 13.15625 6.1875 \nQ 5.515625 13.8125 5.515625 26.8125 \nQ 5.515625 40.234375 12.765625 48.109375 \nQ 20.015625 56 32.328125 56 \nQ 43.359375 56 49.78125 48.890625 \nQ 56.203125 41.796875 56.203125 29.59375 \nz\nM 47.21875 32.234375 \nQ 47.125 39.59375 43.09375 43.984375 \nQ 39.0625 48.390625 32.421875 48.390625 \nQ 24.90625 48.390625 20.390625 44.140625 \nQ 15.875 39.890625 15.1875 32.171875 \nz\n\" id=\"DejaVuSans-101\"/>\n       <path d=\"M 41.109375 46.296875 \nQ 39.59375 47.171875 37.8125 47.578125 \nQ 36.03125 48 33.890625 48 \nQ 26.265625 48 22.1875 43.046875 \nQ 18.109375 38.09375 18.109375 28.8125 \nL 18.109375 0 \nL 9.078125 0 \nL 9.078125 54.6875 \nL 18.109375 54.6875 \nL 18.109375 46.1875 \nQ 20.953125 51.171875 25.484375 53.578125 \nQ 30.03125 56 36.53125 56 \nQ 37.453125 56 38.578125 55.875 \nQ 39.703125 55.765625 41.0625 55.515625 \nz\n\" id=\"DejaVuSans-114\"/>\n       <path d=\"M 34.28125 27.484375 \nQ 23.390625 27.484375 19.1875 25 \nQ 14.984375 22.515625 14.984375 16.5 \nQ 14.984375 11.71875 18.140625 8.90625 \nQ 21.296875 6.109375 26.703125 6.109375 \nQ 34.1875 6.109375 38.703125 11.40625 \nQ 43.21875 16.703125 43.21875 25.484375 \nL 43.21875 27.484375 \nz\nM 52.203125 31.203125 \nL 52.203125 0 \nL 43.21875 0 \nL 43.21875 8.296875 \nQ 40.140625 3.328125 35.546875 0.953125 \nQ 30.953125 -1.421875 24.3125 -1.421875 \nQ 15.921875 -1.421875 10.953125 3.296875 \nQ 6 8.015625 6 15.921875 \nQ 6 25.140625 12.171875 29.828125 \nQ 18.359375 34.515625 30.609375 34.515625 \nL 43.21875 34.515625 \nL 43.21875 35.40625 \nQ 43.21875 41.609375 39.140625 45 \nQ 35.0625 48.390625 27.6875 48.390625 \nQ 23 48.390625 18.546875 47.265625 \nQ 14.109375 46.140625 10.015625 43.890625 \nL 10.015625 52.203125 \nQ 14.9375 54.109375 19.578125 55.046875 \nQ 24.21875 56 28.609375 56 \nQ 40.484375 56 46.34375 49.84375 \nQ 52.203125 43.703125 52.203125 31.203125 \nz\n\" id=\"DejaVuSans-97\"/>\n       <path d=\"M 9.421875 54.6875 \nL 18.40625 54.6875 \nL 18.40625 0 \nL 9.421875 0 \nz\nM 9.421875 75.984375 \nL 18.40625 75.984375 \nL 18.40625 64.59375 \nL 9.421875 64.59375 \nz\n\" id=\"DejaVuSans-105\"/>\n       <path d=\"M 30.609375 48.390625 \nQ 23.390625 48.390625 19.1875 42.75 \nQ 14.984375 37.109375 14.984375 27.296875 \nQ 14.984375 17.484375 19.15625 11.84375 \nQ 23.34375 6.203125 30.609375 6.203125 \nQ 37.796875 6.203125 41.984375 11.859375 \nQ 46.1875 17.53125 46.1875 27.296875 \nQ 46.1875 37.015625 41.984375 42.703125 \nQ 37.796875 48.390625 30.609375 48.390625 \nz\nM 30.609375 56 \nQ 42.328125 56 49.015625 48.375 \nQ 55.71875 40.765625 55.71875 27.296875 \nQ 55.71875 13.875 49.015625 6.21875 \nQ 42.328125 -1.421875 30.609375 -1.421875 \nQ 18.84375 -1.421875 12.171875 6.21875 \nQ 5.515625 13.875 5.515625 27.296875 \nQ 5.515625 40.765625 12.171875 48.375 \nQ 18.84375 56 30.609375 56 \nz\n\" id=\"DejaVuSans-111\"/>\n       <path d=\"M 54.890625 33.015625 \nL 54.890625 0 \nL 45.90625 0 \nL 45.90625 32.71875 \nQ 45.90625 40.484375 42.875 44.328125 \nQ 39.84375 48.1875 33.796875 48.1875 \nQ 26.515625 48.1875 22.3125 43.546875 \nQ 18.109375 38.921875 18.109375 30.90625 \nL 18.109375 0 \nL 9.078125 0 \nL 9.078125 54.6875 \nL 18.109375 54.6875 \nL 18.109375 46.1875 \nQ 21.34375 51.125 25.703125 53.5625 \nQ 30.078125 56 35.796875 56 \nQ 45.21875 56 50.046875 50.171875 \nQ 54.890625 44.34375 54.890625 33.015625 \nz\n\" id=\"DejaVuSans-110\"/>\n       <path d=\"M 44.28125 53.078125 \nL 44.28125 44.578125 \nQ 40.484375 46.53125 36.375 47.5 \nQ 32.28125 48.484375 27.875 48.484375 \nQ 21.1875 48.484375 17.84375 46.4375 \nQ 14.5 44.390625 14.5 40.28125 \nQ 14.5 37.15625 16.890625 35.375 \nQ 19.28125 33.59375 26.515625 31.984375 \nL 29.59375 31.296875 \nQ 39.15625 29.25 43.1875 25.515625 \nQ 47.21875 21.78125 47.21875 15.09375 \nQ 47.21875 7.46875 41.1875 3.015625 \nQ 35.15625 -1.421875 24.609375 -1.421875 \nQ 20.21875 -1.421875 15.453125 -0.5625 \nQ 10.6875 0.296875 5.421875 2 \nL 5.421875 11.28125 \nQ 10.40625 8.6875 15.234375 7.390625 \nQ 20.0625 6.109375 24.8125 6.109375 \nQ 31.15625 6.109375 34.5625 8.28125 \nQ 37.984375 10.453125 37.984375 14.40625 \nQ 37.984375 18.0625 35.515625 20.015625 \nQ 33.0625 21.96875 24.703125 23.78125 \nL 21.578125 24.515625 \nQ 13.234375 26.265625 9.515625 29.90625 \nQ 5.8125 33.546875 5.8125 39.890625 \nQ 5.8125 47.609375 11.28125 51.796875 \nQ 16.75 56 26.8125 56 \nQ 31.78125 56 36.171875 55.265625 \nQ 40.578125 54.546875 44.28125 53.078125 \nz\n\" id=\"DejaVuSans-115\"/>\n      </defs>\n      <use xlink:href=\"#DejaVuSans-73\"/>\n      <use x=\"29.492188\" xlink:href=\"#DejaVuSans-116\"/>\n      <use x=\"68.701172\" xlink:href=\"#DejaVuSans-101\"/>\n      <use x=\"130.224609\" xlink:href=\"#DejaVuSans-114\"/>\n      <use x=\"171.337891\" xlink:href=\"#DejaVuSans-97\"/>\n      <use x=\"232.617188\" xlink:href=\"#DejaVuSans-116\"/>\n      <use x=\"271.826172\" xlink:href=\"#DejaVuSans-105\"/>\n      <use x=\"299.609375\" xlink:href=\"#DejaVuSans-111\"/>\n      <use x=\"360.791016\" xlink:href=\"#DejaVuSans-110\"/>\n      <use x=\"424.169922\" xlink:href=\"#DejaVuSans-115\"/>\n     </g>\n    </g>\n   </g>\n   <g id=\"matplotlib.axis_2\">\n    <g id=\"ytick_1\">\n     <g id=\"line2d_7\">\n      <defs>\n       <path d=\"M 0 0 \nL -3.5 0 \n\" id=\"mdbf4c667cf\" style=\"stroke:#000000;stroke-width:0.8;\"/>\n      </defs>\n      <g>\n       <use style=\"stroke:#000000;stroke-width:0.8;\" x=\"58.523438\" xlink:href=\"#mdbf4c667cf\" y=\"202.138831\"/>\n      </g>\n     </g>\n     <g id=\"text_8\">\n      <!-- −0.55 -->\n      <g transform=\"translate(20.878125 205.93805)scale(0.1 -0.1)\">\n       <defs>\n        <path d=\"M 10.59375 35.5 \nL 73.1875 35.5 \nL 73.1875 27.203125 \nL 10.59375 27.203125 \nz\n\" id=\"DejaVuSans-8722\"/>\n        <path d=\"M 10.6875 12.40625 \nL 21 12.40625 \nL 21 0 \nL 10.6875 0 \nz\n\" id=\"DejaVuSans-46\"/>\n        <path d=\"M 10.796875 72.90625 \nL 49.515625 72.90625 \nL 49.515625 64.59375 \nL 19.828125 64.59375 \nL 19.828125 46.734375 \nQ 21.96875 47.46875 24.109375 47.828125 \nQ 26.265625 48.1875 28.421875 48.1875 \nQ 40.625 48.1875 47.75 41.5 \nQ 54.890625 34.8125 54.890625 23.390625 \nQ 54.890625 11.625 47.5625 5.09375 \nQ 40.234375 -1.421875 26.90625 -1.421875 \nQ 22.3125 -1.421875 17.546875 -0.640625 \nQ 12.796875 0.140625 7.71875 1.703125 \nL 7.71875 11.625 \nQ 12.109375 9.234375 16.796875 8.0625 \nQ 21.484375 6.890625 26.703125 6.890625 \nQ 35.15625 6.890625 40.078125 11.328125 \nQ 45.015625 15.765625 45.015625 23.390625 \nQ 45.015625 31 40.078125 35.4375 \nQ 35.15625 39.890625 26.703125 39.890625 \nQ 22.75 39.890625 18.8125 39.015625 \nQ 14.890625 38.140625 10.796875 36.28125 \nz\n\" id=\"DejaVuSans-53\"/>\n       </defs>\n       <use xlink:href=\"#DejaVuSans-8722\"/>\n       <use x=\"83.789062\" xlink:href=\"#DejaVuSans-48\"/>\n       <use x=\"147.412109\" xlink:href=\"#DejaVuSans-46\"/>\n       <use x=\"179.199219\" xlink:href=\"#DejaVuSans-53\"/>\n       <use x=\"242.822266\" xlink:href=\"#DejaVuSans-53\"/>\n      </g>\n     </g>\n    </g>\n    <g id=\"ytick_2\">\n     <g id=\"line2d_8\">\n      <g>\n       <use style=\"stroke:#000000;stroke-width:0.8;\" x=\"58.523438\" xlink:href=\"#mdbf4c667cf\" y=\"160.243191\"/>\n      </g>\n     </g>\n     <g id=\"text_9\">\n      <!-- −0.50 -->\n      <g transform=\"translate(20.878125 164.04241)scale(0.1 -0.1)\">\n       <use xlink:href=\"#DejaVuSans-8722\"/>\n       <use x=\"83.789062\" xlink:href=\"#DejaVuSans-48\"/>\n       <use x=\"147.412109\" xlink:href=\"#DejaVuSans-46\"/>\n       <use x=\"179.199219\" xlink:href=\"#DejaVuSans-53\"/>\n       <use x=\"242.822266\" xlink:href=\"#DejaVuSans-48\"/>\n      </g>\n     </g>\n    </g>\n    <g id=\"ytick_3\">\n     <g id=\"line2d_9\">\n      <g>\n       <use style=\"stroke:#000000;stroke-width:0.8;\" x=\"58.523438\" xlink:href=\"#mdbf4c667cf\" y=\"118.34755\"/>\n      </g>\n     </g>\n     <g id=\"text_10\">\n      <!-- −0.45 -->\n      <g transform=\"translate(20.878125 122.146769)scale(0.1 -0.1)\">\n       <use xlink:href=\"#DejaVuSans-8722\"/>\n       <use x=\"83.789062\" xlink:href=\"#DejaVuSans-48\"/>\n       <use x=\"147.412109\" xlink:href=\"#DejaVuSans-46\"/>\n       <use x=\"179.199219\" xlink:href=\"#DejaVuSans-52\"/>\n       <use x=\"242.822266\" xlink:href=\"#DejaVuSans-53\"/>\n      </g>\n     </g>\n    </g>\n    <g id=\"ytick_4\">\n     <g id=\"line2d_10\">\n      <g>\n       <use style=\"stroke:#000000;stroke-width:0.8;\" x=\"58.523438\" xlink:href=\"#mdbf4c667cf\" y=\"76.45191\"/>\n      </g>\n     </g>\n     <g id=\"text_11\">\n      <!-- −0.40 -->\n      <g transform=\"translate(20.878125 80.251129)scale(0.1 -0.1)\">\n       <use xlink:href=\"#DejaVuSans-8722\"/>\n       <use x=\"83.789062\" xlink:href=\"#DejaVuSans-48\"/>\n       <use x=\"147.412109\" xlink:href=\"#DejaVuSans-46\"/>\n       <use x=\"179.199219\" xlink:href=\"#DejaVuSans-52\"/>\n       <use x=\"242.822266\" xlink:href=\"#DejaVuSans-48\"/>\n      </g>\n     </g>\n    </g>\n    <g id=\"ytick_5\">\n     <g id=\"line2d_11\">\n      <g>\n       <use style=\"stroke:#000000;stroke-width:0.8;\" x=\"58.523438\" xlink:href=\"#mdbf4c667cf\" y=\"34.556269\"/>\n      </g>\n     </g>\n     <g id=\"text_12\">\n      <!-- −0.35 -->\n      <g transform=\"translate(20.878125 38.355488)scale(0.1 -0.1)\">\n       <defs>\n        <path d=\"M 40.578125 39.3125 \nQ 47.65625 37.796875 51.625 33 \nQ 55.609375 28.21875 55.609375 21.1875 \nQ 55.609375 10.40625 48.1875 4.484375 \nQ 40.765625 -1.421875 27.09375 -1.421875 \nQ 22.515625 -1.421875 17.65625 -0.515625 \nQ 12.796875 0.390625 7.625 2.203125 \nL 7.625 11.71875 \nQ 11.71875 9.328125 16.59375 8.109375 \nQ 21.484375 6.890625 26.8125 6.890625 \nQ 36.078125 6.890625 40.9375 10.546875 \nQ 45.796875 14.203125 45.796875 21.1875 \nQ 45.796875 27.640625 41.28125 31.265625 \nQ 36.765625 34.90625 28.71875 34.90625 \nL 20.21875 34.90625 \nL 20.21875 43.015625 \nL 29.109375 43.015625 \nQ 36.375 43.015625 40.234375 45.921875 \nQ 44.09375 48.828125 44.09375 54.296875 \nQ 44.09375 59.90625 40.109375 62.90625 \nQ 36.140625 65.921875 28.71875 65.921875 \nQ 24.65625 65.921875 20.015625 65.03125 \nQ 15.375 64.15625 9.8125 62.3125 \nL 9.8125 71.09375 \nQ 15.4375 72.65625 20.34375 73.4375 \nQ 25.25 74.21875 29.59375 74.21875 \nQ 40.828125 74.21875 47.359375 69.109375 \nQ 53.90625 64.015625 53.90625 55.328125 \nQ 53.90625 49.265625 50.4375 45.09375 \nQ 46.96875 40.921875 40.578125 39.3125 \nz\n\" id=\"DejaVuSans-51\"/>\n       </defs>\n       <use xlink:href=\"#DejaVuSans-8722\"/>\n       <use x=\"83.789062\" xlink:href=\"#DejaVuSans-48\"/>\n       <use x=\"147.412109\" xlink:href=\"#DejaVuSans-46\"/>\n       <use x=\"179.199219\" xlink:href=\"#DejaVuSans-51\"/>\n       <use x=\"242.822266\" xlink:href=\"#DejaVuSans-53\"/>\n      </g>\n     </g>\n    </g>\n    <g id=\"text_13\">\n     <!-- l(Theta) -->\n     <g transform=\"translate(14.798438 135.534063)rotate(-90)scale(0.1 -0.1)\">\n      <defs>\n       <path d=\"M 9.421875 75.984375 \nL 18.40625 75.984375 \nL 18.40625 0 \nL 9.421875 0 \nz\n\" id=\"DejaVuSans-108\"/>\n       <path d=\"M 31 75.875 \nQ 24.46875 64.65625 21.28125 53.65625 \nQ 18.109375 42.671875 18.109375 31.390625 \nQ 18.109375 20.125 21.3125 9.0625 \nQ 24.515625 -2 31 -13.1875 \nL 23.1875 -13.1875 \nQ 15.875 -1.703125 12.234375 9.375 \nQ 8.59375 20.453125 8.59375 31.390625 \nQ 8.59375 42.28125 12.203125 53.3125 \nQ 15.828125 64.359375 23.1875 75.875 \nz\n\" id=\"DejaVuSans-40\"/>\n       <path d=\"M -0.296875 72.90625 \nL 61.375 72.90625 \nL 61.375 64.59375 \nL 35.5 64.59375 \nL 35.5 0 \nL 25.59375 0 \nL 25.59375 64.59375 \nL -0.296875 64.59375 \nz\n\" id=\"DejaVuSans-84\"/>\n       <path d=\"M 54.890625 33.015625 \nL 54.890625 0 \nL 45.90625 0 \nL 45.90625 32.71875 \nQ 45.90625 40.484375 42.875 44.328125 \nQ 39.84375 48.1875 33.796875 48.1875 \nQ 26.515625 48.1875 22.3125 43.546875 \nQ 18.109375 38.921875 18.109375 30.90625 \nL 18.109375 0 \nL 9.078125 0 \nL 9.078125 75.984375 \nL 18.109375 75.984375 \nL 18.109375 46.1875 \nQ 21.34375 51.125 25.703125 53.5625 \nQ 30.078125 56 35.796875 56 \nQ 45.21875 56 50.046875 50.171875 \nQ 54.890625 44.34375 54.890625 33.015625 \nz\n\" id=\"DejaVuSans-104\"/>\n       <path d=\"M 8.015625 75.875 \nL 15.828125 75.875 \nQ 23.140625 64.359375 26.78125 53.3125 \nQ 30.421875 42.28125 30.421875 31.390625 \nQ 30.421875 20.453125 26.78125 9.375 \nQ 23.140625 -1.703125 15.828125 -13.1875 \nL 8.015625 -13.1875 \nQ 14.5 -2 17.703125 9.0625 \nQ 20.90625 20.125 20.90625 31.390625 \nQ 20.90625 42.671875 17.703125 53.65625 \nQ 14.5 64.65625 8.015625 75.875 \nz\n\" id=\"DejaVuSans-41\"/>\n      </defs>\n      <use xlink:href=\"#DejaVuSans-108\"/>\n      <use x=\"27.783203\" xlink:href=\"#DejaVuSans-40\"/>\n      <use x=\"66.796875\" xlink:href=\"#DejaVuSans-84\"/>\n      <use x=\"127.880859\" xlink:href=\"#DejaVuSans-104\"/>\n      <use x=\"191.259766\" xlink:href=\"#DejaVuSans-101\"/>\n      <use x=\"252.783203\" xlink:href=\"#DejaVuSans-116\"/>\n      <use x=\"291.992188\" xlink:href=\"#DejaVuSans-97\"/>\n      <use x=\"353.271484\" xlink:href=\"#DejaVuSans-41\"/>\n     </g>\n    </g>\n   </g>\n   <g id=\"line2d_12\">\n    <defs>\n     <path d=\"M 0 1.5 \nC 0.397805 1.5 0.77937 1.341951 1.06066 1.06066 \nC 1.341951 0.77937 1.5 0.397805 1.5 0 \nC 1.5 -0.397805 1.341951 -0.77937 1.06066 -1.06066 \nC 0.77937 -1.341951 0.397805 -1.5 0 -1.5 \nC -0.397805 -1.5 -0.77937 -1.341951 -1.06066 -1.06066 \nC -1.341951 -0.77937 -1.5 -0.397805 -1.5 0 \nC -1.5 0.397805 -1.341951 0.77937 -1.06066 1.06066 \nC -0.77937 1.341951 -0.397805 1.5 0 1.5 \nz\n\" id=\"m3ada581ca7\" style=\"stroke:#0000ff;\"/>\n    </defs>\n    <g clip-path=\"url(#padf352fed1)\">\n     <use style=\"fill:#0000ff;stroke:#0000ff;\" x=\"73.741619\" xlink:href=\"#m3ada581ca7\" y=\"214.756364\"/>\n     <use style=\"fill:#0000ff;stroke:#0000ff;\" x=\"74.046288\" xlink:href=\"#m3ada581ca7\" y=\"162.785725\"/>\n     <use style=\"fill:#0000ff;stroke:#0000ff;\" x=\"74.350956\" xlink:href=\"#m3ada581ca7\" y=\"136.66948\"/>\n     <use style=\"fill:#0000ff;stroke:#0000ff;\" x=\"74.655624\" xlink:href=\"#m3ada581ca7\" y=\"108.134952\"/>\n     <use style=\"fill:#0000ff;stroke:#0000ff;\" x=\"74.960293\" xlink:href=\"#m3ada581ca7\" y=\"94.377792\"/>\n     <use style=\"fill:#0000ff;stroke:#0000ff;\" x=\"75.264961\" xlink:href=\"#m3ada581ca7\" y=\"84.245784\"/>\n     <use style=\"fill:#0000ff;stroke:#0000ff;\" x=\"75.569629\" xlink:href=\"#m3ada581ca7\" y=\"78.554581\"/>\n     <use style=\"fill:#0000ff;stroke:#0000ff;\" x=\"75.874297\" xlink:href=\"#m3ada581ca7\" y=\"74.582405\"/>\n     <use style=\"fill:#0000ff;stroke:#0000ff;\" x=\"76.178966\" xlink:href=\"#m3ada581ca7\" y=\"71.608119\"/>\n     <use style=\"fill:#0000ff;stroke:#0000ff;\" x=\"76.483634\" xlink:href=\"#m3ada581ca7\" y=\"69.177678\"/>\n     <use style=\"fill:#0000ff;stroke:#0000ff;\" x=\"76.788302\" xlink:href=\"#m3ada581ca7\" y=\"67.103253\"/>\n     <use style=\"fill:#0000ff;stroke:#0000ff;\" x=\"77.092971\" xlink:href=\"#m3ada581ca7\" y=\"65.283383\"/>\n     <use style=\"fill:#0000ff;stroke:#0000ff;\" x=\"77.397639\" xlink:href=\"#m3ada581ca7\" y=\"63.655859\"/>\n     <use style=\"fill:#0000ff;stroke:#0000ff;\" x=\"77.702307\" xlink:href=\"#m3ada581ca7\" y=\"62.17812\"/>\n     <use style=\"fill:#0000ff;stroke:#0000ff;\" x=\"78.006976\" xlink:href=\"#m3ada581ca7\" y=\"60.819578\"/>\n     <use style=\"fill:#0000ff;stroke:#0000ff;\" x=\"78.311644\" xlink:href=\"#m3ada581ca7\" y=\"59.557681\"/>\n     <use style=\"fill:#0000ff;stroke:#0000ff;\" x=\"78.616312\" xlink:href=\"#m3ada581ca7\" y=\"58.375516\"/>\n     <use style=\"fill:#0000ff;stroke:#0000ff;\" x=\"78.92098\" xlink:href=\"#m3ada581ca7\" y=\"57.260224\"/>\n     <use style=\"fill:#0000ff;stroke:#0000ff;\" x=\"79.225649\" xlink:href=\"#m3ada581ca7\" y=\"56.201907\"/>\n     <use style=\"fill:#0000ff;stroke:#0000ff;\" x=\"79.530317\" xlink:href=\"#m3ada581ca7\" y=\"55.192855\"/>\n     <use style=\"fill:#0000ff;stroke:#0000ff;\" x=\"79.834985\" xlink:href=\"#m3ada581ca7\" y=\"54.227\"/>\n     <use style=\"fill:#0000ff;stroke:#0000ff;\" x=\"80.139654\" xlink:href=\"#m3ada581ca7\" y=\"53.299515\"/>\n     <use style=\"fill:#0000ff;stroke:#0000ff;\" x=\"80.444322\" xlink:href=\"#m3ada581ca7\" y=\"52.406516\"/>\n     <use style=\"fill:#0000ff;stroke:#0000ff;\" x=\"80.74899\" xlink:href=\"#m3ada581ca7\" y=\"51.54485\"/>\n     <use style=\"fill:#0000ff;stroke:#0000ff;\" x=\"81.053659\" xlink:href=\"#m3ada581ca7\" y=\"50.711929\"/>\n     <use style=\"fill:#0000ff;stroke:#0000ff;\" x=\"81.358327\" xlink:href=\"#m3ada581ca7\" y=\"49.905603\"/>\n     <use style=\"fill:#0000ff;stroke:#0000ff;\" x=\"81.662995\" xlink:href=\"#m3ada581ca7\" y=\"49.124073\"/>\n     <use style=\"fill:#0000ff;stroke:#0000ff;\" x=\"81.967664\" xlink:href=\"#m3ada581ca7\" y=\"48.36581\"/>\n     <use style=\"fill:#0000ff;stroke:#0000ff;\" x=\"82.272332\" xlink:href=\"#m3ada581ca7\" y=\"47.629507\"/>\n     <use style=\"fill:#0000ff;stroke:#0000ff;\" x=\"82.577\" xlink:href=\"#m3ada581ca7\" y=\"46.91403\"/>\n     <use style=\"fill:#0000ff;stroke:#0000ff;\" x=\"82.881668\" xlink:href=\"#m3ada581ca7\" y=\"46.218385\"/>\n     <use style=\"fill:#0000ff;stroke:#0000ff;\" x=\"83.186337\" xlink:href=\"#m3ada581ca7\" y=\"45.541695\"/>\n     <use style=\"fill:#0000ff;stroke:#0000ff;\" x=\"83.491005\" xlink:href=\"#m3ada581ca7\" y=\"44.883172\"/>\n     <use style=\"fill:#0000ff;stroke:#0000ff;\" x=\"83.795673\" xlink:href=\"#m3ada581ca7\" y=\"44.242109\"/>\n     <use style=\"fill:#0000ff;stroke:#0000ff;\" x=\"84.100342\" xlink:href=\"#m3ada581ca7\" y=\"43.617858\"/>\n     <use style=\"fill:#0000ff;stroke:#0000ff;\" x=\"84.40501\" xlink:href=\"#m3ada581ca7\" y=\"43.009828\"/>\n     <use style=\"fill:#0000ff;stroke:#0000ff;\" x=\"84.709678\" xlink:href=\"#m3ada581ca7\" y=\"42.417468\"/>\n     <use style=\"fill:#0000ff;stroke:#0000ff;\" x=\"85.014347\" xlink:href=\"#m3ada581ca7\" y=\"41.840267\"/>\n     <use style=\"fill:#0000ff;stroke:#0000ff;\" x=\"85.319015\" xlink:href=\"#m3ada581ca7\" y=\"41.277745\"/>\n     <use style=\"fill:#0000ff;stroke:#0000ff;\" x=\"85.623683\" xlink:href=\"#m3ada581ca7\" y=\"40.729451\"/>\n     <use style=\"fill:#0000ff;stroke:#0000ff;\" x=\"85.928352\" xlink:href=\"#m3ada581ca7\" y=\"40.194955\"/>\n     <use style=\"fill:#0000ff;stroke:#0000ff;\" x=\"86.23302\" xlink:href=\"#m3ada581ca7\" y=\"39.673852\"/>\n     <use style=\"fill:#0000ff;stroke:#0000ff;\" x=\"86.537688\" xlink:href=\"#m3ada581ca7\" y=\"39.165752\"/>\n     <use style=\"fill:#0000ff;stroke:#0000ff;\" x=\"86.842356\" xlink:href=\"#m3ada581ca7\" y=\"38.670283\"/>\n     <use style=\"fill:#0000ff;stroke:#0000ff;\" x=\"87.147025\" xlink:href=\"#m3ada581ca7\" y=\"38.187089\"/>\n     <use style=\"fill:#0000ff;stroke:#0000ff;\" x=\"87.451693\" xlink:href=\"#m3ada581ca7\" y=\"37.715827\"/>\n     <use style=\"fill:#0000ff;stroke:#0000ff;\" x=\"87.756361\" xlink:href=\"#m3ada581ca7\" y=\"37.256167\"/>\n     <use style=\"fill:#0000ff;stroke:#0000ff;\" x=\"88.06103\" xlink:href=\"#m3ada581ca7\" y=\"36.807789\"/>\n     <use style=\"fill:#0000ff;stroke:#0000ff;\" x=\"88.365698\" xlink:href=\"#m3ada581ca7\" y=\"36.370386\"/>\n     <use style=\"fill:#0000ff;stroke:#0000ff;\" x=\"88.670366\" xlink:href=\"#m3ada581ca7\" y=\"35.943659\"/>\n     <use style=\"fill:#0000ff;stroke:#0000ff;\" x=\"88.975035\" xlink:href=\"#m3ada581ca7\" y=\"35.527321\"/>\n     <use style=\"fill:#0000ff;stroke:#0000ff;\" x=\"89.279703\" xlink:href=\"#m3ada581ca7\" y=\"35.121092\"/>\n     <use style=\"fill:#0000ff;stroke:#0000ff;\" x=\"89.584371\" xlink:href=\"#m3ada581ca7\" y=\"34.724702\"/>\n     <use style=\"fill:#0000ff;stroke:#0000ff;\" x=\"89.889039\" xlink:href=\"#m3ada581ca7\" y=\"34.337888\"/>\n     <use style=\"fill:#0000ff;stroke:#0000ff;\" x=\"90.193708\" xlink:href=\"#m3ada581ca7\" y=\"33.960396\"/>\n     <use style=\"fill:#0000ff;stroke:#0000ff;\" x=\"90.498376\" xlink:href=\"#m3ada581ca7\" y=\"33.591978\"/>\n     <use style=\"fill:#0000ff;stroke:#0000ff;\" x=\"90.803044\" xlink:href=\"#m3ada581ca7\" y=\"33.232395\"/>\n     <use style=\"fill:#0000ff;stroke:#0000ff;\" x=\"91.107713\" xlink:href=\"#m3ada581ca7\" y=\"32.881415\"/>\n     <use style=\"fill:#0000ff;stroke:#0000ff;\" x=\"91.412381\" xlink:href=\"#m3ada581ca7\" y=\"32.53881\"/>\n     <use style=\"fill:#0000ff;stroke:#0000ff;\" x=\"91.717049\" xlink:href=\"#m3ada581ca7\" y=\"32.204361\"/>\n     <use style=\"fill:#0000ff;stroke:#0000ff;\" x=\"92.021718\" xlink:href=\"#m3ada581ca7\" y=\"31.877855\"/>\n     <use style=\"fill:#0000ff;stroke:#0000ff;\" x=\"92.326386\" xlink:href=\"#m3ada581ca7\" y=\"31.559084\"/>\n     <use style=\"fill:#0000ff;stroke:#0000ff;\" x=\"92.631054\" xlink:href=\"#m3ada581ca7\" y=\"31.247848\"/>\n     <use style=\"fill:#0000ff;stroke:#0000ff;\" x=\"92.935723\" xlink:href=\"#m3ada581ca7\" y=\"30.943949\"/>\n     <use style=\"fill:#0000ff;stroke:#0000ff;\" x=\"93.240391\" xlink:href=\"#m3ada581ca7\" y=\"30.647199\"/>\n     <use style=\"fill:#0000ff;stroke:#0000ff;\" x=\"93.545059\" xlink:href=\"#m3ada581ca7\" y=\"30.357412\"/>\n     <use style=\"fill:#0000ff;stroke:#0000ff;\" x=\"93.849727\" xlink:href=\"#m3ada581ca7\" y=\"30.074409\"/>\n     <use style=\"fill:#0000ff;stroke:#0000ff;\" x=\"94.154396\" xlink:href=\"#m3ada581ca7\" y=\"29.798014\"/>\n     <use style=\"fill:#0000ff;stroke:#0000ff;\" x=\"94.459064\" xlink:href=\"#m3ada581ca7\" y=\"29.528058\"/>\n     <use style=\"fill:#0000ff;stroke:#0000ff;\" x=\"94.763732\" xlink:href=\"#m3ada581ca7\" y=\"29.264376\"/>\n     <use style=\"fill:#0000ff;stroke:#0000ff;\" x=\"95.068401\" xlink:href=\"#m3ada581ca7\" y=\"29.006808\"/>\n     <use style=\"fill:#0000ff;stroke:#0000ff;\" x=\"95.373069\" xlink:href=\"#m3ada581ca7\" y=\"28.755198\"/>\n     <use style=\"fill:#0000ff;stroke:#0000ff;\" x=\"95.677737\" xlink:href=\"#m3ada581ca7\" y=\"28.509393\"/>\n     <use style=\"fill:#0000ff;stroke:#0000ff;\" x=\"95.982406\" xlink:href=\"#m3ada581ca7\" y=\"28.269246\"/>\n     <use style=\"fill:#0000ff;stroke:#0000ff;\" x=\"96.287074\" xlink:href=\"#m3ada581ca7\" y=\"28.034615\"/>\n     <use style=\"fill:#0000ff;stroke:#0000ff;\" x=\"96.591742\" xlink:href=\"#m3ada581ca7\" y=\"27.805359\"/>\n     <use style=\"fill:#0000ff;stroke:#0000ff;\" x=\"96.89641\" xlink:href=\"#m3ada581ca7\" y=\"27.581344\"/>\n     <use style=\"fill:#0000ff;stroke:#0000ff;\" x=\"97.201079\" xlink:href=\"#m3ada581ca7\" y=\"27.362436\"/>\n     <use style=\"fill:#0000ff;stroke:#0000ff;\" x=\"97.505747\" xlink:href=\"#m3ada581ca7\" y=\"27.148509\"/>\n     <use style=\"fill:#0000ff;stroke:#0000ff;\" x=\"97.810415\" xlink:href=\"#m3ada581ca7\" y=\"26.939436\"/>\n     <use style=\"fill:#0000ff;stroke:#0000ff;\" x=\"98.115084\" xlink:href=\"#m3ada581ca7\" y=\"26.735098\"/>\n     <use style=\"fill:#0000ff;stroke:#0000ff;\" x=\"98.419752\" xlink:href=\"#m3ada581ca7\" y=\"26.535376\"/>\n     <use style=\"fill:#0000ff;stroke:#0000ff;\" x=\"98.72442\" xlink:href=\"#m3ada581ca7\" y=\"26.340155\"/>\n     <use style=\"fill:#0000ff;stroke:#0000ff;\" x=\"99.029089\" xlink:href=\"#m3ada581ca7\" y=\"26.149324\"/>\n     <use style=\"fill:#0000ff;stroke:#0000ff;\" x=\"99.333757\" xlink:href=\"#m3ada581ca7\" y=\"25.962774\"/>\n     <use style=\"fill:#0000ff;stroke:#0000ff;\" x=\"99.638425\" xlink:href=\"#m3ada581ca7\" y=\"25.780399\"/>\n     <use style=\"fill:#0000ff;stroke:#0000ff;\" x=\"99.943094\" xlink:href=\"#m3ada581ca7\" y=\"25.602097\"/>\n     <use style=\"fill:#0000ff;stroke:#0000ff;\" x=\"100.247762\" xlink:href=\"#m3ada581ca7\" y=\"25.427768\"/>\n     <use style=\"fill:#0000ff;stroke:#0000ff;\" x=\"100.55243\" xlink:href=\"#m3ada581ca7\" y=\"25.257314\"/>\n     <use style=\"fill:#0000ff;stroke:#0000ff;\" x=\"100.857098\" xlink:href=\"#m3ada581ca7\" y=\"25.090641\"/>\n     <use style=\"fill:#0000ff;stroke:#0000ff;\" x=\"101.161767\" xlink:href=\"#m3ada581ca7\" y=\"24.927656\"/>\n     <use style=\"fill:#0000ff;stroke:#0000ff;\" x=\"101.466435\" xlink:href=\"#m3ada581ca7\" y=\"24.76827\"/>\n     <use style=\"fill:#0000ff;stroke:#0000ff;\" x=\"101.771103\" xlink:href=\"#m3ada581ca7\" y=\"24.612396\"/>\n     <use style=\"fill:#0000ff;stroke:#0000ff;\" x=\"102.075772\" xlink:href=\"#m3ada581ca7\" y=\"24.459948\"/>\n     <use style=\"fill:#0000ff;stroke:#0000ff;\" x=\"102.38044\" xlink:href=\"#m3ada581ca7\" y=\"24.310844\"/>\n     <use style=\"fill:#0000ff;stroke:#0000ff;\" x=\"102.685108\" xlink:href=\"#m3ada581ca7\" y=\"24.165004\"/>\n     <use style=\"fill:#0000ff;stroke:#0000ff;\" x=\"102.989777\" xlink:href=\"#m3ada581ca7\" y=\"24.022348\"/>\n     <use style=\"fill:#0000ff;stroke:#0000ff;\" x=\"103.294445\" xlink:href=\"#m3ada581ca7\" y=\"23.882801\"/>\n     <use style=\"fill:#0000ff;stroke:#0000ff;\" x=\"103.599113\" xlink:href=\"#m3ada581ca7\" y=\"23.746289\"/>\n     <use style=\"fill:#0000ff;stroke:#0000ff;\" x=\"103.903781\" xlink:href=\"#m3ada581ca7\" y=\"23.612739\"/>\n     <use style=\"fill:#0000ff;stroke:#0000ff;\" x=\"104.20845\" xlink:href=\"#m3ada581ca7\" y=\"23.48208\"/>\n     <use style=\"fill:#0000ff;stroke:#0000ff;\" x=\"104.513118\" xlink:href=\"#m3ada581ca7\" y=\"23.354245\"/>\n     <use style=\"fill:#0000ff;stroke:#0000ff;\" x=\"104.817786\" xlink:href=\"#m3ada581ca7\" y=\"23.229166\"/>\n     <use style=\"fill:#0000ff;stroke:#0000ff;\" x=\"105.122455\" xlink:href=\"#m3ada581ca7\" y=\"23.106777\"/>\n     <use style=\"fill:#0000ff;stroke:#0000ff;\" x=\"105.427123\" xlink:href=\"#m3ada581ca7\" y=\"22.987017\"/>\n     <use style=\"fill:#0000ff;stroke:#0000ff;\" x=\"105.731791\" xlink:href=\"#m3ada581ca7\" y=\"22.869823\"/>\n     <use style=\"fill:#0000ff;stroke:#0000ff;\" x=\"106.03646\" xlink:href=\"#m3ada581ca7\" y=\"22.755135\"/>\n     <use style=\"fill:#0000ff;stroke:#0000ff;\" x=\"106.341128\" xlink:href=\"#m3ada581ca7\" y=\"22.642894\"/>\n     <use style=\"fill:#0000ff;stroke:#0000ff;\" x=\"106.645796\" xlink:href=\"#m3ada581ca7\" y=\"22.533044\"/>\n     <use style=\"fill:#0000ff;stroke:#0000ff;\" x=\"106.950465\" xlink:href=\"#m3ada581ca7\" y=\"22.425528\"/>\n     <use style=\"fill:#0000ff;stroke:#0000ff;\" x=\"107.255133\" xlink:href=\"#m3ada581ca7\" y=\"22.320293\"/>\n     <use style=\"fill:#0000ff;stroke:#0000ff;\" x=\"107.559801\" xlink:href=\"#m3ada581ca7\" y=\"22.217286\"/>\n     <use style=\"fill:#0000ff;stroke:#0000ff;\" x=\"107.864469\" xlink:href=\"#m3ada581ca7\" y=\"22.116454\"/>\n     <use style=\"fill:#0000ff;stroke:#0000ff;\" x=\"108.169138\" xlink:href=\"#m3ada581ca7\" y=\"22.017749\"/>\n     <use style=\"fill:#0000ff;stroke:#0000ff;\" x=\"108.473806\" xlink:href=\"#m3ada581ca7\" y=\"21.921121\"/>\n     <use style=\"fill:#0000ff;stroke:#0000ff;\" x=\"108.778474\" xlink:href=\"#m3ada581ca7\" y=\"21.826523\"/>\n     <use style=\"fill:#0000ff;stroke:#0000ff;\" x=\"109.083143\" xlink:href=\"#m3ada581ca7\" y=\"21.733908\"/>\n     <use style=\"fill:#0000ff;stroke:#0000ff;\" x=\"109.387811\" xlink:href=\"#m3ada581ca7\" y=\"21.64323\"/>\n     <use style=\"fill:#0000ff;stroke:#0000ff;\" x=\"109.692479\" xlink:href=\"#m3ada581ca7\" y=\"21.554447\"/>\n     <use style=\"fill:#0000ff;stroke:#0000ff;\" x=\"109.997148\" xlink:href=\"#m3ada581ca7\" y=\"21.467514\"/>\n     <use style=\"fill:#0000ff;stroke:#0000ff;\" x=\"110.301816\" xlink:href=\"#m3ada581ca7\" y=\"21.382389\"/>\n     <use style=\"fill:#0000ff;stroke:#0000ff;\" x=\"110.606484\" xlink:href=\"#m3ada581ca7\" y=\"21.299033\"/>\n     <use style=\"fill:#0000ff;stroke:#0000ff;\" x=\"110.911152\" xlink:href=\"#m3ada581ca7\" y=\"21.217404\"/>\n     <use style=\"fill:#0000ff;stroke:#0000ff;\" x=\"111.215821\" xlink:href=\"#m3ada581ca7\" y=\"21.137465\"/>\n     <use style=\"fill:#0000ff;stroke:#0000ff;\" x=\"111.520489\" xlink:href=\"#m3ada581ca7\" y=\"21.059176\"/>\n     <use style=\"fill:#0000ff;stroke:#0000ff;\" x=\"111.825157\" xlink:href=\"#m3ada581ca7\" y=\"20.982502\"/>\n     <use style=\"fill:#0000ff;stroke:#0000ff;\" x=\"112.129826\" xlink:href=\"#m3ada581ca7\" y=\"20.907406\"/>\n     <use style=\"fill:#0000ff;stroke:#0000ff;\" x=\"112.434494\" xlink:href=\"#m3ada581ca7\" y=\"20.833852\"/>\n     <use style=\"fill:#0000ff;stroke:#0000ff;\" x=\"112.739162\" xlink:href=\"#m3ada581ca7\" y=\"20.761806\"/>\n     <use style=\"fill:#0000ff;stroke:#0000ff;\" x=\"113.043831\" xlink:href=\"#m3ada581ca7\" y=\"20.691236\"/>\n     <use style=\"fill:#0000ff;stroke:#0000ff;\" x=\"113.348499\" xlink:href=\"#m3ada581ca7\" y=\"20.622107\"/>\n     <use style=\"fill:#0000ff;stroke:#0000ff;\" x=\"113.653167\" xlink:href=\"#m3ada581ca7\" y=\"20.554389\"/>\n     <use style=\"fill:#0000ff;stroke:#0000ff;\" x=\"113.957836\" xlink:href=\"#m3ada581ca7\" y=\"20.48805\"/>\n     <use style=\"fill:#0000ff;stroke:#0000ff;\" x=\"114.262504\" xlink:href=\"#m3ada581ca7\" y=\"20.42306\"/>\n     <use style=\"fill:#0000ff;stroke:#0000ff;\" x=\"114.567172\" xlink:href=\"#m3ada581ca7\" y=\"20.359389\"/>\n     <use style=\"fill:#0000ff;stroke:#0000ff;\" x=\"114.87184\" xlink:href=\"#m3ada581ca7\" y=\"20.297008\"/>\n     <use style=\"fill:#0000ff;stroke:#0000ff;\" x=\"115.176509\" xlink:href=\"#m3ada581ca7\" y=\"20.235889\"/>\n     <use style=\"fill:#0000ff;stroke:#0000ff;\" x=\"115.481177\" xlink:href=\"#m3ada581ca7\" y=\"20.176004\"/>\n     <use style=\"fill:#0000ff;stroke:#0000ff;\" x=\"115.785845\" xlink:href=\"#m3ada581ca7\" y=\"20.117326\"/>\n     <use style=\"fill:#0000ff;stroke:#0000ff;\" x=\"116.090514\" xlink:href=\"#m3ada581ca7\" y=\"20.05983\"/>\n     <use style=\"fill:#0000ff;stroke:#0000ff;\" x=\"116.395182\" xlink:href=\"#m3ada581ca7\" y=\"20.00349\"/>\n     <use style=\"fill:#0000ff;stroke:#0000ff;\" x=\"116.69985\" xlink:href=\"#m3ada581ca7\" y=\"19.94828\"/>\n     <use style=\"fill:#0000ff;stroke:#0000ff;\" x=\"117.004519\" xlink:href=\"#m3ada581ca7\" y=\"19.894175\"/>\n     <use style=\"fill:#0000ff;stroke:#0000ff;\" x=\"117.309187\" xlink:href=\"#m3ada581ca7\" y=\"19.841154\"/>\n     <use style=\"fill:#0000ff;stroke:#0000ff;\" x=\"117.613855\" xlink:href=\"#m3ada581ca7\" y=\"19.789191\"/>\n     <use style=\"fill:#0000ff;stroke:#0000ff;\" x=\"117.918523\" xlink:href=\"#m3ada581ca7\" y=\"19.738264\"/>\n     <use style=\"fill:#0000ff;stroke:#0000ff;\" x=\"118.223192\" xlink:href=\"#m3ada581ca7\" y=\"19.688351\"/>\n     <use style=\"fill:#0000ff;stroke:#0000ff;\" x=\"118.52786\" xlink:href=\"#m3ada581ca7\" y=\"19.639431\"/>\n     <use style=\"fill:#0000ff;stroke:#0000ff;\" x=\"118.832528\" xlink:href=\"#m3ada581ca7\" y=\"19.591481\"/>\n     <use style=\"fill:#0000ff;stroke:#0000ff;\" x=\"119.137197\" xlink:href=\"#m3ada581ca7\" y=\"19.544482\"/>\n     <use style=\"fill:#0000ff;stroke:#0000ff;\" x=\"119.441865\" xlink:href=\"#m3ada581ca7\" y=\"19.498413\"/>\n     <use style=\"fill:#0000ff;stroke:#0000ff;\" x=\"119.746533\" xlink:href=\"#m3ada581ca7\" y=\"19.453254\"/>\n     <use style=\"fill:#0000ff;stroke:#0000ff;\" x=\"120.051202\" xlink:href=\"#m3ada581ca7\" y=\"19.408986\"/>\n     <use style=\"fill:#0000ff;stroke:#0000ff;\" x=\"120.35587\" xlink:href=\"#m3ada581ca7\" y=\"19.365591\"/>\n     <use style=\"fill:#0000ff;stroke:#0000ff;\" x=\"120.660538\" xlink:href=\"#m3ada581ca7\" y=\"19.323049\"/>\n     <use style=\"fill:#0000ff;stroke:#0000ff;\" x=\"120.965207\" xlink:href=\"#m3ada581ca7\" y=\"19.281343\"/>\n     <use style=\"fill:#0000ff;stroke:#0000ff;\" x=\"121.269875\" xlink:href=\"#m3ada581ca7\" y=\"19.240456\"/>\n     <use style=\"fill:#0000ff;stroke:#0000ff;\" x=\"121.574543\" xlink:href=\"#m3ada581ca7\" y=\"19.200369\"/>\n     <use style=\"fill:#0000ff;stroke:#0000ff;\" x=\"121.879211\" xlink:href=\"#m3ada581ca7\" y=\"19.161067\"/>\n     <use style=\"fill:#0000ff;stroke:#0000ff;\" x=\"122.18388\" xlink:href=\"#m3ada581ca7\" y=\"19.122532\"/>\n     <use style=\"fill:#0000ff;stroke:#0000ff;\" x=\"122.488548\" xlink:href=\"#m3ada581ca7\" y=\"19.084749\"/>\n     <use style=\"fill:#0000ff;stroke:#0000ff;\" x=\"122.793216\" xlink:href=\"#m3ada581ca7\" y=\"19.047703\"/>\n     <use style=\"fill:#0000ff;stroke:#0000ff;\" x=\"123.097885\" xlink:href=\"#m3ada581ca7\" y=\"19.011377\"/>\n     <use style=\"fill:#0000ff;stroke:#0000ff;\" x=\"123.402553\" xlink:href=\"#m3ada581ca7\" y=\"18.975757\"/>\n     <use style=\"fill:#0000ff;stroke:#0000ff;\" x=\"123.707221\" xlink:href=\"#m3ada581ca7\" y=\"18.940828\"/>\n     <use style=\"fill:#0000ff;stroke:#0000ff;\" x=\"124.01189\" xlink:href=\"#m3ada581ca7\" y=\"18.906576\"/>\n     <use style=\"fill:#0000ff;stroke:#0000ff;\" x=\"124.316558\" xlink:href=\"#m3ada581ca7\" y=\"18.872988\"/>\n     <use style=\"fill:#0000ff;stroke:#0000ff;\" x=\"124.621226\" xlink:href=\"#m3ada581ca7\" y=\"18.840048\"/>\n     <use style=\"fill:#0000ff;stroke:#0000ff;\" x=\"124.925895\" xlink:href=\"#m3ada581ca7\" y=\"18.807744\"/>\n     <use style=\"fill:#0000ff;stroke:#0000ff;\" x=\"125.230563\" xlink:href=\"#m3ada581ca7\" y=\"18.776063\"/>\n     <use style=\"fill:#0000ff;stroke:#0000ff;\" x=\"125.535231\" xlink:href=\"#m3ada581ca7\" y=\"18.744992\"/>\n     <use style=\"fill:#0000ff;stroke:#0000ff;\" x=\"125.839899\" xlink:href=\"#m3ada581ca7\" y=\"18.714518\"/>\n     <use style=\"fill:#0000ff;stroke:#0000ff;\" x=\"126.144568\" xlink:href=\"#m3ada581ca7\" y=\"18.68463\"/>\n     <use style=\"fill:#0000ff;stroke:#0000ff;\" x=\"126.449236\" xlink:href=\"#m3ada581ca7\" y=\"18.655315\"/>\n     <use style=\"fill:#0000ff;stroke:#0000ff;\" x=\"126.753904\" xlink:href=\"#m3ada581ca7\" y=\"18.626562\"/>\n     <use style=\"fill:#0000ff;stroke:#0000ff;\" x=\"127.058573\" xlink:href=\"#m3ada581ca7\" y=\"18.598359\"/>\n     <use style=\"fill:#0000ff;stroke:#0000ff;\" x=\"127.363241\" xlink:href=\"#m3ada581ca7\" y=\"18.570695\"/>\n     <use style=\"fill:#0000ff;stroke:#0000ff;\" x=\"127.667909\" xlink:href=\"#m3ada581ca7\" y=\"18.543559\"/>\n     <use style=\"fill:#0000ff;stroke:#0000ff;\" x=\"127.972578\" xlink:href=\"#m3ada581ca7\" y=\"18.516941\"/>\n     <use style=\"fill:#0000ff;stroke:#0000ff;\" x=\"128.277246\" xlink:href=\"#m3ada581ca7\" y=\"18.49083\"/>\n     <use style=\"fill:#0000ff;stroke:#0000ff;\" x=\"128.581914\" xlink:href=\"#m3ada581ca7\" y=\"18.465215\"/>\n     <use style=\"fill:#0000ff;stroke:#0000ff;\" x=\"128.886582\" xlink:href=\"#m3ada581ca7\" y=\"18.440087\"/>\n     <use style=\"fill:#0000ff;stroke:#0000ff;\" x=\"129.191251\" xlink:href=\"#m3ada581ca7\" y=\"18.415436\"/>\n     <use style=\"fill:#0000ff;stroke:#0000ff;\" x=\"129.495919\" xlink:href=\"#m3ada581ca7\" y=\"18.391252\"/>\n     <use style=\"fill:#0000ff;stroke:#0000ff;\" x=\"129.800587\" xlink:href=\"#m3ada581ca7\" y=\"18.367526\"/>\n     <use style=\"fill:#0000ff;stroke:#0000ff;\" x=\"130.105256\" xlink:href=\"#m3ada581ca7\" y=\"18.344249\"/>\n     <use style=\"fill:#0000ff;stroke:#0000ff;\" x=\"130.409924\" xlink:href=\"#m3ada581ca7\" y=\"18.321412\"/>\n     <use style=\"fill:#0000ff;stroke:#0000ff;\" x=\"130.714592\" xlink:href=\"#m3ada581ca7\" y=\"18.299005\"/>\n     <use style=\"fill:#0000ff;stroke:#0000ff;\" x=\"131.019261\" xlink:href=\"#m3ada581ca7\" y=\"18.277021\"/>\n     <use style=\"fill:#0000ff;stroke:#0000ff;\" x=\"131.323929\" xlink:href=\"#m3ada581ca7\" y=\"18.255452\"/>\n     <use style=\"fill:#0000ff;stroke:#0000ff;\" x=\"131.628597\" xlink:href=\"#m3ada581ca7\" y=\"18.234287\"/>\n     <use style=\"fill:#0000ff;stroke:#0000ff;\" x=\"131.933266\" xlink:href=\"#m3ada581ca7\" y=\"18.213521\"/>\n     <use style=\"fill:#0000ff;stroke:#0000ff;\" x=\"132.237934\" xlink:href=\"#m3ada581ca7\" y=\"18.193144\"/>\n     <use style=\"fill:#0000ff;stroke:#0000ff;\" x=\"132.542602\" xlink:href=\"#m3ada581ca7\" y=\"18.17315\"/>\n     <use style=\"fill:#0000ff;stroke:#0000ff;\" x=\"132.84727\" xlink:href=\"#m3ada581ca7\" y=\"18.15353\"/>\n     <use style=\"fill:#0000ff;stroke:#0000ff;\" x=\"133.151939\" xlink:href=\"#m3ada581ca7\" y=\"18.134277\"/>\n     <use style=\"fill:#0000ff;stroke:#0000ff;\" x=\"133.456607\" xlink:href=\"#m3ada581ca7\" y=\"18.115384\"/>\n     <use style=\"fill:#0000ff;stroke:#0000ff;\" x=\"133.761275\" xlink:href=\"#m3ada581ca7\" y=\"18.096844\"/>\n     <use style=\"fill:#0000ff;stroke:#0000ff;\" x=\"134.065944\" xlink:href=\"#m3ada581ca7\" y=\"18.07865\"/>\n     <use style=\"fill:#0000ff;stroke:#0000ff;\" x=\"134.370612\" xlink:href=\"#m3ada581ca7\" y=\"18.060795\"/>\n     <use style=\"fill:#0000ff;stroke:#0000ff;\" x=\"134.67528\" xlink:href=\"#m3ada581ca7\" y=\"18.043273\"/>\n     <use style=\"fill:#0000ff;stroke:#0000ff;\" x=\"134.979949\" xlink:href=\"#m3ada581ca7\" y=\"18.026076\"/>\n     <use style=\"fill:#0000ff;stroke:#0000ff;\" x=\"135.284617\" xlink:href=\"#m3ada581ca7\" y=\"18.009199\"/>\n     <use style=\"fill:#0000ff;stroke:#0000ff;\" x=\"135.589285\" xlink:href=\"#m3ada581ca7\" y=\"17.992635\"/>\n     <use style=\"fill:#0000ff;stroke:#0000ff;\" x=\"135.893953\" xlink:href=\"#m3ada581ca7\" y=\"17.976379\"/>\n     <use style=\"fill:#0000ff;stroke:#0000ff;\" x=\"136.198622\" xlink:href=\"#m3ada581ca7\" y=\"17.960424\"/>\n     <use style=\"fill:#0000ff;stroke:#0000ff;\" x=\"136.50329\" xlink:href=\"#m3ada581ca7\" y=\"17.944764\"/>\n     <use style=\"fill:#0000ff;stroke:#0000ff;\" x=\"136.807958\" xlink:href=\"#m3ada581ca7\" y=\"17.929393\"/>\n     <use style=\"fill:#0000ff;stroke:#0000ff;\" x=\"137.112627\" xlink:href=\"#m3ada581ca7\" y=\"17.914307\"/>\n     <use style=\"fill:#0000ff;stroke:#0000ff;\" x=\"137.417295\" xlink:href=\"#m3ada581ca7\" y=\"17.899499\"/>\n     <use style=\"fill:#0000ff;stroke:#0000ff;\" x=\"137.721963\" xlink:href=\"#m3ada581ca7\" y=\"17.884965\"/>\n     <use style=\"fill:#0000ff;stroke:#0000ff;\" x=\"138.026632\" xlink:href=\"#m3ada581ca7\" y=\"17.870698\"/>\n     <use style=\"fill:#0000ff;stroke:#0000ff;\" x=\"138.3313\" xlink:href=\"#m3ada581ca7\" y=\"17.856694\"/>\n     <use style=\"fill:#0000ff;stroke:#0000ff;\" x=\"138.635968\" xlink:href=\"#m3ada581ca7\" y=\"17.842947\"/>\n     <use style=\"fill:#0000ff;stroke:#0000ff;\" x=\"138.940637\" xlink:href=\"#m3ada581ca7\" y=\"17.829453\"/>\n     <use style=\"fill:#0000ff;stroke:#0000ff;\" x=\"139.245305\" xlink:href=\"#m3ada581ca7\" y=\"17.816207\"/>\n     <use style=\"fill:#0000ff;stroke:#0000ff;\" x=\"139.549973\" xlink:href=\"#m3ada581ca7\" y=\"17.803204\"/>\n     <use style=\"fill:#0000ff;stroke:#0000ff;\" x=\"139.854641\" xlink:href=\"#m3ada581ca7\" y=\"17.79044\"/>\n     <use style=\"fill:#0000ff;stroke:#0000ff;\" x=\"140.15931\" xlink:href=\"#m3ada581ca7\" y=\"17.777909\"/>\n     <use style=\"fill:#0000ff;stroke:#0000ff;\" x=\"140.463978\" xlink:href=\"#m3ada581ca7\" y=\"17.765607\"/>\n     <use style=\"fill:#0000ff;stroke:#0000ff;\" x=\"140.768646\" xlink:href=\"#m3ada581ca7\" y=\"17.75353\"/>\n     <use style=\"fill:#0000ff;stroke:#0000ff;\" x=\"141.073315\" xlink:href=\"#m3ada581ca7\" y=\"17.741674\"/>\n     <use style=\"fill:#0000ff;stroke:#0000ff;\" x=\"141.377983\" xlink:href=\"#m3ada581ca7\" y=\"17.730035\"/>\n     <use style=\"fill:#0000ff;stroke:#0000ff;\" x=\"141.682651\" xlink:href=\"#m3ada581ca7\" y=\"17.718608\"/>\n     <use style=\"fill:#0000ff;stroke:#0000ff;\" x=\"141.98732\" xlink:href=\"#m3ada581ca7\" y=\"17.707389\"/>\n     <use style=\"fill:#0000ff;stroke:#0000ff;\" x=\"142.291988\" xlink:href=\"#m3ada581ca7\" y=\"17.696374\"/>\n     <use style=\"fill:#0000ff;stroke:#0000ff;\" x=\"142.596656\" xlink:href=\"#m3ada581ca7\" y=\"17.68556\"/>\n     <use style=\"fill:#0000ff;stroke:#0000ff;\" x=\"142.901324\" xlink:href=\"#m3ada581ca7\" y=\"17.674942\"/>\n     <use style=\"fill:#0000ff;stroke:#0000ff;\" x=\"143.205993\" xlink:href=\"#m3ada581ca7\" y=\"17.664517\"/>\n     <use style=\"fill:#0000ff;stroke:#0000ff;\" x=\"143.510661\" xlink:href=\"#m3ada581ca7\" y=\"17.654282\"/>\n     <use style=\"fill:#0000ff;stroke:#0000ff;\" x=\"143.815329\" xlink:href=\"#m3ada581ca7\" y=\"17.644232\"/>\n     <use style=\"fill:#0000ff;stroke:#0000ff;\" x=\"144.119998\" xlink:href=\"#m3ada581ca7\" y=\"17.634364\"/>\n     <use style=\"fill:#0000ff;stroke:#0000ff;\" x=\"144.424666\" xlink:href=\"#m3ada581ca7\" y=\"17.624675\"/>\n     <use style=\"fill:#0000ff;stroke:#0000ff;\" x=\"144.729334\" xlink:href=\"#m3ada581ca7\" y=\"17.615161\"/>\n     <use style=\"fill:#0000ff;stroke:#0000ff;\" x=\"145.034003\" xlink:href=\"#m3ada581ca7\" y=\"17.60582\"/>\n     <use style=\"fill:#0000ff;stroke:#0000ff;\" x=\"145.338671\" xlink:href=\"#m3ada581ca7\" y=\"17.596647\"/>\n     <use style=\"fill:#0000ff;stroke:#0000ff;\" x=\"145.643339\" xlink:href=\"#m3ada581ca7\" y=\"17.58764\"/>\n     <use style=\"fill:#0000ff;stroke:#0000ff;\" x=\"145.948008\" xlink:href=\"#m3ada581ca7\" y=\"17.578795\"/>\n     <use style=\"fill:#0000ff;stroke:#0000ff;\" x=\"146.252676\" xlink:href=\"#m3ada581ca7\" y=\"17.57011\"/>\n     <use style=\"fill:#0000ff;stroke:#0000ff;\" x=\"146.557344\" xlink:href=\"#m3ada581ca7\" y=\"17.561582\"/>\n     <use style=\"fill:#0000ff;stroke:#0000ff;\" x=\"146.862012\" xlink:href=\"#m3ada581ca7\" y=\"17.553207\"/>\n     <use style=\"fill:#0000ff;stroke:#0000ff;\" x=\"147.166681\" xlink:href=\"#m3ada581ca7\" y=\"17.544982\"/>\n     <use style=\"fill:#0000ff;stroke:#0000ff;\" x=\"147.471349\" xlink:href=\"#m3ada581ca7\" y=\"17.536906\"/>\n     <use style=\"fill:#0000ff;stroke:#0000ff;\" x=\"147.776017\" xlink:href=\"#m3ada581ca7\" y=\"17.528975\"/>\n     <use style=\"fill:#0000ff;stroke:#0000ff;\" x=\"148.080686\" xlink:href=\"#m3ada581ca7\" y=\"17.521186\"/>\n     <use style=\"fill:#0000ff;stroke:#0000ff;\" x=\"148.385354\" xlink:href=\"#m3ada581ca7\" y=\"17.513537\"/>\n     <use style=\"fill:#0000ff;stroke:#0000ff;\" x=\"148.690022\" xlink:href=\"#m3ada581ca7\" y=\"17.506025\"/>\n     <use style=\"fill:#0000ff;stroke:#0000ff;\" x=\"148.994691\" xlink:href=\"#m3ada581ca7\" y=\"17.498648\"/>\n     <use style=\"fill:#0000ff;stroke:#0000ff;\" x=\"149.299359\" xlink:href=\"#m3ada581ca7\" y=\"17.491402\"/>\n     <use style=\"fill:#0000ff;stroke:#0000ff;\" x=\"149.604027\" xlink:href=\"#m3ada581ca7\" y=\"17.484287\"/>\n     <use style=\"fill:#0000ff;stroke:#0000ff;\" x=\"149.908695\" xlink:href=\"#m3ada581ca7\" y=\"17.477299\"/>\n     <use style=\"fill:#0000ff;stroke:#0000ff;\" x=\"150.213364\" xlink:href=\"#m3ada581ca7\" y=\"17.470435\"/>\n     <use style=\"fill:#0000ff;stroke:#0000ff;\" x=\"150.518032\" xlink:href=\"#m3ada581ca7\" y=\"17.463694\"/>\n     <use style=\"fill:#0000ff;stroke:#0000ff;\" x=\"150.8227\" xlink:href=\"#m3ada581ca7\" y=\"17.457074\"/>\n     <use style=\"fill:#0000ff;stroke:#0000ff;\" x=\"151.127369\" xlink:href=\"#m3ada581ca7\" y=\"17.450572\"/>\n     <use style=\"fill:#0000ff;stroke:#0000ff;\" x=\"151.432037\" xlink:href=\"#m3ada581ca7\" y=\"17.444185\"/>\n     <use style=\"fill:#0000ff;stroke:#0000ff;\" x=\"151.736705\" xlink:href=\"#m3ada581ca7\" y=\"17.437913\"/>\n     <use style=\"fill:#0000ff;stroke:#0000ff;\" x=\"152.041374\" xlink:href=\"#m3ada581ca7\" y=\"17.431752\"/>\n     <use style=\"fill:#0000ff;stroke:#0000ff;\" x=\"152.346042\" xlink:href=\"#m3ada581ca7\" y=\"17.425701\"/>\n     <use style=\"fill:#0000ff;stroke:#0000ff;\" x=\"152.65071\" xlink:href=\"#m3ada581ca7\" y=\"17.419757\"/>\n     <use style=\"fill:#0000ff;stroke:#0000ff;\" x=\"152.955379\" xlink:href=\"#m3ada581ca7\" y=\"17.413919\"/>\n     <use style=\"fill:#0000ff;stroke:#0000ff;\" x=\"153.260047\" xlink:href=\"#m3ada581ca7\" y=\"17.408185\"/>\n     <use style=\"fill:#0000ff;stroke:#0000ff;\" x=\"153.564715\" xlink:href=\"#m3ada581ca7\" y=\"17.402552\"/>\n     <use style=\"fill:#0000ff;stroke:#0000ff;\" x=\"153.869383\" xlink:href=\"#m3ada581ca7\" y=\"17.39702\"/>\n     <use style=\"fill:#0000ff;stroke:#0000ff;\" x=\"154.174052\" xlink:href=\"#m3ada581ca7\" y=\"17.391585\"/>\n     <use style=\"fill:#0000ff;stroke:#0000ff;\" x=\"154.47872\" xlink:href=\"#m3ada581ca7\" y=\"17.386247\"/>\n     <use style=\"fill:#0000ff;stroke:#0000ff;\" x=\"154.783388\" xlink:href=\"#m3ada581ca7\" y=\"17.381004\"/>\n     <use style=\"fill:#0000ff;stroke:#0000ff;\" x=\"155.088057\" xlink:href=\"#m3ada581ca7\" y=\"17.375853\"/>\n     <use style=\"fill:#0000ff;stroke:#0000ff;\" x=\"155.392725\" xlink:href=\"#m3ada581ca7\" y=\"17.370794\"/>\n     <use style=\"fill:#0000ff;stroke:#0000ff;\" x=\"155.697393\" xlink:href=\"#m3ada581ca7\" y=\"17.365823\"/>\n     <use style=\"fill:#0000ff;stroke:#0000ff;\" x=\"156.002062\" xlink:href=\"#m3ada581ca7\" y=\"17.360941\"/>\n     <use style=\"fill:#0000ff;stroke:#0000ff;\" x=\"156.30673\" xlink:href=\"#m3ada581ca7\" y=\"17.356145\"/>\n     <use style=\"fill:#0000ff;stroke:#0000ff;\" x=\"156.611398\" xlink:href=\"#m3ada581ca7\" y=\"17.351434\"/>\n     <use style=\"fill:#0000ff;stroke:#0000ff;\" x=\"156.916066\" xlink:href=\"#m3ada581ca7\" y=\"17.346806\"/>\n     <use style=\"fill:#0000ff;stroke:#0000ff;\" x=\"157.220735\" xlink:href=\"#m3ada581ca7\" y=\"17.342259\"/>\n     <use style=\"fill:#0000ff;stroke:#0000ff;\" x=\"157.525403\" xlink:href=\"#m3ada581ca7\" y=\"17.337793\"/>\n     <use style=\"fill:#0000ff;stroke:#0000ff;\" x=\"157.830071\" xlink:href=\"#m3ada581ca7\" y=\"17.333405\"/>\n     <use style=\"fill:#0000ff;stroke:#0000ff;\" x=\"158.13474\" xlink:href=\"#m3ada581ca7\" y=\"17.329094\"/>\n     <use style=\"fill:#0000ff;stroke:#0000ff;\" x=\"158.439408\" xlink:href=\"#m3ada581ca7\" y=\"17.32486\"/>\n     <use style=\"fill:#0000ff;stroke:#0000ff;\" x=\"158.744076\" xlink:href=\"#m3ada581ca7\" y=\"17.3207\"/>\n     <use style=\"fill:#0000ff;stroke:#0000ff;\" x=\"159.048745\" xlink:href=\"#m3ada581ca7\" y=\"17.316613\"/>\n     <use style=\"fill:#0000ff;stroke:#0000ff;\" x=\"159.353413\" xlink:href=\"#m3ada581ca7\" y=\"17.312598\"/>\n     <use style=\"fill:#0000ff;stroke:#0000ff;\" x=\"159.658081\" xlink:href=\"#m3ada581ca7\" y=\"17.308653\"/>\n     <use style=\"fill:#0000ff;stroke:#0000ff;\" x=\"159.96275\" xlink:href=\"#m3ada581ca7\" y=\"17.304777\"/>\n     <use style=\"fill:#0000ff;stroke:#0000ff;\" x=\"160.267418\" xlink:href=\"#m3ada581ca7\" y=\"17.30097\"/>\n     <use style=\"fill:#0000ff;stroke:#0000ff;\" x=\"160.572086\" xlink:href=\"#m3ada581ca7\" y=\"17.297229\"/>\n     <use style=\"fill:#0000ff;stroke:#0000ff;\" x=\"160.876754\" xlink:href=\"#m3ada581ca7\" y=\"17.293554\"/>\n     <use style=\"fill:#0000ff;stroke:#0000ff;\" x=\"161.181423\" xlink:href=\"#m3ada581ca7\" y=\"17.289944\"/>\n     <use style=\"fill:#0000ff;stroke:#0000ff;\" x=\"161.486091\" xlink:href=\"#m3ada581ca7\" y=\"17.286396\"/>\n     <use style=\"fill:#0000ff;stroke:#0000ff;\" x=\"161.790759\" xlink:href=\"#m3ada581ca7\" y=\"17.282911\"/>\n     <use style=\"fill:#0000ff;stroke:#0000ff;\" x=\"162.095428\" xlink:href=\"#m3ada581ca7\" y=\"17.279487\"/>\n     <use style=\"fill:#0000ff;stroke:#0000ff;\" x=\"162.400096\" xlink:href=\"#m3ada581ca7\" y=\"17.276122\"/>\n     <use style=\"fill:#0000ff;stroke:#0000ff;\" x=\"162.704764\" xlink:href=\"#m3ada581ca7\" y=\"17.272817\"/>\n     <use style=\"fill:#0000ff;stroke:#0000ff;\" x=\"163.009433\" xlink:href=\"#m3ada581ca7\" y=\"17.269569\"/>\n     <use style=\"fill:#0000ff;stroke:#0000ff;\" x=\"163.314101\" xlink:href=\"#m3ada581ca7\" y=\"17.266378\"/>\n     <use style=\"fill:#0000ff;stroke:#0000ff;\" x=\"163.618769\" xlink:href=\"#m3ada581ca7\" y=\"17.263242\"/>\n     <use style=\"fill:#0000ff;stroke:#0000ff;\" x=\"163.923437\" xlink:href=\"#m3ada581ca7\" y=\"17.260162\"/>\n     <use style=\"fill:#0000ff;stroke:#0000ff;\" x=\"164.228106\" xlink:href=\"#m3ada581ca7\" y=\"17.257135\"/>\n     <use style=\"fill:#0000ff;stroke:#0000ff;\" x=\"164.532774\" xlink:href=\"#m3ada581ca7\" y=\"17.25416\"/>\n     <use style=\"fill:#0000ff;stroke:#0000ff;\" x=\"164.837442\" xlink:href=\"#m3ada581ca7\" y=\"17.251238\"/>\n     <use style=\"fill:#0000ff;stroke:#0000ff;\" x=\"165.142111\" xlink:href=\"#m3ada581ca7\" y=\"17.248367\"/>\n     <use style=\"fill:#0000ff;stroke:#0000ff;\" x=\"165.446779\" xlink:href=\"#m3ada581ca7\" y=\"17.245545\"/>\n     <use style=\"fill:#0000ff;stroke:#0000ff;\" x=\"165.751447\" xlink:href=\"#m3ada581ca7\" y=\"17.242773\"/>\n     <use style=\"fill:#0000ff;stroke:#0000ff;\" x=\"166.056116\" xlink:href=\"#m3ada581ca7\" y=\"17.240049\"/>\n     <use style=\"fill:#0000ff;stroke:#0000ff;\" x=\"166.360784\" xlink:href=\"#m3ada581ca7\" y=\"17.237372\"/>\n     <use style=\"fill:#0000ff;stroke:#0000ff;\" x=\"166.665452\" xlink:href=\"#m3ada581ca7\" y=\"17.234742\"/>\n     <use style=\"fill:#0000ff;stroke:#0000ff;\" x=\"166.970121\" xlink:href=\"#m3ada581ca7\" y=\"17.232157\"/>\n     <use style=\"fill:#0000ff;stroke:#0000ff;\" x=\"167.274789\" xlink:href=\"#m3ada581ca7\" y=\"17.229618\"/>\n     <use style=\"fill:#0000ff;stroke:#0000ff;\" x=\"167.579457\" xlink:href=\"#m3ada581ca7\" y=\"17.227122\"/>\n     <use style=\"fill:#0000ff;stroke:#0000ff;\" x=\"167.884125\" xlink:href=\"#m3ada581ca7\" y=\"17.22467\"/>\n     <use style=\"fill:#0000ff;stroke:#0000ff;\" x=\"168.188794\" xlink:href=\"#m3ada581ca7\" y=\"17.22226\"/>\n     <use style=\"fill:#0000ff;stroke:#0000ff;\" x=\"168.493462\" xlink:href=\"#m3ada581ca7\" y=\"17.219892\"/>\n     <use style=\"fill:#0000ff;stroke:#0000ff;\" x=\"168.79813\" xlink:href=\"#m3ada581ca7\" y=\"17.217565\"/>\n     <use style=\"fill:#0000ff;stroke:#0000ff;\" x=\"169.102799\" xlink:href=\"#m3ada581ca7\" y=\"17.215279\"/>\n     <use style=\"fill:#0000ff;stroke:#0000ff;\" x=\"169.407467\" xlink:href=\"#m3ada581ca7\" y=\"17.213032\"/>\n     <use style=\"fill:#0000ff;stroke:#0000ff;\" x=\"169.712135\" xlink:href=\"#m3ada581ca7\" y=\"17.210824\"/>\n     <use style=\"fill:#0000ff;stroke:#0000ff;\" x=\"170.016804\" xlink:href=\"#m3ada581ca7\" y=\"17.208654\"/>\n     <use style=\"fill:#0000ff;stroke:#0000ff;\" x=\"170.321472\" xlink:href=\"#m3ada581ca7\" y=\"17.206522\"/>\n     <use style=\"fill:#0000ff;stroke:#0000ff;\" x=\"170.62614\" xlink:href=\"#m3ada581ca7\" y=\"17.204427\"/>\n     <use style=\"fill:#0000ff;stroke:#0000ff;\" x=\"170.930809\" xlink:href=\"#m3ada581ca7\" y=\"17.202368\"/>\n     <use style=\"fill:#0000ff;stroke:#0000ff;\" x=\"171.235477\" xlink:href=\"#m3ada581ca7\" y=\"17.200344\"/>\n     <use style=\"fill:#0000ff;stroke:#0000ff;\" x=\"171.540145\" xlink:href=\"#m3ada581ca7\" y=\"17.198356\"/>\n     <use style=\"fill:#0000ff;stroke:#0000ff;\" x=\"171.844813\" xlink:href=\"#m3ada581ca7\" y=\"17.196401\"/>\n     <use style=\"fill:#0000ff;stroke:#0000ff;\" x=\"172.149482\" xlink:href=\"#m3ada581ca7\" y=\"17.194481\"/>\n     <use style=\"fill:#0000ff;stroke:#0000ff;\" x=\"172.45415\" xlink:href=\"#m3ada581ca7\" y=\"17.192594\"/>\n     <use style=\"fill:#0000ff;stroke:#0000ff;\" x=\"172.758818\" xlink:href=\"#m3ada581ca7\" y=\"17.190739\"/>\n     <use style=\"fill:#0000ff;stroke:#0000ff;\" x=\"173.063487\" xlink:href=\"#m3ada581ca7\" y=\"17.188916\"/>\n     <use style=\"fill:#0000ff;stroke:#0000ff;\" x=\"173.368155\" xlink:href=\"#m3ada581ca7\" y=\"17.187125\"/>\n     <use style=\"fill:#0000ff;stroke:#0000ff;\" x=\"173.672823\" xlink:href=\"#m3ada581ca7\" y=\"17.185364\"/>\n     <use style=\"fill:#0000ff;stroke:#0000ff;\" x=\"173.977492\" xlink:href=\"#m3ada581ca7\" y=\"17.183634\"/>\n     <use style=\"fill:#0000ff;stroke:#0000ff;\" x=\"174.28216\" xlink:href=\"#m3ada581ca7\" y=\"17.181934\"/>\n     <use style=\"fill:#0000ff;stroke:#0000ff;\" x=\"174.586828\" xlink:href=\"#m3ada581ca7\" y=\"17.180263\"/>\n     <use style=\"fill:#0000ff;stroke:#0000ff;\" x=\"174.891496\" xlink:href=\"#m3ada581ca7\" y=\"17.178621\"/>\n     <use style=\"fill:#0000ff;stroke:#0000ff;\" x=\"175.196165\" xlink:href=\"#m3ada581ca7\" y=\"17.177007\"/>\n     <use style=\"fill:#0000ff;stroke:#0000ff;\" x=\"175.500833\" xlink:href=\"#m3ada581ca7\" y=\"17.17542\"/>\n     <use style=\"fill:#0000ff;stroke:#0000ff;\" x=\"175.805501\" xlink:href=\"#m3ada581ca7\" y=\"17.173862\"/>\n     <use style=\"fill:#0000ff;stroke:#0000ff;\" x=\"176.11017\" xlink:href=\"#m3ada581ca7\" y=\"17.172329\"/>\n     <use style=\"fill:#0000ff;stroke:#0000ff;\" x=\"176.414838\" xlink:href=\"#m3ada581ca7\" y=\"17.170824\"/>\n     <use style=\"fill:#0000ff;stroke:#0000ff;\" x=\"176.719506\" xlink:href=\"#m3ada581ca7\" y=\"17.169344\"/>\n     <use style=\"fill:#0000ff;stroke:#0000ff;\" x=\"177.024175\" xlink:href=\"#m3ada581ca7\" y=\"17.167889\"/>\n     <use style=\"fill:#0000ff;stroke:#0000ff;\" x=\"177.328843\" xlink:href=\"#m3ada581ca7\" y=\"17.16646\"/>\n     <use style=\"fill:#0000ff;stroke:#0000ff;\" x=\"177.633511\" xlink:href=\"#m3ada581ca7\" y=\"17.165055\"/>\n     <use style=\"fill:#0000ff;stroke:#0000ff;\" x=\"177.93818\" xlink:href=\"#m3ada581ca7\" y=\"17.163674\"/>\n     <use style=\"fill:#0000ff;stroke:#0000ff;\" x=\"178.242848\" xlink:href=\"#m3ada581ca7\" y=\"17.162316\"/>\n     <use style=\"fill:#0000ff;stroke:#0000ff;\" x=\"178.547516\" xlink:href=\"#m3ada581ca7\" y=\"17.160982\"/>\n     <use style=\"fill:#0000ff;stroke:#0000ff;\" x=\"178.852184\" xlink:href=\"#m3ada581ca7\" y=\"17.159671\"/>\n     <use style=\"fill:#0000ff;stroke:#0000ff;\" x=\"179.156853\" xlink:href=\"#m3ada581ca7\" y=\"17.158383\"/>\n     <use style=\"fill:#0000ff;stroke:#0000ff;\" x=\"179.461521\" xlink:href=\"#m3ada581ca7\" y=\"17.157116\"/>\n     <use style=\"fill:#0000ff;stroke:#0000ff;\" x=\"179.766189\" xlink:href=\"#m3ada581ca7\" y=\"17.155872\"/>\n     <use style=\"fill:#0000ff;stroke:#0000ff;\" x=\"180.070858\" xlink:href=\"#m3ada581ca7\" y=\"17.154648\"/>\n     <use style=\"fill:#0000ff;stroke:#0000ff;\" x=\"180.375526\" xlink:href=\"#m3ada581ca7\" y=\"17.153445\"/>\n     <use style=\"fill:#0000ff;stroke:#0000ff;\" x=\"180.680194\" xlink:href=\"#m3ada581ca7\" y=\"17.152264\"/>\n     <use style=\"fill:#0000ff;stroke:#0000ff;\" x=\"180.984863\" xlink:href=\"#m3ada581ca7\" y=\"17.151102\"/>\n     <use style=\"fill:#0000ff;stroke:#0000ff;\" x=\"181.289531\" xlink:href=\"#m3ada581ca7\" y=\"17.14996\"/>\n     <use style=\"fill:#0000ff;stroke:#0000ff;\" x=\"181.594199\" xlink:href=\"#m3ada581ca7\" y=\"17.148838\"/>\n     <use style=\"fill:#0000ff;stroke:#0000ff;\" x=\"181.898867\" xlink:href=\"#m3ada581ca7\" y=\"17.147734\"/>\n     <use style=\"fill:#0000ff;stroke:#0000ff;\" x=\"182.203536\" xlink:href=\"#m3ada581ca7\" y=\"17.14665\"/>\n     <use style=\"fill:#0000ff;stroke:#0000ff;\" x=\"182.508204\" xlink:href=\"#m3ada581ca7\" y=\"17.145584\"/>\n     <use style=\"fill:#0000ff;stroke:#0000ff;\" x=\"182.812872\" xlink:href=\"#m3ada581ca7\" y=\"17.144537\"/>\n     <use style=\"fill:#0000ff;stroke:#0000ff;\" x=\"183.117541\" xlink:href=\"#m3ada581ca7\" y=\"17.143507\"/>\n     <use style=\"fill:#0000ff;stroke:#0000ff;\" x=\"183.422209\" xlink:href=\"#m3ada581ca7\" y=\"17.142495\"/>\n     <use style=\"fill:#0000ff;stroke:#0000ff;\" x=\"183.726877\" xlink:href=\"#m3ada581ca7\" y=\"17.1415\"/>\n     <use style=\"fill:#0000ff;stroke:#0000ff;\" x=\"184.031546\" xlink:href=\"#m3ada581ca7\" y=\"17.140523\"/>\n     <use style=\"fill:#0000ff;stroke:#0000ff;\" x=\"184.336214\" xlink:href=\"#m3ada581ca7\" y=\"17.139561\"/>\n     <use style=\"fill:#0000ff;stroke:#0000ff;\" x=\"184.640882\" xlink:href=\"#m3ada581ca7\" y=\"17.138617\"/>\n     <use style=\"fill:#0000ff;stroke:#0000ff;\" x=\"184.945551\" xlink:href=\"#m3ada581ca7\" y=\"17.137688\"/>\n     <use style=\"fill:#0000ff;stroke:#0000ff;\" x=\"185.250219\" xlink:href=\"#m3ada581ca7\" y=\"17.136775\"/>\n     <use style=\"fill:#0000ff;stroke:#0000ff;\" x=\"185.554887\" xlink:href=\"#m3ada581ca7\" y=\"17.135878\"/>\n     <use style=\"fill:#0000ff;stroke:#0000ff;\" x=\"185.859555\" xlink:href=\"#m3ada581ca7\" y=\"17.134996\"/>\n     <use style=\"fill:#0000ff;stroke:#0000ff;\" x=\"186.164224\" xlink:href=\"#m3ada581ca7\" y=\"17.134129\"/>\n     <use style=\"fill:#0000ff;stroke:#0000ff;\" x=\"186.468892\" xlink:href=\"#m3ada581ca7\" y=\"17.133277\"/>\n     <use style=\"fill:#0000ff;stroke:#0000ff;\" x=\"186.77356\" xlink:href=\"#m3ada581ca7\" y=\"17.132439\"/>\n     <use style=\"fill:#0000ff;stroke:#0000ff;\" x=\"187.078229\" xlink:href=\"#m3ada581ca7\" y=\"17.131616\"/>\n     <use style=\"fill:#0000ff;stroke:#0000ff;\" x=\"187.382897\" xlink:href=\"#m3ada581ca7\" y=\"17.130807\"/>\n     <use style=\"fill:#0000ff;stroke:#0000ff;\" x=\"187.687565\" xlink:href=\"#m3ada581ca7\" y=\"17.130011\"/>\n     <use style=\"fill:#0000ff;stroke:#0000ff;\" x=\"187.992234\" xlink:href=\"#m3ada581ca7\" y=\"17.129229\"/>\n     <use style=\"fill:#0000ff;stroke:#0000ff;\" x=\"188.296902\" xlink:href=\"#m3ada581ca7\" y=\"17.12846\"/>\n     <use style=\"fill:#0000ff;stroke:#0000ff;\" x=\"188.60157\" xlink:href=\"#m3ada581ca7\" y=\"17.127705\"/>\n     <use style=\"fill:#0000ff;stroke:#0000ff;\" x=\"188.906238\" xlink:href=\"#m3ada581ca7\" y=\"17.126962\"/>\n     <use style=\"fill:#0000ff;stroke:#0000ff;\" x=\"189.210907\" xlink:href=\"#m3ada581ca7\" y=\"17.126232\"/>\n     <use style=\"fill:#0000ff;stroke:#0000ff;\" x=\"189.515575\" xlink:href=\"#m3ada581ca7\" y=\"17.125514\"/>\n     <use style=\"fill:#0000ff;stroke:#0000ff;\" x=\"189.820243\" xlink:href=\"#m3ada581ca7\" y=\"17.124808\"/>\n     <use style=\"fill:#0000ff;stroke:#0000ff;\" x=\"190.124912\" xlink:href=\"#m3ada581ca7\" y=\"17.124115\"/>\n     <use style=\"fill:#0000ff;stroke:#0000ff;\" x=\"190.42958\" xlink:href=\"#m3ada581ca7\" y=\"17.123433\"/>\n     <use style=\"fill:#0000ff;stroke:#0000ff;\" x=\"190.734248\" xlink:href=\"#m3ada581ca7\" y=\"17.122763\"/>\n     <use style=\"fill:#0000ff;stroke:#0000ff;\" x=\"191.038917\" xlink:href=\"#m3ada581ca7\" y=\"17.122104\"/>\n     <use style=\"fill:#0000ff;stroke:#0000ff;\" x=\"191.343585\" xlink:href=\"#m3ada581ca7\" y=\"17.121456\"/>\n     <use style=\"fill:#0000ff;stroke:#0000ff;\" x=\"191.648253\" xlink:href=\"#m3ada581ca7\" y=\"17.120819\"/>\n     <use style=\"fill:#0000ff;stroke:#0000ff;\" x=\"191.952922\" xlink:href=\"#m3ada581ca7\" y=\"17.120194\"/>\n     <use style=\"fill:#0000ff;stroke:#0000ff;\" x=\"192.25759\" xlink:href=\"#m3ada581ca7\" y=\"17.119578\"/>\n     <use style=\"fill:#0000ff;stroke:#0000ff;\" x=\"192.562258\" xlink:href=\"#m3ada581ca7\" y=\"17.118973\"/>\n     <use style=\"fill:#0000ff;stroke:#0000ff;\" x=\"192.866926\" xlink:href=\"#m3ada581ca7\" y=\"17.118379\"/>\n     <use style=\"fill:#0000ff;stroke:#0000ff;\" x=\"193.171595\" xlink:href=\"#m3ada581ca7\" y=\"17.117794\"/>\n     <use style=\"fill:#0000ff;stroke:#0000ff;\" x=\"193.476263\" xlink:href=\"#m3ada581ca7\" y=\"17.11722\"/>\n     <use style=\"fill:#0000ff;stroke:#0000ff;\" x=\"193.780931\" xlink:href=\"#m3ada581ca7\" y=\"17.116655\"/>\n     <use style=\"fill:#0000ff;stroke:#0000ff;\" x=\"194.0856\" xlink:href=\"#m3ada581ca7\" y=\"17.1161\"/>\n     <use style=\"fill:#0000ff;stroke:#0000ff;\" x=\"194.390268\" xlink:href=\"#m3ada581ca7\" y=\"17.115554\"/>\n     <use style=\"fill:#0000ff;stroke:#0000ff;\" x=\"194.694936\" xlink:href=\"#m3ada581ca7\" y=\"17.115017\"/>\n     <use style=\"fill:#0000ff;stroke:#0000ff;\" x=\"194.999605\" xlink:href=\"#m3ada581ca7\" y=\"17.11449\"/>\n     <use style=\"fill:#0000ff;stroke:#0000ff;\" x=\"195.304273\" xlink:href=\"#m3ada581ca7\" y=\"17.113971\"/>\n     <use style=\"fill:#0000ff;stroke:#0000ff;\" x=\"195.608941\" xlink:href=\"#m3ada581ca7\" y=\"17.113461\"/>\n     <use style=\"fill:#0000ff;stroke:#0000ff;\" x=\"195.913609\" xlink:href=\"#m3ada581ca7\" y=\"17.11296\"/>\n     <use style=\"fill:#0000ff;stroke:#0000ff;\" x=\"196.218278\" xlink:href=\"#m3ada581ca7\" y=\"17.112467\"/>\n     <use style=\"fill:#0000ff;stroke:#0000ff;\" x=\"196.522946\" xlink:href=\"#m3ada581ca7\" y=\"17.111983\"/>\n     <use style=\"fill:#0000ff;stroke:#0000ff;\" x=\"196.827614\" xlink:href=\"#m3ada581ca7\" y=\"17.111507\"/>\n     <use style=\"fill:#0000ff;stroke:#0000ff;\" x=\"197.132283\" xlink:href=\"#m3ada581ca7\" y=\"17.111039\"/>\n     <use style=\"fill:#0000ff;stroke:#0000ff;\" x=\"197.436951\" xlink:href=\"#m3ada581ca7\" y=\"17.110578\"/>\n     <use style=\"fill:#0000ff;stroke:#0000ff;\" x=\"197.741619\" xlink:href=\"#m3ada581ca7\" y=\"17.110126\"/>\n     <use style=\"fill:#0000ff;stroke:#0000ff;\" x=\"198.046288\" xlink:href=\"#m3ada581ca7\" y=\"17.109681\"/>\n     <use style=\"fill:#0000ff;stroke:#0000ff;\" x=\"198.350956\" xlink:href=\"#m3ada581ca7\" y=\"17.109244\"/>\n     <use style=\"fill:#0000ff;stroke:#0000ff;\" x=\"198.655624\" xlink:href=\"#m3ada581ca7\" y=\"17.108814\"/>\n     <use style=\"fill:#0000ff;stroke:#0000ff;\" x=\"198.960293\" xlink:href=\"#m3ada581ca7\" y=\"17.108391\"/>\n     <use style=\"fill:#0000ff;stroke:#0000ff;\" x=\"199.264961\" xlink:href=\"#m3ada581ca7\" y=\"17.107976\"/>\n     <use style=\"fill:#0000ff;stroke:#0000ff;\" x=\"199.569629\" xlink:href=\"#m3ada581ca7\" y=\"17.107568\"/>\n     <use style=\"fill:#0000ff;stroke:#0000ff;\" x=\"199.874297\" xlink:href=\"#m3ada581ca7\" y=\"17.107166\"/>\n     <use style=\"fill:#0000ff;stroke:#0000ff;\" x=\"200.178966\" xlink:href=\"#m3ada581ca7\" y=\"17.106771\"/>\n     <use style=\"fill:#0000ff;stroke:#0000ff;\" x=\"200.483634\" xlink:href=\"#m3ada581ca7\" y=\"17.106383\"/>\n     <use style=\"fill:#0000ff;stroke:#0000ff;\" x=\"200.788302\" xlink:href=\"#m3ada581ca7\" y=\"17.106002\"/>\n     <use style=\"fill:#0000ff;stroke:#0000ff;\" x=\"201.092971\" xlink:href=\"#m3ada581ca7\" y=\"17.105626\"/>\n     <use style=\"fill:#0000ff;stroke:#0000ff;\" x=\"201.397639\" xlink:href=\"#m3ada581ca7\" y=\"17.105258\"/>\n     <use style=\"fill:#0000ff;stroke:#0000ff;\" x=\"201.702307\" xlink:href=\"#m3ada581ca7\" y=\"17.104895\"/>\n     <use style=\"fill:#0000ff;stroke:#0000ff;\" x=\"202.006976\" xlink:href=\"#m3ada581ca7\" y=\"17.104539\"/>\n     <use style=\"fill:#0000ff;stroke:#0000ff;\" x=\"202.311644\" xlink:href=\"#m3ada581ca7\" y=\"17.104188\"/>\n     <use style=\"fill:#0000ff;stroke:#0000ff;\" x=\"202.616312\" xlink:href=\"#m3ada581ca7\" y=\"17.103844\"/>\n     <use style=\"fill:#0000ff;stroke:#0000ff;\" x=\"202.92098\" xlink:href=\"#m3ada581ca7\" y=\"17.103505\"/>\n     <use style=\"fill:#0000ff;stroke:#0000ff;\" x=\"203.225649\" xlink:href=\"#m3ada581ca7\" y=\"17.103172\"/>\n     <use style=\"fill:#0000ff;stroke:#0000ff;\" x=\"203.530317\" xlink:href=\"#m3ada581ca7\" y=\"17.102844\"/>\n     <use style=\"fill:#0000ff;stroke:#0000ff;\" x=\"203.834985\" xlink:href=\"#m3ada581ca7\" y=\"17.102523\"/>\n     <use style=\"fill:#0000ff;stroke:#0000ff;\" x=\"204.139654\" xlink:href=\"#m3ada581ca7\" y=\"17.102206\"/>\n     <use style=\"fill:#0000ff;stroke:#0000ff;\" x=\"204.444322\" xlink:href=\"#m3ada581ca7\" y=\"17.101895\"/>\n     <use style=\"fill:#0000ff;stroke:#0000ff;\" x=\"204.74899\" xlink:href=\"#m3ada581ca7\" y=\"17.101589\"/>\n     <use style=\"fill:#0000ff;stroke:#0000ff;\" x=\"205.053659\" xlink:href=\"#m3ada581ca7\" y=\"17.101288\"/>\n     <use style=\"fill:#0000ff;stroke:#0000ff;\" x=\"205.358327\" xlink:href=\"#m3ada581ca7\" y=\"17.100993\"/>\n     <use style=\"fill:#0000ff;stroke:#0000ff;\" x=\"205.662995\" xlink:href=\"#m3ada581ca7\" y=\"17.100702\"/>\n     <use style=\"fill:#0000ff;stroke:#0000ff;\" x=\"205.967664\" xlink:href=\"#m3ada581ca7\" y=\"17.100416\"/>\n     <use style=\"fill:#0000ff;stroke:#0000ff;\" x=\"206.272332\" xlink:href=\"#m3ada581ca7\" y=\"17.100135\"/>\n     <use style=\"fill:#0000ff;stroke:#0000ff;\" x=\"206.577\" xlink:href=\"#m3ada581ca7\" y=\"17.099859\"/>\n     <use style=\"fill:#0000ff;stroke:#0000ff;\" x=\"206.881668\" xlink:href=\"#m3ada581ca7\" y=\"17.099587\"/>\n     <use style=\"fill:#0000ff;stroke:#0000ff;\" x=\"207.186337\" xlink:href=\"#m3ada581ca7\" y=\"17.09932\"/>\n     <use style=\"fill:#0000ff;stroke:#0000ff;\" x=\"207.491005\" xlink:href=\"#m3ada581ca7\" y=\"17.099058\"/>\n     <use style=\"fill:#0000ff;stroke:#0000ff;\" x=\"207.795673\" xlink:href=\"#m3ada581ca7\" y=\"17.0988\"/>\n     <use style=\"fill:#0000ff;stroke:#0000ff;\" x=\"208.100342\" xlink:href=\"#m3ada581ca7\" y=\"17.098546\"/>\n     <use style=\"fill:#0000ff;stroke:#0000ff;\" x=\"208.40501\" xlink:href=\"#m3ada581ca7\" y=\"17.098296\"/>\n     <use style=\"fill:#0000ff;stroke:#0000ff;\" x=\"208.709678\" xlink:href=\"#m3ada581ca7\" y=\"17.098051\"/>\n     <use style=\"fill:#0000ff;stroke:#0000ff;\" x=\"209.014347\" xlink:href=\"#m3ada581ca7\" y=\"17.09781\"/>\n     <use style=\"fill:#0000ff;stroke:#0000ff;\" x=\"209.319015\" xlink:href=\"#m3ada581ca7\" y=\"17.097573\"/>\n     <use style=\"fill:#0000ff;stroke:#0000ff;\" x=\"209.623683\" xlink:href=\"#m3ada581ca7\" y=\"17.09734\"/>\n     <use style=\"fill:#0000ff;stroke:#0000ff;\" x=\"209.928352\" xlink:href=\"#m3ada581ca7\" y=\"17.09711\"/>\n     <use style=\"fill:#0000ff;stroke:#0000ff;\" x=\"210.23302\" xlink:href=\"#m3ada581ca7\" y=\"17.096885\"/>\n     <use style=\"fill:#0000ff;stroke:#0000ff;\" x=\"210.537688\" xlink:href=\"#m3ada581ca7\" y=\"17.096663\"/>\n     <use style=\"fill:#0000ff;stroke:#0000ff;\" x=\"210.842356\" xlink:href=\"#m3ada581ca7\" y=\"17.096446\"/>\n     <use style=\"fill:#0000ff;stroke:#0000ff;\" x=\"211.147025\" xlink:href=\"#m3ada581ca7\" y=\"17.096231\"/>\n     <use style=\"fill:#0000ff;stroke:#0000ff;\" x=\"211.451693\" xlink:href=\"#m3ada581ca7\" y=\"17.096021\"/>\n     <use style=\"fill:#0000ff;stroke:#0000ff;\" x=\"211.756361\" xlink:href=\"#m3ada581ca7\" y=\"17.095814\"/>\n     <use style=\"fill:#0000ff;stroke:#0000ff;\" x=\"212.06103\" xlink:href=\"#m3ada581ca7\" y=\"17.09561\"/>\n     <use style=\"fill:#0000ff;stroke:#0000ff;\" x=\"212.365698\" xlink:href=\"#m3ada581ca7\" y=\"17.09541\"/>\n     <use style=\"fill:#0000ff;stroke:#0000ff;\" x=\"212.670366\" xlink:href=\"#m3ada581ca7\" y=\"17.095213\"/>\n     <use style=\"fill:#0000ff;stroke:#0000ff;\" x=\"212.975035\" xlink:href=\"#m3ada581ca7\" y=\"17.09502\"/>\n     <use style=\"fill:#0000ff;stroke:#0000ff;\" x=\"213.279703\" xlink:href=\"#m3ada581ca7\" y=\"17.094829\"/>\n     <use style=\"fill:#0000ff;stroke:#0000ff;\" x=\"213.584371\" xlink:href=\"#m3ada581ca7\" y=\"17.094642\"/>\n     <use style=\"fill:#0000ff;stroke:#0000ff;\" x=\"213.889039\" xlink:href=\"#m3ada581ca7\" y=\"17.094458\"/>\n     <use style=\"fill:#0000ff;stroke:#0000ff;\" x=\"214.193708\" xlink:href=\"#m3ada581ca7\" y=\"17.094278\"/>\n     <use style=\"fill:#0000ff;stroke:#0000ff;\" x=\"214.498376\" xlink:href=\"#m3ada581ca7\" y=\"17.0941\"/>\n     <use style=\"fill:#0000ff;stroke:#0000ff;\" x=\"214.803044\" xlink:href=\"#m3ada581ca7\" y=\"17.093925\"/>\n     <use style=\"fill:#0000ff;stroke:#0000ff;\" x=\"215.107713\" xlink:href=\"#m3ada581ca7\" y=\"17.093753\"/>\n     <use style=\"fill:#0000ff;stroke:#0000ff;\" x=\"215.412381\" xlink:href=\"#m3ada581ca7\" y=\"17.093584\"/>\n     <use style=\"fill:#0000ff;stroke:#0000ff;\" x=\"215.717049\" xlink:href=\"#m3ada581ca7\" y=\"17.093418\"/>\n     <use style=\"fill:#0000ff;stroke:#0000ff;\" x=\"216.021718\" xlink:href=\"#m3ada581ca7\" y=\"17.093254\"/>\n     <use style=\"fill:#0000ff;stroke:#0000ff;\" x=\"216.326386\" xlink:href=\"#m3ada581ca7\" y=\"17.093094\"/>\n     <use style=\"fill:#0000ff;stroke:#0000ff;\" x=\"216.631054\" xlink:href=\"#m3ada581ca7\" y=\"17.092936\"/>\n     <use style=\"fill:#0000ff;stroke:#0000ff;\" x=\"216.935723\" xlink:href=\"#m3ada581ca7\" y=\"17.092781\"/>\n     <use style=\"fill:#0000ff;stroke:#0000ff;\" x=\"217.240391\" xlink:href=\"#m3ada581ca7\" y=\"17.092628\"/>\n     <use style=\"fill:#0000ff;stroke:#0000ff;\" x=\"217.545059\" xlink:href=\"#m3ada581ca7\" y=\"17.092478\"/>\n     <use style=\"fill:#0000ff;stroke:#0000ff;\" x=\"217.849727\" xlink:href=\"#m3ada581ca7\" y=\"17.09233\"/>\n     <use style=\"fill:#0000ff;stroke:#0000ff;\" x=\"218.154396\" xlink:href=\"#m3ada581ca7\" y=\"17.092185\"/>\n     <use style=\"fill:#0000ff;stroke:#0000ff;\" x=\"218.459064\" xlink:href=\"#m3ada581ca7\" y=\"17.092042\"/>\n     <use style=\"fill:#0000ff;stroke:#0000ff;\" x=\"218.763732\" xlink:href=\"#m3ada581ca7\" y=\"17.091902\"/>\n     <use style=\"fill:#0000ff;stroke:#0000ff;\" x=\"219.068401\" xlink:href=\"#m3ada581ca7\" y=\"17.091764\"/>\n     <use style=\"fill:#0000ff;stroke:#0000ff;\" x=\"219.373069\" xlink:href=\"#m3ada581ca7\" y=\"17.091628\"/>\n     <use style=\"fill:#0000ff;stroke:#0000ff;\" x=\"219.677737\" xlink:href=\"#m3ada581ca7\" y=\"17.091495\"/>\n     <use style=\"fill:#0000ff;stroke:#0000ff;\" x=\"219.982406\" xlink:href=\"#m3ada581ca7\" y=\"17.091364\"/>\n     <use style=\"fill:#0000ff;stroke:#0000ff;\" x=\"220.287074\" xlink:href=\"#m3ada581ca7\" y=\"17.091235\"/>\n     <use style=\"fill:#0000ff;stroke:#0000ff;\" x=\"220.591742\" xlink:href=\"#m3ada581ca7\" y=\"17.091108\"/>\n     <use style=\"fill:#0000ff;stroke:#0000ff;\" x=\"220.89641\" xlink:href=\"#m3ada581ca7\" y=\"17.090983\"/>\n     <use style=\"fill:#0000ff;stroke:#0000ff;\" x=\"221.201079\" xlink:href=\"#m3ada581ca7\" y=\"17.090861\"/>\n     <use style=\"fill:#0000ff;stroke:#0000ff;\" x=\"221.505747\" xlink:href=\"#m3ada581ca7\" y=\"17.09074\"/>\n     <use style=\"fill:#0000ff;stroke:#0000ff;\" x=\"221.810415\" xlink:href=\"#m3ada581ca7\" y=\"17.090622\"/>\n     <use style=\"fill:#0000ff;stroke:#0000ff;\" x=\"222.115084\" xlink:href=\"#m3ada581ca7\" y=\"17.090505\"/>\n     <use style=\"fill:#0000ff;stroke:#0000ff;\" x=\"222.419752\" xlink:href=\"#m3ada581ca7\" y=\"17.090391\"/>\n     <use style=\"fill:#0000ff;stroke:#0000ff;\" x=\"222.72442\" xlink:href=\"#m3ada581ca7\" y=\"17.090278\"/>\n     <use style=\"fill:#0000ff;stroke:#0000ff;\" x=\"223.029089\" xlink:href=\"#m3ada581ca7\" y=\"17.090167\"/>\n     <use style=\"fill:#0000ff;stroke:#0000ff;\" x=\"223.333757\" xlink:href=\"#m3ada581ca7\" y=\"17.090058\"/>\n     <use style=\"fill:#0000ff;stroke:#0000ff;\" x=\"223.638425\" xlink:href=\"#m3ada581ca7\" y=\"17.089951\"/>\n     <use style=\"fill:#0000ff;stroke:#0000ff;\" x=\"223.943094\" xlink:href=\"#m3ada581ca7\" y=\"17.089846\"/>\n     <use style=\"fill:#0000ff;stroke:#0000ff;\" x=\"224.247762\" xlink:href=\"#m3ada581ca7\" y=\"17.089742\"/>\n     <use style=\"fill:#0000ff;stroke:#0000ff;\" x=\"224.55243\" xlink:href=\"#m3ada581ca7\" y=\"17.08964\"/>\n     <use style=\"fill:#0000ff;stroke:#0000ff;\" x=\"224.857098\" xlink:href=\"#m3ada581ca7\" y=\"17.08954\"/>\n     <use style=\"fill:#0000ff;stroke:#0000ff;\" x=\"225.161767\" xlink:href=\"#m3ada581ca7\" y=\"17.089442\"/>\n     <use style=\"fill:#0000ff;stroke:#0000ff;\" x=\"225.466435\" xlink:href=\"#m3ada581ca7\" y=\"17.089345\"/>\n     <use style=\"fill:#0000ff;stroke:#0000ff;\" x=\"225.771103\" xlink:href=\"#m3ada581ca7\" y=\"17.08925\"/>\n     <use style=\"fill:#0000ff;stroke:#0000ff;\" x=\"226.075772\" xlink:href=\"#m3ada581ca7\" y=\"17.089156\"/>\n     <use style=\"fill:#0000ff;stroke:#0000ff;\" x=\"226.38044\" xlink:href=\"#m3ada581ca7\" y=\"17.089064\"/>\n     <use style=\"fill:#0000ff;stroke:#0000ff;\" x=\"226.685108\" xlink:href=\"#m3ada581ca7\" y=\"17.088974\"/>\n     <use style=\"fill:#0000ff;stroke:#0000ff;\" x=\"226.989777\" xlink:href=\"#m3ada581ca7\" y=\"17.088885\"/>\n     <use style=\"fill:#0000ff;stroke:#0000ff;\" x=\"227.294445\" xlink:href=\"#m3ada581ca7\" y=\"17.088797\"/>\n     <use style=\"fill:#0000ff;stroke:#0000ff;\" x=\"227.599113\" xlink:href=\"#m3ada581ca7\" y=\"17.088711\"/>\n     <use style=\"fill:#0000ff;stroke:#0000ff;\" x=\"227.903781\" xlink:href=\"#m3ada581ca7\" y=\"17.088627\"/>\n     <use style=\"fill:#0000ff;stroke:#0000ff;\" x=\"228.20845\" xlink:href=\"#m3ada581ca7\" y=\"17.088543\"/>\n     <use style=\"fill:#0000ff;stroke:#0000ff;\" x=\"228.513118\" xlink:href=\"#m3ada581ca7\" y=\"17.088462\"/>\n     <use style=\"fill:#0000ff;stroke:#0000ff;\" x=\"228.817786\" xlink:href=\"#m3ada581ca7\" y=\"17.088381\"/>\n     <use style=\"fill:#0000ff;stroke:#0000ff;\" x=\"229.122455\" xlink:href=\"#m3ada581ca7\" y=\"17.088302\"/>\n     <use style=\"fill:#0000ff;stroke:#0000ff;\" x=\"229.427123\" xlink:href=\"#m3ada581ca7\" y=\"17.088224\"/>\n     <use style=\"fill:#0000ff;stroke:#0000ff;\" x=\"229.731791\" xlink:href=\"#m3ada581ca7\" y=\"17.088148\"/>\n     <use style=\"fill:#0000ff;stroke:#0000ff;\" x=\"230.03646\" xlink:href=\"#m3ada581ca7\" y=\"17.088073\"/>\n     <use style=\"fill:#0000ff;stroke:#0000ff;\" x=\"230.341128\" xlink:href=\"#m3ada581ca7\" y=\"17.087999\"/>\n     <use style=\"fill:#0000ff;stroke:#0000ff;\" x=\"230.645796\" xlink:href=\"#m3ada581ca7\" y=\"17.087926\"/>\n     <use style=\"fill:#0000ff;stroke:#0000ff;\" x=\"230.950465\" xlink:href=\"#m3ada581ca7\" y=\"17.087855\"/>\n     <use style=\"fill:#0000ff;stroke:#0000ff;\" x=\"231.255133\" xlink:href=\"#m3ada581ca7\" y=\"17.087785\"/>\n     <use style=\"fill:#0000ff;stroke:#0000ff;\" x=\"231.559801\" xlink:href=\"#m3ada581ca7\" y=\"17.087715\"/>\n     <use style=\"fill:#0000ff;stroke:#0000ff;\" x=\"231.864469\" xlink:href=\"#m3ada581ca7\" y=\"17.087647\"/>\n     <use style=\"fill:#0000ff;stroke:#0000ff;\" x=\"232.169138\" xlink:href=\"#m3ada581ca7\" y=\"17.087581\"/>\n     <use style=\"fill:#0000ff;stroke:#0000ff;\" x=\"232.473806\" xlink:href=\"#m3ada581ca7\" y=\"17.087515\"/>\n     <use style=\"fill:#0000ff;stroke:#0000ff;\" x=\"232.778474\" xlink:href=\"#m3ada581ca7\" y=\"17.08745\"/>\n     <use style=\"fill:#0000ff;stroke:#0000ff;\" x=\"233.083143\" xlink:href=\"#m3ada581ca7\" y=\"17.087387\"/>\n     <use style=\"fill:#0000ff;stroke:#0000ff;\" x=\"233.387811\" xlink:href=\"#m3ada581ca7\" y=\"17.087324\"/>\n     <use style=\"fill:#0000ff;stroke:#0000ff;\" x=\"233.692479\" xlink:href=\"#m3ada581ca7\" y=\"17.087263\"/>\n     <use style=\"fill:#0000ff;stroke:#0000ff;\" x=\"233.997148\" xlink:href=\"#m3ada581ca7\" y=\"17.087203\"/>\n     <use style=\"fill:#0000ff;stroke:#0000ff;\" x=\"234.301816\" xlink:href=\"#m3ada581ca7\" y=\"17.087143\"/>\n     <use style=\"fill:#0000ff;stroke:#0000ff;\" x=\"234.606484\" xlink:href=\"#m3ada581ca7\" y=\"17.087085\"/>\n     <use style=\"fill:#0000ff;stroke:#0000ff;\" x=\"234.911152\" xlink:href=\"#m3ada581ca7\" y=\"17.087027\"/>\n     <use style=\"fill:#0000ff;stroke:#0000ff;\" x=\"235.215821\" xlink:href=\"#m3ada581ca7\" y=\"17.086971\"/>\n     <use style=\"fill:#0000ff;stroke:#0000ff;\" x=\"235.520489\" xlink:href=\"#m3ada581ca7\" y=\"17.086915\"/>\n     <use style=\"fill:#0000ff;stroke:#0000ff;\" x=\"235.825157\" xlink:href=\"#m3ada581ca7\" y=\"17.086861\"/>\n     <use style=\"fill:#0000ff;stroke:#0000ff;\" x=\"236.129826\" xlink:href=\"#m3ada581ca7\" y=\"17.086807\"/>\n     <use style=\"fill:#0000ff;stroke:#0000ff;\" x=\"236.434494\" xlink:href=\"#m3ada581ca7\" y=\"17.086754\"/>\n     <use style=\"fill:#0000ff;stroke:#0000ff;\" x=\"236.739162\" xlink:href=\"#m3ada581ca7\" y=\"17.086702\"/>\n     <use style=\"fill:#0000ff;stroke:#0000ff;\" x=\"237.043831\" xlink:href=\"#m3ada581ca7\" y=\"17.086651\"/>\n     <use style=\"fill:#0000ff;stroke:#0000ff;\" x=\"237.348499\" xlink:href=\"#m3ada581ca7\" y=\"17.086601\"/>\n     <use style=\"fill:#0000ff;stroke:#0000ff;\" x=\"237.653167\" xlink:href=\"#m3ada581ca7\" y=\"17.086552\"/>\n     <use style=\"fill:#0000ff;stroke:#0000ff;\" x=\"237.957836\" xlink:href=\"#m3ada581ca7\" y=\"17.086503\"/>\n     <use style=\"fill:#0000ff;stroke:#0000ff;\" x=\"238.262504\" xlink:href=\"#m3ada581ca7\" y=\"17.086456\"/>\n     <use style=\"fill:#0000ff;stroke:#0000ff;\" x=\"238.567172\" xlink:href=\"#m3ada581ca7\" y=\"17.086409\"/>\n     <use style=\"fill:#0000ff;stroke:#0000ff;\" x=\"238.87184\" xlink:href=\"#m3ada581ca7\" y=\"17.086362\"/>\n     <use style=\"fill:#0000ff;stroke:#0000ff;\" x=\"239.176509\" xlink:href=\"#m3ada581ca7\" y=\"17.086317\"/>\n     <use style=\"fill:#0000ff;stroke:#0000ff;\" x=\"239.481177\" xlink:href=\"#m3ada581ca7\" y=\"17.086272\"/>\n     <use style=\"fill:#0000ff;stroke:#0000ff;\" x=\"239.785845\" xlink:href=\"#m3ada581ca7\" y=\"17.086229\"/>\n     <use style=\"fill:#0000ff;stroke:#0000ff;\" x=\"240.090514\" xlink:href=\"#m3ada581ca7\" y=\"17.086185\"/>\n     <use style=\"fill:#0000ff;stroke:#0000ff;\" x=\"240.395182\" xlink:href=\"#m3ada581ca7\" y=\"17.086143\"/>\n     <use style=\"fill:#0000ff;stroke:#0000ff;\" x=\"240.69985\" xlink:href=\"#m3ada581ca7\" y=\"17.086101\"/>\n     <use style=\"fill:#0000ff;stroke:#0000ff;\" x=\"241.004519\" xlink:href=\"#m3ada581ca7\" y=\"17.08606\"/>\n     <use style=\"fill:#0000ff;stroke:#0000ff;\" x=\"241.309187\" xlink:href=\"#m3ada581ca7\" y=\"17.08602\"/>\n     <use style=\"fill:#0000ff;stroke:#0000ff;\" x=\"241.613855\" xlink:href=\"#m3ada581ca7\" y=\"17.08598\"/>\n     <use style=\"fill:#0000ff;stroke:#0000ff;\" x=\"241.918523\" xlink:href=\"#m3ada581ca7\" y=\"17.085941\"/>\n     <use style=\"fill:#0000ff;stroke:#0000ff;\" x=\"242.223192\" xlink:href=\"#m3ada581ca7\" y=\"17.085903\"/>\n     <use style=\"fill:#0000ff;stroke:#0000ff;\" x=\"242.52786\" xlink:href=\"#m3ada581ca7\" y=\"17.085865\"/>\n     <use style=\"fill:#0000ff;stroke:#0000ff;\" x=\"242.832528\" xlink:href=\"#m3ada581ca7\" y=\"17.085828\"/>\n     <use style=\"fill:#0000ff;stroke:#0000ff;\" x=\"243.137197\" xlink:href=\"#m3ada581ca7\" y=\"17.085792\"/>\n     <use style=\"fill:#0000ff;stroke:#0000ff;\" x=\"243.441865\" xlink:href=\"#m3ada581ca7\" y=\"17.085756\"/>\n     <use style=\"fill:#0000ff;stroke:#0000ff;\" x=\"243.746533\" xlink:href=\"#m3ada581ca7\" y=\"17.085721\"/>\n     <use style=\"fill:#0000ff;stroke:#0000ff;\" x=\"244.051202\" xlink:href=\"#m3ada581ca7\" y=\"17.085686\"/>\n     <use style=\"fill:#0000ff;stroke:#0000ff;\" x=\"244.35587\" xlink:href=\"#m3ada581ca7\" y=\"17.085652\"/>\n     <use style=\"fill:#0000ff;stroke:#0000ff;\" x=\"244.660538\" xlink:href=\"#m3ada581ca7\" y=\"17.085618\"/>\n     <use style=\"fill:#0000ff;stroke:#0000ff;\" x=\"244.965207\" xlink:href=\"#m3ada581ca7\" y=\"17.085585\"/>\n     <use style=\"fill:#0000ff;stroke:#0000ff;\" x=\"245.269875\" xlink:href=\"#m3ada581ca7\" y=\"17.085553\"/>\n     <use style=\"fill:#0000ff;stroke:#0000ff;\" x=\"245.574543\" xlink:href=\"#m3ada581ca7\" y=\"17.085521\"/>\n     <use style=\"fill:#0000ff;stroke:#0000ff;\" x=\"245.879211\" xlink:href=\"#m3ada581ca7\" y=\"17.08549\"/>\n     <use style=\"fill:#0000ff;stroke:#0000ff;\" x=\"246.18388\" xlink:href=\"#m3ada581ca7\" y=\"17.085459\"/>\n     <use style=\"fill:#0000ff;stroke:#0000ff;\" x=\"246.488548\" xlink:href=\"#m3ada581ca7\" y=\"17.085428\"/>\n     <use style=\"fill:#0000ff;stroke:#0000ff;\" x=\"246.793216\" xlink:href=\"#m3ada581ca7\" y=\"17.085399\"/>\n     <use style=\"fill:#0000ff;stroke:#0000ff;\" x=\"247.097885\" xlink:href=\"#m3ada581ca7\" y=\"17.085369\"/>\n     <use style=\"fill:#0000ff;stroke:#0000ff;\" x=\"247.402553\" xlink:href=\"#m3ada581ca7\" y=\"17.085341\"/>\n     <use style=\"fill:#0000ff;stroke:#0000ff;\" x=\"247.707221\" xlink:href=\"#m3ada581ca7\" y=\"17.085312\"/>\n     <use style=\"fill:#0000ff;stroke:#0000ff;\" x=\"248.01189\" xlink:href=\"#m3ada581ca7\" y=\"17.085284\"/>\n     <use style=\"fill:#0000ff;stroke:#0000ff;\" x=\"248.316558\" xlink:href=\"#m3ada581ca7\" y=\"17.085257\"/>\n     <use style=\"fill:#0000ff;stroke:#0000ff;\" x=\"248.621226\" xlink:href=\"#m3ada581ca7\" y=\"17.08523\"/>\n     <use style=\"fill:#0000ff;stroke:#0000ff;\" x=\"248.925895\" xlink:href=\"#m3ada581ca7\" y=\"17.085203\"/>\n     <use style=\"fill:#0000ff;stroke:#0000ff;\" x=\"249.230563\" xlink:href=\"#m3ada581ca7\" y=\"17.085177\"/>\n     <use style=\"fill:#0000ff;stroke:#0000ff;\" x=\"249.535231\" xlink:href=\"#m3ada581ca7\" y=\"17.085152\"/>\n     <use style=\"fill:#0000ff;stroke:#0000ff;\" x=\"249.839899\" xlink:href=\"#m3ada581ca7\" y=\"17.085127\"/>\n     <use style=\"fill:#0000ff;stroke:#0000ff;\" x=\"250.144568\" xlink:href=\"#m3ada581ca7\" y=\"17.085102\"/>\n     <use style=\"fill:#0000ff;stroke:#0000ff;\" x=\"250.449236\" xlink:href=\"#m3ada581ca7\" y=\"17.085077\"/>\n     <use style=\"fill:#0000ff;stroke:#0000ff;\" x=\"250.753904\" xlink:href=\"#m3ada581ca7\" y=\"17.085053\"/>\n     <use style=\"fill:#0000ff;stroke:#0000ff;\" x=\"251.058573\" xlink:href=\"#m3ada581ca7\" y=\"17.08503\"/>\n     <use style=\"fill:#0000ff;stroke:#0000ff;\" x=\"251.363241\" xlink:href=\"#m3ada581ca7\" y=\"17.085007\"/>\n     <use style=\"fill:#0000ff;stroke:#0000ff;\" x=\"251.667909\" xlink:href=\"#m3ada581ca7\" y=\"17.084984\"/>\n     <use style=\"fill:#0000ff;stroke:#0000ff;\" x=\"251.972578\" xlink:href=\"#m3ada581ca7\" y=\"17.084961\"/>\n     <use style=\"fill:#0000ff;stroke:#0000ff;\" x=\"252.277246\" xlink:href=\"#m3ada581ca7\" y=\"17.084939\"/>\n     <use style=\"fill:#0000ff;stroke:#0000ff;\" x=\"252.581914\" xlink:href=\"#m3ada581ca7\" y=\"17.084918\"/>\n     <use style=\"fill:#0000ff;stroke:#0000ff;\" x=\"252.886582\" xlink:href=\"#m3ada581ca7\" y=\"17.084896\"/>\n     <use style=\"fill:#0000ff;stroke:#0000ff;\" x=\"253.191251\" xlink:href=\"#m3ada581ca7\" y=\"17.084875\"/>\n     <use style=\"fill:#0000ff;stroke:#0000ff;\" x=\"253.495919\" xlink:href=\"#m3ada581ca7\" y=\"17.084855\"/>\n     <use style=\"fill:#0000ff;stroke:#0000ff;\" x=\"253.800587\" xlink:href=\"#m3ada581ca7\" y=\"17.084835\"/>\n     <use style=\"fill:#0000ff;stroke:#0000ff;\" x=\"254.105256\" xlink:href=\"#m3ada581ca7\" y=\"17.084815\"/>\n     <use style=\"fill:#0000ff;stroke:#0000ff;\" x=\"254.409924\" xlink:href=\"#m3ada581ca7\" y=\"17.084795\"/>\n     <use style=\"fill:#0000ff;stroke:#0000ff;\" x=\"254.714592\" xlink:href=\"#m3ada581ca7\" y=\"17.084776\"/>\n     <use style=\"fill:#0000ff;stroke:#0000ff;\" x=\"255.019261\" xlink:href=\"#m3ada581ca7\" y=\"17.084757\"/>\n     <use style=\"fill:#0000ff;stroke:#0000ff;\" x=\"255.323929\" xlink:href=\"#m3ada581ca7\" y=\"17.084738\"/>\n     <use style=\"fill:#0000ff;stroke:#0000ff;\" x=\"255.628597\" xlink:href=\"#m3ada581ca7\" y=\"17.08472\"/>\n     <use style=\"fill:#0000ff;stroke:#0000ff;\" x=\"255.933266\" xlink:href=\"#m3ada581ca7\" y=\"17.084702\"/>\n     <use style=\"fill:#0000ff;stroke:#0000ff;\" x=\"256.237934\" xlink:href=\"#m3ada581ca7\" y=\"17.084684\"/>\n     <use style=\"fill:#0000ff;stroke:#0000ff;\" x=\"256.542602\" xlink:href=\"#m3ada581ca7\" y=\"17.084667\"/>\n     <use style=\"fill:#0000ff;stroke:#0000ff;\" x=\"256.84727\" xlink:href=\"#m3ada581ca7\" y=\"17.08465\"/>\n     <use style=\"fill:#0000ff;stroke:#0000ff;\" x=\"257.151939\" xlink:href=\"#m3ada581ca7\" y=\"17.084633\"/>\n     <use style=\"fill:#0000ff;stroke:#0000ff;\" x=\"257.456607\" xlink:href=\"#m3ada581ca7\" y=\"17.084616\"/>\n     <use style=\"fill:#0000ff;stroke:#0000ff;\" x=\"257.761275\" xlink:href=\"#m3ada581ca7\" y=\"17.0846\"/>\n     <use style=\"fill:#0000ff;stroke:#0000ff;\" x=\"258.065944\" xlink:href=\"#m3ada581ca7\" y=\"17.084584\"/>\n     <use style=\"fill:#0000ff;stroke:#0000ff;\" x=\"258.370612\" xlink:href=\"#m3ada581ca7\" y=\"17.084568\"/>\n     <use style=\"fill:#0000ff;stroke:#0000ff;\" x=\"258.67528\" xlink:href=\"#m3ada581ca7\" y=\"17.084553\"/>\n     <use style=\"fill:#0000ff;stroke:#0000ff;\" x=\"258.979949\" xlink:href=\"#m3ada581ca7\" y=\"17.084537\"/>\n     <use style=\"fill:#0000ff;stroke:#0000ff;\" x=\"259.284617\" xlink:href=\"#m3ada581ca7\" y=\"17.084522\"/>\n     <use style=\"fill:#0000ff;stroke:#0000ff;\" x=\"259.589285\" xlink:href=\"#m3ada581ca7\" y=\"17.084508\"/>\n     <use style=\"fill:#0000ff;stroke:#0000ff;\" x=\"259.893953\" xlink:href=\"#m3ada581ca7\" y=\"17.084493\"/>\n     <use style=\"fill:#0000ff;stroke:#0000ff;\" x=\"260.198622\" xlink:href=\"#m3ada581ca7\" y=\"17.084479\"/>\n     <use style=\"fill:#0000ff;stroke:#0000ff;\" x=\"260.50329\" xlink:href=\"#m3ada581ca7\" y=\"17.084465\"/>\n     <use style=\"fill:#0000ff;stroke:#0000ff;\" x=\"260.807958\" xlink:href=\"#m3ada581ca7\" y=\"17.084451\"/>\n     <use style=\"fill:#0000ff;stroke:#0000ff;\" x=\"261.112627\" xlink:href=\"#m3ada581ca7\" y=\"17.084438\"/>\n     <use style=\"fill:#0000ff;stroke:#0000ff;\" x=\"261.417295\" xlink:href=\"#m3ada581ca7\" y=\"17.084424\"/>\n     <use style=\"fill:#0000ff;stroke:#0000ff;\" x=\"261.721963\" xlink:href=\"#m3ada581ca7\" y=\"17.084411\"/>\n     <use style=\"fill:#0000ff;stroke:#0000ff;\" x=\"262.026632\" xlink:href=\"#m3ada581ca7\" y=\"17.084398\"/>\n     <use style=\"fill:#0000ff;stroke:#0000ff;\" x=\"262.3313\" xlink:href=\"#m3ada581ca7\" y=\"17.084386\"/>\n     <use style=\"fill:#0000ff;stroke:#0000ff;\" x=\"262.635968\" xlink:href=\"#m3ada581ca7\" y=\"17.084373\"/>\n     <use style=\"fill:#0000ff;stroke:#0000ff;\" x=\"262.940637\" xlink:href=\"#m3ada581ca7\" y=\"17.084361\"/>\n     <use style=\"fill:#0000ff;stroke:#0000ff;\" x=\"263.245305\" xlink:href=\"#m3ada581ca7\" y=\"17.084349\"/>\n     <use style=\"fill:#0000ff;stroke:#0000ff;\" x=\"263.549973\" xlink:href=\"#m3ada581ca7\" y=\"17.084337\"/>\n     <use style=\"fill:#0000ff;stroke:#0000ff;\" x=\"263.854641\" xlink:href=\"#m3ada581ca7\" y=\"17.084325\"/>\n     <use style=\"fill:#0000ff;stroke:#0000ff;\" x=\"264.15931\" xlink:href=\"#m3ada581ca7\" y=\"17.084314\"/>\n     <use style=\"fill:#0000ff;stroke:#0000ff;\" x=\"264.463978\" xlink:href=\"#m3ada581ca7\" y=\"17.084303\"/>\n     <use style=\"fill:#0000ff;stroke:#0000ff;\" x=\"264.768646\" xlink:href=\"#m3ada581ca7\" y=\"17.084292\"/>\n     <use style=\"fill:#0000ff;stroke:#0000ff;\" x=\"265.073315\" xlink:href=\"#m3ada581ca7\" y=\"17.084281\"/>\n     <use style=\"fill:#0000ff;stroke:#0000ff;\" x=\"265.377983\" xlink:href=\"#m3ada581ca7\" y=\"17.08427\"/>\n     <use style=\"fill:#0000ff;stroke:#0000ff;\" x=\"265.682651\" xlink:href=\"#m3ada581ca7\" y=\"17.084259\"/>\n     <use style=\"fill:#0000ff;stroke:#0000ff;\" x=\"265.98732\" xlink:href=\"#m3ada581ca7\" y=\"17.084249\"/>\n     <use style=\"fill:#0000ff;stroke:#0000ff;\" x=\"266.291988\" xlink:href=\"#m3ada581ca7\" y=\"17.084239\"/>\n     <use style=\"fill:#0000ff;stroke:#0000ff;\" x=\"266.596656\" xlink:href=\"#m3ada581ca7\" y=\"17.084229\"/>\n     <use style=\"fill:#0000ff;stroke:#0000ff;\" x=\"266.901324\" xlink:href=\"#m3ada581ca7\" y=\"17.084219\"/>\n     <use style=\"fill:#0000ff;stroke:#0000ff;\" x=\"267.205993\" xlink:href=\"#m3ada581ca7\" y=\"17.084209\"/>\n     <use style=\"fill:#0000ff;stroke:#0000ff;\" x=\"267.510661\" xlink:href=\"#m3ada581ca7\" y=\"17.0842\"/>\n     <use style=\"fill:#0000ff;stroke:#0000ff;\" x=\"267.815329\" xlink:href=\"#m3ada581ca7\" y=\"17.08419\"/>\n     <use style=\"fill:#0000ff;stroke:#0000ff;\" x=\"268.119998\" xlink:href=\"#m3ada581ca7\" y=\"17.084181\"/>\n     <use style=\"fill:#0000ff;stroke:#0000ff;\" x=\"268.424666\" xlink:href=\"#m3ada581ca7\" y=\"17.084172\"/>\n     <use style=\"fill:#0000ff;stroke:#0000ff;\" x=\"268.729334\" xlink:href=\"#m3ada581ca7\" y=\"17.084163\"/>\n     <use style=\"fill:#0000ff;stroke:#0000ff;\" x=\"269.034003\" xlink:href=\"#m3ada581ca7\" y=\"17.084154\"/>\n     <use style=\"fill:#0000ff;stroke:#0000ff;\" x=\"269.338671\" xlink:href=\"#m3ada581ca7\" y=\"17.084146\"/>\n     <use style=\"fill:#0000ff;stroke:#0000ff;\" x=\"269.643339\" xlink:href=\"#m3ada581ca7\" y=\"17.084137\"/>\n     <use style=\"fill:#0000ff;stroke:#0000ff;\" x=\"269.948008\" xlink:href=\"#m3ada581ca7\" y=\"17.084129\"/>\n     <use style=\"fill:#0000ff;stroke:#0000ff;\" x=\"270.252676\" xlink:href=\"#m3ada581ca7\" y=\"17.084121\"/>\n     <use style=\"fill:#0000ff;stroke:#0000ff;\" x=\"270.557344\" xlink:href=\"#m3ada581ca7\" y=\"17.084113\"/>\n     <use style=\"fill:#0000ff;stroke:#0000ff;\" x=\"270.862012\" xlink:href=\"#m3ada581ca7\" y=\"17.084105\"/>\n     <use style=\"fill:#0000ff;stroke:#0000ff;\" x=\"271.166681\" xlink:href=\"#m3ada581ca7\" y=\"17.084097\"/>\n     <use style=\"fill:#0000ff;stroke:#0000ff;\" x=\"271.471349\" xlink:href=\"#m3ada581ca7\" y=\"17.084089\"/>\n     <use style=\"fill:#0000ff;stroke:#0000ff;\" x=\"271.776017\" xlink:href=\"#m3ada581ca7\" y=\"17.084082\"/>\n     <use style=\"fill:#0000ff;stroke:#0000ff;\" x=\"272.080686\" xlink:href=\"#m3ada581ca7\" y=\"17.084074\"/>\n     <use style=\"fill:#0000ff;stroke:#0000ff;\" x=\"272.385354\" xlink:href=\"#m3ada581ca7\" y=\"17.084067\"/>\n     <use style=\"fill:#0000ff;stroke:#0000ff;\" x=\"272.690022\" xlink:href=\"#m3ada581ca7\" y=\"17.08406\"/>\n     <use style=\"fill:#0000ff;stroke:#0000ff;\" x=\"272.994691\" xlink:href=\"#m3ada581ca7\" y=\"17.084053\"/>\n     <use style=\"fill:#0000ff;stroke:#0000ff;\" x=\"273.299359\" xlink:href=\"#m3ada581ca7\" y=\"17.084046\"/>\n     <use style=\"fill:#0000ff;stroke:#0000ff;\" x=\"273.604027\" xlink:href=\"#m3ada581ca7\" y=\"17.084039\"/>\n     <use style=\"fill:#0000ff;stroke:#0000ff;\" x=\"273.908695\" xlink:href=\"#m3ada581ca7\" y=\"17.084032\"/>\n     <use style=\"fill:#0000ff;stroke:#0000ff;\" x=\"274.213364\" xlink:href=\"#m3ada581ca7\" y=\"17.084026\"/>\n     <use style=\"fill:#0000ff;stroke:#0000ff;\" x=\"274.518032\" xlink:href=\"#m3ada581ca7\" y=\"17.084019\"/>\n     <use style=\"fill:#0000ff;stroke:#0000ff;\" x=\"274.8227\" xlink:href=\"#m3ada581ca7\" y=\"17.084013\"/>\n     <use style=\"fill:#0000ff;stroke:#0000ff;\" x=\"275.127369\" xlink:href=\"#m3ada581ca7\" y=\"17.084007\"/>\n     <use style=\"fill:#0000ff;stroke:#0000ff;\" x=\"275.432037\" xlink:href=\"#m3ada581ca7\" y=\"17.084001\"/>\n     <use style=\"fill:#0000ff;stroke:#0000ff;\" x=\"275.736705\" xlink:href=\"#m3ada581ca7\" y=\"17.083994\"/>\n     <use style=\"fill:#0000ff;stroke:#0000ff;\" x=\"276.041374\" xlink:href=\"#m3ada581ca7\" y=\"17.083989\"/>\n     <use style=\"fill:#0000ff;stroke:#0000ff;\" x=\"276.346042\" xlink:href=\"#m3ada581ca7\" y=\"17.083983\"/>\n     <use style=\"fill:#0000ff;stroke:#0000ff;\" x=\"276.65071\" xlink:href=\"#m3ada581ca7\" y=\"17.083977\"/>\n     <use style=\"fill:#0000ff;stroke:#0000ff;\" x=\"276.955379\" xlink:href=\"#m3ada581ca7\" y=\"17.083971\"/>\n     <use style=\"fill:#0000ff;stroke:#0000ff;\" x=\"277.260047\" xlink:href=\"#m3ada581ca7\" y=\"17.083966\"/>\n     <use style=\"fill:#0000ff;stroke:#0000ff;\" x=\"277.564715\" xlink:href=\"#m3ada581ca7\" y=\"17.08396\"/>\n     <use style=\"fill:#0000ff;stroke:#0000ff;\" x=\"277.869383\" xlink:href=\"#m3ada581ca7\" y=\"17.083955\"/>\n     <use style=\"fill:#0000ff;stroke:#0000ff;\" x=\"278.174052\" xlink:href=\"#m3ada581ca7\" y=\"17.083949\"/>\n     <use style=\"fill:#0000ff;stroke:#0000ff;\" x=\"278.47872\" xlink:href=\"#m3ada581ca7\" y=\"17.083944\"/>\n     <use style=\"fill:#0000ff;stroke:#0000ff;\" x=\"278.783388\" xlink:href=\"#m3ada581ca7\" y=\"17.083939\"/>\n     <use style=\"fill:#0000ff;stroke:#0000ff;\" x=\"279.088057\" xlink:href=\"#m3ada581ca7\" y=\"17.083934\"/>\n     <use style=\"fill:#0000ff;stroke:#0000ff;\" x=\"279.392725\" xlink:href=\"#m3ada581ca7\" y=\"17.083929\"/>\n     <use style=\"fill:#0000ff;stroke:#0000ff;\" x=\"279.697393\" xlink:href=\"#m3ada581ca7\" y=\"17.083924\"/>\n     <use style=\"fill:#0000ff;stroke:#0000ff;\" x=\"280.002062\" xlink:href=\"#m3ada581ca7\" y=\"17.083919\"/>\n     <use style=\"fill:#0000ff;stroke:#0000ff;\" x=\"280.30673\" xlink:href=\"#m3ada581ca7\" y=\"17.083915\"/>\n     <use style=\"fill:#0000ff;stroke:#0000ff;\" x=\"280.611398\" xlink:href=\"#m3ada581ca7\" y=\"17.08391\"/>\n     <use style=\"fill:#0000ff;stroke:#0000ff;\" x=\"280.916066\" xlink:href=\"#m3ada581ca7\" y=\"17.083906\"/>\n     <use style=\"fill:#0000ff;stroke:#0000ff;\" x=\"281.220735\" xlink:href=\"#m3ada581ca7\" y=\"17.083901\"/>\n     <use style=\"fill:#0000ff;stroke:#0000ff;\" x=\"281.525403\" xlink:href=\"#m3ada581ca7\" y=\"17.083897\"/>\n     <use style=\"fill:#0000ff;stroke:#0000ff;\" x=\"281.830071\" xlink:href=\"#m3ada581ca7\" y=\"17.083892\"/>\n     <use style=\"fill:#0000ff;stroke:#0000ff;\" x=\"282.13474\" xlink:href=\"#m3ada581ca7\" y=\"17.083888\"/>\n     <use style=\"fill:#0000ff;stroke:#0000ff;\" x=\"282.439408\" xlink:href=\"#m3ada581ca7\" y=\"17.083884\"/>\n     <use style=\"fill:#0000ff;stroke:#0000ff;\" x=\"282.744076\" xlink:href=\"#m3ada581ca7\" y=\"17.08388\"/>\n     <use style=\"fill:#0000ff;stroke:#0000ff;\" x=\"283.048745\" xlink:href=\"#m3ada581ca7\" y=\"17.083876\"/>\n     <use style=\"fill:#0000ff;stroke:#0000ff;\" x=\"283.353413\" xlink:href=\"#m3ada581ca7\" y=\"17.083872\"/>\n     <use style=\"fill:#0000ff;stroke:#0000ff;\" x=\"283.658081\" xlink:href=\"#m3ada581ca7\" y=\"17.083868\"/>\n     <use style=\"fill:#0000ff;stroke:#0000ff;\" x=\"283.96275\" xlink:href=\"#m3ada581ca7\" y=\"17.083864\"/>\n     <use style=\"fill:#0000ff;stroke:#0000ff;\" x=\"284.267418\" xlink:href=\"#m3ada581ca7\" y=\"17.08386\"/>\n     <use style=\"fill:#0000ff;stroke:#0000ff;\" x=\"284.572086\" xlink:href=\"#m3ada581ca7\" y=\"17.083856\"/>\n     <use style=\"fill:#0000ff;stroke:#0000ff;\" x=\"284.876754\" xlink:href=\"#m3ada581ca7\" y=\"17.083853\"/>\n     <use style=\"fill:#0000ff;stroke:#0000ff;\" x=\"285.181423\" xlink:href=\"#m3ada581ca7\" y=\"17.083849\"/>\n     <use style=\"fill:#0000ff;stroke:#0000ff;\" x=\"285.486091\" xlink:href=\"#m3ada581ca7\" y=\"17.083846\"/>\n     <use style=\"fill:#0000ff;stroke:#0000ff;\" x=\"285.790759\" xlink:href=\"#m3ada581ca7\" y=\"17.083842\"/>\n     <use style=\"fill:#0000ff;stroke:#0000ff;\" x=\"286.095428\" xlink:href=\"#m3ada581ca7\" y=\"17.083839\"/>\n     <use style=\"fill:#0000ff;stroke:#0000ff;\" x=\"286.400096\" xlink:href=\"#m3ada581ca7\" y=\"17.083835\"/>\n     <use style=\"fill:#0000ff;stroke:#0000ff;\" x=\"286.704764\" xlink:href=\"#m3ada581ca7\" y=\"17.083832\"/>\n     <use style=\"fill:#0000ff;stroke:#0000ff;\" x=\"287.009433\" xlink:href=\"#m3ada581ca7\" y=\"17.083829\"/>\n     <use style=\"fill:#0000ff;stroke:#0000ff;\" x=\"287.314101\" xlink:href=\"#m3ada581ca7\" y=\"17.083825\"/>\n     <use style=\"fill:#0000ff;stroke:#0000ff;\" x=\"287.618769\" xlink:href=\"#m3ada581ca7\" y=\"17.083822\"/>\n     <use style=\"fill:#0000ff;stroke:#0000ff;\" x=\"287.923437\" xlink:href=\"#m3ada581ca7\" y=\"17.083819\"/>\n     <use style=\"fill:#0000ff;stroke:#0000ff;\" x=\"288.228106\" xlink:href=\"#m3ada581ca7\" y=\"17.083816\"/>\n     <use style=\"fill:#0000ff;stroke:#0000ff;\" x=\"288.532774\" xlink:href=\"#m3ada581ca7\" y=\"17.083813\"/>\n     <use style=\"fill:#0000ff;stroke:#0000ff;\" x=\"288.837442\" xlink:href=\"#m3ada581ca7\" y=\"17.08381\"/>\n     <use style=\"fill:#0000ff;stroke:#0000ff;\" x=\"289.142111\" xlink:href=\"#m3ada581ca7\" y=\"17.083807\"/>\n     <use style=\"fill:#0000ff;stroke:#0000ff;\" x=\"289.446779\" xlink:href=\"#m3ada581ca7\" y=\"17.083804\"/>\n     <use style=\"fill:#0000ff;stroke:#0000ff;\" x=\"289.751447\" xlink:href=\"#m3ada581ca7\" y=\"17.083802\"/>\n     <use style=\"fill:#0000ff;stroke:#0000ff;\" x=\"290.056116\" xlink:href=\"#m3ada581ca7\" y=\"17.083799\"/>\n     <use style=\"fill:#0000ff;stroke:#0000ff;\" x=\"290.360784\" xlink:href=\"#m3ada581ca7\" y=\"17.083796\"/>\n     <use style=\"fill:#0000ff;stroke:#0000ff;\" x=\"290.665452\" xlink:href=\"#m3ada581ca7\" y=\"17.083793\"/>\n     <use style=\"fill:#0000ff;stroke:#0000ff;\" x=\"290.970121\" xlink:href=\"#m3ada581ca7\" y=\"17.083791\"/>\n     <use style=\"fill:#0000ff;stroke:#0000ff;\" x=\"291.274789\" xlink:href=\"#m3ada581ca7\" y=\"17.083788\"/>\n     <use style=\"fill:#0000ff;stroke:#0000ff;\" x=\"291.579457\" xlink:href=\"#m3ada581ca7\" y=\"17.083786\"/>\n     <use style=\"fill:#0000ff;stroke:#0000ff;\" x=\"291.884125\" xlink:href=\"#m3ada581ca7\" y=\"17.083783\"/>\n     <use style=\"fill:#0000ff;stroke:#0000ff;\" x=\"292.188794\" xlink:href=\"#m3ada581ca7\" y=\"17.083781\"/>\n     <use style=\"fill:#0000ff;stroke:#0000ff;\" x=\"292.493462\" xlink:href=\"#m3ada581ca7\" y=\"17.083778\"/>\n     <use style=\"fill:#0000ff;stroke:#0000ff;\" x=\"292.79813\" xlink:href=\"#m3ada581ca7\" y=\"17.083776\"/>\n     <use style=\"fill:#0000ff;stroke:#0000ff;\" x=\"293.102799\" xlink:href=\"#m3ada581ca7\" y=\"17.083774\"/>\n     <use style=\"fill:#0000ff;stroke:#0000ff;\" x=\"293.407467\" xlink:href=\"#m3ada581ca7\" y=\"17.083771\"/>\n     <use style=\"fill:#0000ff;stroke:#0000ff;\" x=\"293.712135\" xlink:href=\"#m3ada581ca7\" y=\"17.083769\"/>\n     <use style=\"fill:#0000ff;stroke:#0000ff;\" x=\"294.016804\" xlink:href=\"#m3ada581ca7\" y=\"17.083767\"/>\n     <use style=\"fill:#0000ff;stroke:#0000ff;\" x=\"294.321472\" xlink:href=\"#m3ada581ca7\" y=\"17.083765\"/>\n     <use style=\"fill:#0000ff;stroke:#0000ff;\" x=\"294.62614\" xlink:href=\"#m3ada581ca7\" y=\"17.083762\"/>\n     <use style=\"fill:#0000ff;stroke:#0000ff;\" x=\"294.930809\" xlink:href=\"#m3ada581ca7\" y=\"17.08376\"/>\n     <use style=\"fill:#0000ff;stroke:#0000ff;\" x=\"295.235477\" xlink:href=\"#m3ada581ca7\" y=\"17.083758\"/>\n     <use style=\"fill:#0000ff;stroke:#0000ff;\" x=\"295.540145\" xlink:href=\"#m3ada581ca7\" y=\"17.083756\"/>\n     <use style=\"fill:#0000ff;stroke:#0000ff;\" x=\"295.844813\" xlink:href=\"#m3ada581ca7\" y=\"17.083754\"/>\n     <use style=\"fill:#0000ff;stroke:#0000ff;\" x=\"296.149482\" xlink:href=\"#m3ada581ca7\" y=\"17.083752\"/>\n     <use style=\"fill:#0000ff;stroke:#0000ff;\" x=\"296.45415\" xlink:href=\"#m3ada581ca7\" y=\"17.08375\"/>\n     <use style=\"fill:#0000ff;stroke:#0000ff;\" x=\"296.758818\" xlink:href=\"#m3ada581ca7\" y=\"17.083748\"/>\n     <use style=\"fill:#0000ff;stroke:#0000ff;\" x=\"297.063487\" xlink:href=\"#m3ada581ca7\" y=\"17.083747\"/>\n     <use style=\"fill:#0000ff;stroke:#0000ff;\" x=\"297.368155\" xlink:href=\"#m3ada581ca7\" y=\"17.083745\"/>\n     <use style=\"fill:#0000ff;stroke:#0000ff;\" x=\"297.672823\" xlink:href=\"#m3ada581ca7\" y=\"17.083743\"/>\n     <use style=\"fill:#0000ff;stroke:#0000ff;\" x=\"297.977492\" xlink:href=\"#m3ada581ca7\" y=\"17.083741\"/>\n     <use style=\"fill:#0000ff;stroke:#0000ff;\" x=\"298.28216\" xlink:href=\"#m3ada581ca7\" y=\"17.083739\"/>\n     <use style=\"fill:#0000ff;stroke:#0000ff;\" x=\"298.586828\" xlink:href=\"#m3ada581ca7\" y=\"17.083738\"/>\n     <use style=\"fill:#0000ff;stroke:#0000ff;\" x=\"298.891496\" xlink:href=\"#m3ada581ca7\" y=\"17.083736\"/>\n     <use style=\"fill:#0000ff;stroke:#0000ff;\" x=\"299.196165\" xlink:href=\"#m3ada581ca7\" y=\"17.083734\"/>\n     <use style=\"fill:#0000ff;stroke:#0000ff;\" x=\"299.500833\" xlink:href=\"#m3ada581ca7\" y=\"17.083733\"/>\n     <use style=\"fill:#0000ff;stroke:#0000ff;\" x=\"299.805501\" xlink:href=\"#m3ada581ca7\" y=\"17.083731\"/>\n     <use style=\"fill:#0000ff;stroke:#0000ff;\" x=\"300.11017\" xlink:href=\"#m3ada581ca7\" y=\"17.083729\"/>\n     <use style=\"fill:#0000ff;stroke:#0000ff;\" x=\"300.414838\" xlink:href=\"#m3ada581ca7\" y=\"17.083728\"/>\n     <use style=\"fill:#0000ff;stroke:#0000ff;\" x=\"300.719506\" xlink:href=\"#m3ada581ca7\" y=\"17.083726\"/>\n     <use style=\"fill:#0000ff;stroke:#0000ff;\" x=\"301.024175\" xlink:href=\"#m3ada581ca7\" y=\"17.083725\"/>\n     <use style=\"fill:#0000ff;stroke:#0000ff;\" x=\"301.328843\" xlink:href=\"#m3ada581ca7\" y=\"17.083723\"/>\n     <use style=\"fill:#0000ff;stroke:#0000ff;\" x=\"301.633511\" xlink:href=\"#m3ada581ca7\" y=\"17.083722\"/>\n     <use style=\"fill:#0000ff;stroke:#0000ff;\" x=\"301.93818\" xlink:href=\"#m3ada581ca7\" y=\"17.08372\"/>\n     <use style=\"fill:#0000ff;stroke:#0000ff;\" x=\"302.242848\" xlink:href=\"#m3ada581ca7\" y=\"17.083719\"/>\n     <use style=\"fill:#0000ff;stroke:#0000ff;\" x=\"302.547516\" xlink:href=\"#m3ada581ca7\" y=\"17.083718\"/>\n     <use style=\"fill:#0000ff;stroke:#0000ff;\" x=\"302.852184\" xlink:href=\"#m3ada581ca7\" y=\"17.083716\"/>\n     <use style=\"fill:#0000ff;stroke:#0000ff;\" x=\"303.156853\" xlink:href=\"#m3ada581ca7\" y=\"17.083715\"/>\n     <use style=\"fill:#0000ff;stroke:#0000ff;\" x=\"303.461521\" xlink:href=\"#m3ada581ca7\" y=\"17.083714\"/>\n     <use style=\"fill:#0000ff;stroke:#0000ff;\" x=\"303.766189\" xlink:href=\"#m3ada581ca7\" y=\"17.083712\"/>\n     <use style=\"fill:#0000ff;stroke:#0000ff;\" x=\"304.070858\" xlink:href=\"#m3ada581ca7\" y=\"17.083711\"/>\n     <use style=\"fill:#0000ff;stroke:#0000ff;\" x=\"304.375526\" xlink:href=\"#m3ada581ca7\" y=\"17.08371\"/>\n     <use style=\"fill:#0000ff;stroke:#0000ff;\" x=\"304.680194\" xlink:href=\"#m3ada581ca7\" y=\"17.083708\"/>\n     <use style=\"fill:#0000ff;stroke:#0000ff;\" x=\"304.984863\" xlink:href=\"#m3ada581ca7\" y=\"17.083707\"/>\n     <use style=\"fill:#0000ff;stroke:#0000ff;\" x=\"305.289531\" xlink:href=\"#m3ada581ca7\" y=\"17.083706\"/>\n     <use style=\"fill:#0000ff;stroke:#0000ff;\" x=\"305.594199\" xlink:href=\"#m3ada581ca7\" y=\"17.083705\"/>\n     <use style=\"fill:#0000ff;stroke:#0000ff;\" x=\"305.898867\" xlink:href=\"#m3ada581ca7\" y=\"17.083704\"/>\n     <use style=\"fill:#0000ff;stroke:#0000ff;\" x=\"306.203536\" xlink:href=\"#m3ada581ca7\" y=\"17.083703\"/>\n     <use style=\"fill:#0000ff;stroke:#0000ff;\" x=\"306.508204\" xlink:href=\"#m3ada581ca7\" y=\"17.083701\"/>\n     <use style=\"fill:#0000ff;stroke:#0000ff;\" x=\"306.812872\" xlink:href=\"#m3ada581ca7\" y=\"17.0837\"/>\n     <use style=\"fill:#0000ff;stroke:#0000ff;\" x=\"307.117541\" xlink:href=\"#m3ada581ca7\" y=\"17.083699\"/>\n     <use style=\"fill:#0000ff;stroke:#0000ff;\" x=\"307.422209\" xlink:href=\"#m3ada581ca7\" y=\"17.083698\"/>\n     <use style=\"fill:#0000ff;stroke:#0000ff;\" x=\"307.726877\" xlink:href=\"#m3ada581ca7\" y=\"17.083697\"/>\n     <use style=\"fill:#0000ff;stroke:#0000ff;\" x=\"308.031546\" xlink:href=\"#m3ada581ca7\" y=\"17.083696\"/>\n     <use style=\"fill:#0000ff;stroke:#0000ff;\" x=\"308.336214\" xlink:href=\"#m3ada581ca7\" y=\"17.083695\"/>\n     <use style=\"fill:#0000ff;stroke:#0000ff;\" x=\"308.640882\" xlink:href=\"#m3ada581ca7\" y=\"17.083694\"/>\n     <use style=\"fill:#0000ff;stroke:#0000ff;\" x=\"308.945551\" xlink:href=\"#m3ada581ca7\" y=\"17.083693\"/>\n     <use style=\"fill:#0000ff;stroke:#0000ff;\" x=\"309.250219\" xlink:href=\"#m3ada581ca7\" y=\"17.083692\"/>\n     <use style=\"fill:#0000ff;stroke:#0000ff;\" x=\"309.554887\" xlink:href=\"#m3ada581ca7\" y=\"17.083691\"/>\n     <use style=\"fill:#0000ff;stroke:#0000ff;\" x=\"309.859555\" xlink:href=\"#m3ada581ca7\" y=\"17.08369\"/>\n     <use style=\"fill:#0000ff;stroke:#0000ff;\" x=\"310.164224\" xlink:href=\"#m3ada581ca7\" y=\"17.083689\"/>\n     <use style=\"fill:#0000ff;stroke:#0000ff;\" x=\"310.468892\" xlink:href=\"#m3ada581ca7\" y=\"17.083688\"/>\n     <use style=\"fill:#0000ff;stroke:#0000ff;\" x=\"310.77356\" xlink:href=\"#m3ada581ca7\" y=\"17.083688\"/>\n     <use style=\"fill:#0000ff;stroke:#0000ff;\" x=\"311.078229\" xlink:href=\"#m3ada581ca7\" y=\"17.083687\"/>\n     <use style=\"fill:#0000ff;stroke:#0000ff;\" x=\"311.382897\" xlink:href=\"#m3ada581ca7\" y=\"17.083686\"/>\n     <use style=\"fill:#0000ff;stroke:#0000ff;\" x=\"311.687565\" xlink:href=\"#m3ada581ca7\" y=\"17.083685\"/>\n     <use style=\"fill:#0000ff;stroke:#0000ff;\" x=\"311.992234\" xlink:href=\"#m3ada581ca7\" y=\"17.083684\"/>\n     <use style=\"fill:#0000ff;stroke:#0000ff;\" x=\"312.296902\" xlink:href=\"#m3ada581ca7\" y=\"17.083683\"/>\n     <use style=\"fill:#0000ff;stroke:#0000ff;\" x=\"312.60157\" xlink:href=\"#m3ada581ca7\" y=\"17.083683\"/>\n     <use style=\"fill:#0000ff;stroke:#0000ff;\" x=\"312.906238\" xlink:href=\"#m3ada581ca7\" y=\"17.083682\"/>\n     <use style=\"fill:#0000ff;stroke:#0000ff;\" x=\"313.210907\" xlink:href=\"#m3ada581ca7\" y=\"17.083681\"/>\n     <use style=\"fill:#0000ff;stroke:#0000ff;\" x=\"313.515575\" xlink:href=\"#m3ada581ca7\" y=\"17.08368\"/>\n     <use style=\"fill:#0000ff;stroke:#0000ff;\" x=\"313.820243\" xlink:href=\"#m3ada581ca7\" y=\"17.08368\"/>\n     <use style=\"fill:#0000ff;stroke:#0000ff;\" x=\"314.124912\" xlink:href=\"#m3ada581ca7\" y=\"17.083679\"/>\n     <use style=\"fill:#0000ff;stroke:#0000ff;\" x=\"314.42958\" xlink:href=\"#m3ada581ca7\" y=\"17.083678\"/>\n     <use style=\"fill:#0000ff;stroke:#0000ff;\" x=\"314.734248\" xlink:href=\"#m3ada581ca7\" y=\"17.083677\"/>\n     <use style=\"fill:#0000ff;stroke:#0000ff;\" x=\"315.038917\" xlink:href=\"#m3ada581ca7\" y=\"17.083677\"/>\n     <use style=\"fill:#0000ff;stroke:#0000ff;\" x=\"315.343585\" xlink:href=\"#m3ada581ca7\" y=\"17.083676\"/>\n     <use style=\"fill:#0000ff;stroke:#0000ff;\" x=\"315.648253\" xlink:href=\"#m3ada581ca7\" y=\"17.083675\"/>\n     <use style=\"fill:#0000ff;stroke:#0000ff;\" x=\"315.952922\" xlink:href=\"#m3ada581ca7\" y=\"17.083675\"/>\n     <use style=\"fill:#0000ff;stroke:#0000ff;\" x=\"316.25759\" xlink:href=\"#m3ada581ca7\" y=\"17.083674\"/>\n     <use style=\"fill:#0000ff;stroke:#0000ff;\" x=\"316.562258\" xlink:href=\"#m3ada581ca7\" y=\"17.083673\"/>\n     <use style=\"fill:#0000ff;stroke:#0000ff;\" x=\"316.866926\" xlink:href=\"#m3ada581ca7\" y=\"17.083673\"/>\n     <use style=\"fill:#0000ff;stroke:#0000ff;\" x=\"317.171595\" xlink:href=\"#m3ada581ca7\" y=\"17.083672\"/>\n     <use style=\"fill:#0000ff;stroke:#0000ff;\" x=\"317.476263\" xlink:href=\"#m3ada581ca7\" y=\"17.083671\"/>\n     <use style=\"fill:#0000ff;stroke:#0000ff;\" x=\"317.780931\" xlink:href=\"#m3ada581ca7\" y=\"17.083671\"/>\n     <use style=\"fill:#0000ff;stroke:#0000ff;\" x=\"318.0856\" xlink:href=\"#m3ada581ca7\" y=\"17.08367\"/>\n     <use style=\"fill:#0000ff;stroke:#0000ff;\" x=\"318.390268\" xlink:href=\"#m3ada581ca7\" y=\"17.08367\"/>\n     <use style=\"fill:#0000ff;stroke:#0000ff;\" x=\"318.694936\" xlink:href=\"#m3ada581ca7\" y=\"17.083669\"/>\n     <use style=\"fill:#0000ff;stroke:#0000ff;\" x=\"318.999605\" xlink:href=\"#m3ada581ca7\" y=\"17.083669\"/>\n     <use style=\"fill:#0000ff;stroke:#0000ff;\" x=\"319.304273\" xlink:href=\"#m3ada581ca7\" y=\"17.083668\"/>\n     <use style=\"fill:#0000ff;stroke:#0000ff;\" x=\"319.608941\" xlink:href=\"#m3ada581ca7\" y=\"17.083667\"/>\n     <use style=\"fill:#0000ff;stroke:#0000ff;\" x=\"319.913609\" xlink:href=\"#m3ada581ca7\" y=\"17.083667\"/>\n     <use style=\"fill:#0000ff;stroke:#0000ff;\" x=\"320.218278\" xlink:href=\"#m3ada581ca7\" y=\"17.083666\"/>\n     <use style=\"fill:#0000ff;stroke:#0000ff;\" x=\"320.522946\" xlink:href=\"#m3ada581ca7\" y=\"17.083666\"/>\n     <use style=\"fill:#0000ff;stroke:#0000ff;\" x=\"320.827614\" xlink:href=\"#m3ada581ca7\" y=\"17.083665\"/>\n     <use style=\"fill:#0000ff;stroke:#0000ff;\" x=\"321.132283\" xlink:href=\"#m3ada581ca7\" y=\"17.083665\"/>\n     <use style=\"fill:#0000ff;stroke:#0000ff;\" x=\"321.436951\" xlink:href=\"#m3ada581ca7\" y=\"17.083664\"/>\n     <use style=\"fill:#0000ff;stroke:#0000ff;\" x=\"321.741619\" xlink:href=\"#m3ada581ca7\" y=\"17.083664\"/>\n     <use style=\"fill:#0000ff;stroke:#0000ff;\" x=\"322.046288\" xlink:href=\"#m3ada581ca7\" y=\"17.083663\"/>\n     <use style=\"fill:#0000ff;stroke:#0000ff;\" x=\"322.350956\" xlink:href=\"#m3ada581ca7\" y=\"17.083663\"/>\n     <use style=\"fill:#0000ff;stroke:#0000ff;\" x=\"322.655624\" xlink:href=\"#m3ada581ca7\" y=\"17.083662\"/>\n     <use style=\"fill:#0000ff;stroke:#0000ff;\" x=\"322.960293\" xlink:href=\"#m3ada581ca7\" y=\"17.083662\"/>\n     <use style=\"fill:#0000ff;stroke:#0000ff;\" x=\"323.264961\" xlink:href=\"#m3ada581ca7\" y=\"17.083662\"/>\n     <use style=\"fill:#0000ff;stroke:#0000ff;\" x=\"323.569629\" xlink:href=\"#m3ada581ca7\" y=\"17.083661\"/>\n     <use style=\"fill:#0000ff;stroke:#0000ff;\" x=\"323.874297\" xlink:href=\"#m3ada581ca7\" y=\"17.083661\"/>\n     <use style=\"fill:#0000ff;stroke:#0000ff;\" x=\"324.178966\" xlink:href=\"#m3ada581ca7\" y=\"17.08366\"/>\n     <use style=\"fill:#0000ff;stroke:#0000ff;\" x=\"324.483634\" xlink:href=\"#m3ada581ca7\" y=\"17.08366\"/>\n     <use style=\"fill:#0000ff;stroke:#0000ff;\" x=\"324.788302\" xlink:href=\"#m3ada581ca7\" y=\"17.083659\"/>\n     <use style=\"fill:#0000ff;stroke:#0000ff;\" x=\"325.092971\" xlink:href=\"#m3ada581ca7\" y=\"17.083659\"/>\n     <use style=\"fill:#0000ff;stroke:#0000ff;\" x=\"325.397639\" xlink:href=\"#m3ada581ca7\" y=\"17.083659\"/>\n     <use style=\"fill:#0000ff;stroke:#0000ff;\" x=\"325.702307\" xlink:href=\"#m3ada581ca7\" y=\"17.083658\"/>\n     <use style=\"fill:#0000ff;stroke:#0000ff;\" x=\"326.006976\" xlink:href=\"#m3ada581ca7\" y=\"17.083658\"/>\n     <use style=\"fill:#0000ff;stroke:#0000ff;\" x=\"326.311644\" xlink:href=\"#m3ada581ca7\" y=\"17.083657\"/>\n     <use style=\"fill:#0000ff;stroke:#0000ff;\" x=\"326.616312\" xlink:href=\"#m3ada581ca7\" y=\"17.083657\"/>\n     <use style=\"fill:#0000ff;stroke:#0000ff;\" x=\"326.92098\" xlink:href=\"#m3ada581ca7\" y=\"17.083657\"/>\n     <use style=\"fill:#0000ff;stroke:#0000ff;\" x=\"327.225649\" xlink:href=\"#m3ada581ca7\" y=\"17.083656\"/>\n     <use style=\"fill:#0000ff;stroke:#0000ff;\" x=\"327.530317\" xlink:href=\"#m3ada581ca7\" y=\"17.083656\"/>\n     <use style=\"fill:#0000ff;stroke:#0000ff;\" x=\"327.834985\" xlink:href=\"#m3ada581ca7\" y=\"17.083656\"/>\n     <use style=\"fill:#0000ff;stroke:#0000ff;\" x=\"328.139654\" xlink:href=\"#m3ada581ca7\" y=\"17.083655\"/>\n     <use style=\"fill:#0000ff;stroke:#0000ff;\" x=\"328.444322\" xlink:href=\"#m3ada581ca7\" y=\"17.083655\"/>\n     <use style=\"fill:#0000ff;stroke:#0000ff;\" x=\"328.74899\" xlink:href=\"#m3ada581ca7\" y=\"17.083655\"/>\n     <use style=\"fill:#0000ff;stroke:#0000ff;\" x=\"329.053659\" xlink:href=\"#m3ada581ca7\" y=\"17.083654\"/>\n     <use style=\"fill:#0000ff;stroke:#0000ff;\" x=\"329.358327\" xlink:href=\"#m3ada581ca7\" y=\"17.083654\"/>\n     <use style=\"fill:#0000ff;stroke:#0000ff;\" x=\"329.662995\" xlink:href=\"#m3ada581ca7\" y=\"17.083654\"/>\n     <use style=\"fill:#0000ff;stroke:#0000ff;\" x=\"329.967664\" xlink:href=\"#m3ada581ca7\" y=\"17.083653\"/>\n     <use style=\"fill:#0000ff;stroke:#0000ff;\" x=\"330.272332\" xlink:href=\"#m3ada581ca7\" y=\"17.083653\"/>\n     <use style=\"fill:#0000ff;stroke:#0000ff;\" x=\"330.577\" xlink:href=\"#m3ada581ca7\" y=\"17.083653\"/>\n     <use style=\"fill:#0000ff;stroke:#0000ff;\" x=\"330.881668\" xlink:href=\"#m3ada581ca7\" y=\"17.083652\"/>\n     <use style=\"fill:#0000ff;stroke:#0000ff;\" x=\"331.186337\" xlink:href=\"#m3ada581ca7\" y=\"17.083652\"/>\n     <use style=\"fill:#0000ff;stroke:#0000ff;\" x=\"331.491005\" xlink:href=\"#m3ada581ca7\" y=\"17.083652\"/>\n     <use style=\"fill:#0000ff;stroke:#0000ff;\" x=\"331.795673\" xlink:href=\"#m3ada581ca7\" y=\"17.083652\"/>\n     <use style=\"fill:#0000ff;stroke:#0000ff;\" x=\"332.100342\" xlink:href=\"#m3ada581ca7\" y=\"17.083651\"/>\n     <use style=\"fill:#0000ff;stroke:#0000ff;\" x=\"332.40501\" xlink:href=\"#m3ada581ca7\" y=\"17.083651\"/>\n     <use style=\"fill:#0000ff;stroke:#0000ff;\" x=\"332.709678\" xlink:href=\"#m3ada581ca7\" y=\"17.083651\"/>\n     <use style=\"fill:#0000ff;stroke:#0000ff;\" x=\"333.014347\" xlink:href=\"#m3ada581ca7\" y=\"17.083651\"/>\n     <use style=\"fill:#0000ff;stroke:#0000ff;\" x=\"333.319015\" xlink:href=\"#m3ada581ca7\" y=\"17.08365\"/>\n     <use style=\"fill:#0000ff;stroke:#0000ff;\" x=\"333.623683\" xlink:href=\"#m3ada581ca7\" y=\"17.08365\"/>\n     <use style=\"fill:#0000ff;stroke:#0000ff;\" x=\"333.928352\" xlink:href=\"#m3ada581ca7\" y=\"17.08365\"/>\n     <use style=\"fill:#0000ff;stroke:#0000ff;\" x=\"334.23302\" xlink:href=\"#m3ada581ca7\" y=\"17.08365\"/>\n     <use style=\"fill:#0000ff;stroke:#0000ff;\" x=\"334.537688\" xlink:href=\"#m3ada581ca7\" y=\"17.083649\"/>\n     <use style=\"fill:#0000ff;stroke:#0000ff;\" x=\"334.842356\" xlink:href=\"#m3ada581ca7\" y=\"17.083649\"/>\n     <use style=\"fill:#0000ff;stroke:#0000ff;\" x=\"335.147025\" xlink:href=\"#m3ada581ca7\" y=\"17.083649\"/>\n     <use style=\"fill:#0000ff;stroke:#0000ff;\" x=\"335.451693\" xlink:href=\"#m3ada581ca7\" y=\"17.083649\"/>\n     <use style=\"fill:#0000ff;stroke:#0000ff;\" x=\"335.756361\" xlink:href=\"#m3ada581ca7\" y=\"17.083648\"/>\n     <use style=\"fill:#0000ff;stroke:#0000ff;\" x=\"336.06103\" xlink:href=\"#m3ada581ca7\" y=\"17.083648\"/>\n     <use style=\"fill:#0000ff;stroke:#0000ff;\" x=\"336.365698\" xlink:href=\"#m3ada581ca7\" y=\"17.083648\"/>\n     <use style=\"fill:#0000ff;stroke:#0000ff;\" x=\"336.670366\" xlink:href=\"#m3ada581ca7\" y=\"17.083648\"/>\n     <use style=\"fill:#0000ff;stroke:#0000ff;\" x=\"336.975035\" xlink:href=\"#m3ada581ca7\" y=\"17.083648\"/>\n     <use style=\"fill:#0000ff;stroke:#0000ff;\" x=\"337.279703\" xlink:href=\"#m3ada581ca7\" y=\"17.083647\"/>\n     <use style=\"fill:#0000ff;stroke:#0000ff;\" x=\"337.584371\" xlink:href=\"#m3ada581ca7\" y=\"17.083647\"/>\n     <use style=\"fill:#0000ff;stroke:#0000ff;\" x=\"337.889039\" xlink:href=\"#m3ada581ca7\" y=\"17.083647\"/>\n     <use style=\"fill:#0000ff;stroke:#0000ff;\" x=\"338.193708\" xlink:href=\"#m3ada581ca7\" y=\"17.083647\"/>\n     <use style=\"fill:#0000ff;stroke:#0000ff;\" x=\"338.498376\" xlink:href=\"#m3ada581ca7\" y=\"17.083647\"/>\n     <use style=\"fill:#0000ff;stroke:#0000ff;\" x=\"338.803044\" xlink:href=\"#m3ada581ca7\" y=\"17.083646\"/>\n     <use style=\"fill:#0000ff;stroke:#0000ff;\" x=\"339.107713\" xlink:href=\"#m3ada581ca7\" y=\"17.083646\"/>\n     <use style=\"fill:#0000ff;stroke:#0000ff;\" x=\"339.412381\" xlink:href=\"#m3ada581ca7\" y=\"17.083646\"/>\n     <use style=\"fill:#0000ff;stroke:#0000ff;\" x=\"339.717049\" xlink:href=\"#m3ada581ca7\" y=\"17.083646\"/>\n     <use style=\"fill:#0000ff;stroke:#0000ff;\" x=\"340.021718\" xlink:href=\"#m3ada581ca7\" y=\"17.083646\"/>\n     <use style=\"fill:#0000ff;stroke:#0000ff;\" x=\"340.326386\" xlink:href=\"#m3ada581ca7\" y=\"17.083645\"/>\n     <use style=\"fill:#0000ff;stroke:#0000ff;\" x=\"340.631054\" xlink:href=\"#m3ada581ca7\" y=\"17.083645\"/>\n     <use style=\"fill:#0000ff;stroke:#0000ff;\" x=\"340.935723\" xlink:href=\"#m3ada581ca7\" y=\"17.083645\"/>\n     <use style=\"fill:#0000ff;stroke:#0000ff;\" x=\"341.240391\" xlink:href=\"#m3ada581ca7\" y=\"17.083645\"/>\n     <use style=\"fill:#0000ff;stroke:#0000ff;\" x=\"341.545059\" xlink:href=\"#m3ada581ca7\" y=\"17.083645\"/>\n     <use style=\"fill:#0000ff;stroke:#0000ff;\" x=\"341.849727\" xlink:href=\"#m3ada581ca7\" y=\"17.083645\"/>\n     <use style=\"fill:#0000ff;stroke:#0000ff;\" x=\"342.154396\" xlink:href=\"#m3ada581ca7\" y=\"17.083644\"/>\n     <use style=\"fill:#0000ff;stroke:#0000ff;\" x=\"342.459064\" xlink:href=\"#m3ada581ca7\" y=\"17.083644\"/>\n     <use style=\"fill:#0000ff;stroke:#0000ff;\" x=\"342.763732\" xlink:href=\"#m3ada581ca7\" y=\"17.083644\"/>\n     <use style=\"fill:#0000ff;stroke:#0000ff;\" x=\"343.068401\" xlink:href=\"#m3ada581ca7\" y=\"17.083644\"/>\n     <use style=\"fill:#0000ff;stroke:#0000ff;\" x=\"343.373069\" xlink:href=\"#m3ada581ca7\" y=\"17.083644\"/>\n     <use style=\"fill:#0000ff;stroke:#0000ff;\" x=\"343.677737\" xlink:href=\"#m3ada581ca7\" y=\"17.083644\"/>\n     <use style=\"fill:#0000ff;stroke:#0000ff;\" x=\"343.982406\" xlink:href=\"#m3ada581ca7\" y=\"17.083644\"/>\n     <use style=\"fill:#0000ff;stroke:#0000ff;\" x=\"344.287074\" xlink:href=\"#m3ada581ca7\" y=\"17.083643\"/>\n     <use style=\"fill:#0000ff;stroke:#0000ff;\" x=\"344.591742\" xlink:href=\"#m3ada581ca7\" y=\"17.083643\"/>\n     <use style=\"fill:#0000ff;stroke:#0000ff;\" x=\"344.89641\" xlink:href=\"#m3ada581ca7\" y=\"17.083643\"/>\n     <use style=\"fill:#0000ff;stroke:#0000ff;\" x=\"345.201079\" xlink:href=\"#m3ada581ca7\" y=\"17.083643\"/>\n     <use style=\"fill:#0000ff;stroke:#0000ff;\" x=\"345.505747\" xlink:href=\"#m3ada581ca7\" y=\"17.083643\"/>\n     <use style=\"fill:#0000ff;stroke:#0000ff;\" x=\"345.810415\" xlink:href=\"#m3ada581ca7\" y=\"17.083643\"/>\n     <use style=\"fill:#0000ff;stroke:#0000ff;\" x=\"346.115084\" xlink:href=\"#m3ada581ca7\" y=\"17.083643\"/>\n     <use style=\"fill:#0000ff;stroke:#0000ff;\" x=\"346.419752\" xlink:href=\"#m3ada581ca7\" y=\"17.083642\"/>\n     <use style=\"fill:#0000ff;stroke:#0000ff;\" x=\"346.72442\" xlink:href=\"#m3ada581ca7\" y=\"17.083642\"/>\n     <use style=\"fill:#0000ff;stroke:#0000ff;\" x=\"347.029089\" xlink:href=\"#m3ada581ca7\" y=\"17.083642\"/>\n     <use style=\"fill:#0000ff;stroke:#0000ff;\" x=\"347.333757\" xlink:href=\"#m3ada581ca7\" y=\"17.083642\"/>\n     <use style=\"fill:#0000ff;stroke:#0000ff;\" x=\"347.638425\" xlink:href=\"#m3ada581ca7\" y=\"17.083642\"/>\n     <use style=\"fill:#0000ff;stroke:#0000ff;\" x=\"347.943094\" xlink:href=\"#m3ada581ca7\" y=\"17.083642\"/>\n     <use style=\"fill:#0000ff;stroke:#0000ff;\" x=\"348.247762\" xlink:href=\"#m3ada581ca7\" y=\"17.083642\"/>\n     <use style=\"fill:#0000ff;stroke:#0000ff;\" x=\"348.55243\" xlink:href=\"#m3ada581ca7\" y=\"17.083642\"/>\n     <use style=\"fill:#0000ff;stroke:#0000ff;\" x=\"348.857098\" xlink:href=\"#m3ada581ca7\" y=\"17.083642\"/>\n     <use style=\"fill:#0000ff;stroke:#0000ff;\" x=\"349.161767\" xlink:href=\"#m3ada581ca7\" y=\"17.083641\"/>\n     <use style=\"fill:#0000ff;stroke:#0000ff;\" x=\"349.466435\" xlink:href=\"#m3ada581ca7\" y=\"17.083641\"/>\n     <use style=\"fill:#0000ff;stroke:#0000ff;\" x=\"349.771103\" xlink:href=\"#m3ada581ca7\" y=\"17.083641\"/>\n     <use style=\"fill:#0000ff;stroke:#0000ff;\" x=\"350.075772\" xlink:href=\"#m3ada581ca7\" y=\"17.083641\"/>\n     <use style=\"fill:#0000ff;stroke:#0000ff;\" x=\"350.38044\" xlink:href=\"#m3ada581ca7\" y=\"17.083641\"/>\n     <use style=\"fill:#0000ff;stroke:#0000ff;\" x=\"350.685108\" xlink:href=\"#m3ada581ca7\" y=\"17.083641\"/>\n     <use style=\"fill:#0000ff;stroke:#0000ff;\" x=\"350.989777\" xlink:href=\"#m3ada581ca7\" y=\"17.083641\"/>\n     <use style=\"fill:#0000ff;stroke:#0000ff;\" x=\"351.294445\" xlink:href=\"#m3ada581ca7\" y=\"17.083641\"/>\n     <use style=\"fill:#0000ff;stroke:#0000ff;\" x=\"351.599113\" xlink:href=\"#m3ada581ca7\" y=\"17.083641\"/>\n     <use style=\"fill:#0000ff;stroke:#0000ff;\" x=\"351.903781\" xlink:href=\"#m3ada581ca7\" y=\"17.083641\"/>\n     <use style=\"fill:#0000ff;stroke:#0000ff;\" x=\"352.20845\" xlink:href=\"#m3ada581ca7\" y=\"17.08364\"/>\n     <use style=\"fill:#0000ff;stroke:#0000ff;\" x=\"352.513118\" xlink:href=\"#m3ada581ca7\" y=\"17.08364\"/>\n     <use style=\"fill:#0000ff;stroke:#0000ff;\" x=\"352.817786\" xlink:href=\"#m3ada581ca7\" y=\"17.08364\"/>\n     <use style=\"fill:#0000ff;stroke:#0000ff;\" x=\"353.122455\" xlink:href=\"#m3ada581ca7\" y=\"17.08364\"/>\n     <use style=\"fill:#0000ff;stroke:#0000ff;\" x=\"353.427123\" xlink:href=\"#m3ada581ca7\" y=\"17.08364\"/>\n     <use style=\"fill:#0000ff;stroke:#0000ff;\" x=\"353.731791\" xlink:href=\"#m3ada581ca7\" y=\"17.08364\"/>\n     <use style=\"fill:#0000ff;stroke:#0000ff;\" x=\"354.03646\" xlink:href=\"#m3ada581ca7\" y=\"17.08364\"/>\n     <use style=\"fill:#0000ff;stroke:#0000ff;\" x=\"354.341128\" xlink:href=\"#m3ada581ca7\" y=\"17.08364\"/>\n     <use style=\"fill:#0000ff;stroke:#0000ff;\" x=\"354.645796\" xlink:href=\"#m3ada581ca7\" y=\"17.08364\"/>\n     <use style=\"fill:#0000ff;stroke:#0000ff;\" x=\"354.950465\" xlink:href=\"#m3ada581ca7\" y=\"17.08364\"/>\n     <use style=\"fill:#0000ff;stroke:#0000ff;\" x=\"355.255133\" xlink:href=\"#m3ada581ca7\" y=\"17.08364\"/>\n     <use style=\"fill:#0000ff;stroke:#0000ff;\" x=\"355.559801\" xlink:href=\"#m3ada581ca7\" y=\"17.08364\"/>\n     <use style=\"fill:#0000ff;stroke:#0000ff;\" x=\"355.864469\" xlink:href=\"#m3ada581ca7\" y=\"17.083639\"/>\n     <use style=\"fill:#0000ff;stroke:#0000ff;\" x=\"356.169138\" xlink:href=\"#m3ada581ca7\" y=\"17.083639\"/>\n     <use style=\"fill:#0000ff;stroke:#0000ff;\" x=\"356.473806\" xlink:href=\"#m3ada581ca7\" y=\"17.083639\"/>\n     <use style=\"fill:#0000ff;stroke:#0000ff;\" x=\"356.778474\" xlink:href=\"#m3ada581ca7\" y=\"17.083639\"/>\n     <use style=\"fill:#0000ff;stroke:#0000ff;\" x=\"357.083143\" xlink:href=\"#m3ada581ca7\" y=\"17.083639\"/>\n     <use style=\"fill:#0000ff;stroke:#0000ff;\" x=\"357.387811\" xlink:href=\"#m3ada581ca7\" y=\"17.083639\"/>\n     <use style=\"fill:#0000ff;stroke:#0000ff;\" x=\"357.692479\" xlink:href=\"#m3ada581ca7\" y=\"17.083639\"/>\n     <use style=\"fill:#0000ff;stroke:#0000ff;\" x=\"357.997148\" xlink:href=\"#m3ada581ca7\" y=\"17.083639\"/>\n     <use style=\"fill:#0000ff;stroke:#0000ff;\" x=\"358.301816\" xlink:href=\"#m3ada581ca7\" y=\"17.083639\"/>\n     <use style=\"fill:#0000ff;stroke:#0000ff;\" x=\"358.606484\" xlink:href=\"#m3ada581ca7\" y=\"17.083639\"/>\n     <use style=\"fill:#0000ff;stroke:#0000ff;\" x=\"358.911152\" xlink:href=\"#m3ada581ca7\" y=\"17.083639\"/>\n     <use style=\"fill:#0000ff;stroke:#0000ff;\" x=\"359.215821\" xlink:href=\"#m3ada581ca7\" y=\"17.083639\"/>\n     <use style=\"fill:#0000ff;stroke:#0000ff;\" x=\"359.520489\" xlink:href=\"#m3ada581ca7\" y=\"17.083639\"/>\n     <use style=\"fill:#0000ff;stroke:#0000ff;\" x=\"359.825157\" xlink:href=\"#m3ada581ca7\" y=\"17.083639\"/>\n     <use style=\"fill:#0000ff;stroke:#0000ff;\" x=\"360.129826\" xlink:href=\"#m3ada581ca7\" y=\"17.083639\"/>\n     <use style=\"fill:#0000ff;stroke:#0000ff;\" x=\"360.434494\" xlink:href=\"#m3ada581ca7\" y=\"17.083639\"/>\n     <use style=\"fill:#0000ff;stroke:#0000ff;\" x=\"360.739162\" xlink:href=\"#m3ada581ca7\" y=\"17.083638\"/>\n     <use style=\"fill:#0000ff;stroke:#0000ff;\" x=\"361.043831\" xlink:href=\"#m3ada581ca7\" y=\"17.083638\"/>\n     <use style=\"fill:#0000ff;stroke:#0000ff;\" x=\"361.348499\" xlink:href=\"#m3ada581ca7\" y=\"17.083638\"/>\n     <use style=\"fill:#0000ff;stroke:#0000ff;\" x=\"361.653167\" xlink:href=\"#m3ada581ca7\" y=\"17.083638\"/>\n     <use style=\"fill:#0000ff;stroke:#0000ff;\" x=\"361.957836\" xlink:href=\"#m3ada581ca7\" y=\"17.083638\"/>\n     <use style=\"fill:#0000ff;stroke:#0000ff;\" x=\"362.262504\" xlink:href=\"#m3ada581ca7\" y=\"17.083638\"/>\n     <use style=\"fill:#0000ff;stroke:#0000ff;\" x=\"362.567172\" xlink:href=\"#m3ada581ca7\" y=\"17.083638\"/>\n     <use style=\"fill:#0000ff;stroke:#0000ff;\" x=\"362.87184\" xlink:href=\"#m3ada581ca7\" y=\"17.083638\"/>\n     <use style=\"fill:#0000ff;stroke:#0000ff;\" x=\"363.176509\" xlink:href=\"#m3ada581ca7\" y=\"17.083638\"/>\n     <use style=\"fill:#0000ff;stroke:#0000ff;\" x=\"363.481177\" xlink:href=\"#m3ada581ca7\" y=\"17.083638\"/>\n     <use style=\"fill:#0000ff;stroke:#0000ff;\" x=\"363.785845\" xlink:href=\"#m3ada581ca7\" y=\"17.083638\"/>\n     <use style=\"fill:#0000ff;stroke:#0000ff;\" x=\"364.090514\" xlink:href=\"#m3ada581ca7\" y=\"17.083638\"/>\n     <use style=\"fill:#0000ff;stroke:#0000ff;\" x=\"364.395182\" xlink:href=\"#m3ada581ca7\" y=\"17.083638\"/>\n     <use style=\"fill:#0000ff;stroke:#0000ff;\" x=\"364.69985\" xlink:href=\"#m3ada581ca7\" y=\"17.083638\"/>\n     <use style=\"fill:#0000ff;stroke:#0000ff;\" x=\"365.004519\" xlink:href=\"#m3ada581ca7\" y=\"17.083638\"/>\n     <use style=\"fill:#0000ff;stroke:#0000ff;\" x=\"365.309187\" xlink:href=\"#m3ada581ca7\" y=\"17.083638\"/>\n     <use style=\"fill:#0000ff;stroke:#0000ff;\" x=\"365.613855\" xlink:href=\"#m3ada581ca7\" y=\"17.083638\"/>\n     <use style=\"fill:#0000ff;stroke:#0000ff;\" x=\"365.918523\" xlink:href=\"#m3ada581ca7\" y=\"17.083638\"/>\n     <use style=\"fill:#0000ff;stroke:#0000ff;\" x=\"366.223192\" xlink:href=\"#m3ada581ca7\" y=\"17.083638\"/>\n     <use style=\"fill:#0000ff;stroke:#0000ff;\" x=\"366.52786\" xlink:href=\"#m3ada581ca7\" y=\"17.083638\"/>\n     <use style=\"fill:#0000ff;stroke:#0000ff;\" x=\"366.832528\" xlink:href=\"#m3ada581ca7\" y=\"17.083637\"/>\n     <use style=\"fill:#0000ff;stroke:#0000ff;\" x=\"367.137197\" xlink:href=\"#m3ada581ca7\" y=\"17.083637\"/>\n     <use style=\"fill:#0000ff;stroke:#0000ff;\" x=\"367.441865\" xlink:href=\"#m3ada581ca7\" y=\"17.083637\"/>\n     <use style=\"fill:#0000ff;stroke:#0000ff;\" x=\"367.746533\" xlink:href=\"#m3ada581ca7\" y=\"17.083637\"/>\n     <use style=\"fill:#0000ff;stroke:#0000ff;\" x=\"368.051202\" xlink:href=\"#m3ada581ca7\" y=\"17.083637\"/>\n     <use style=\"fill:#0000ff;stroke:#0000ff;\" x=\"368.35587\" xlink:href=\"#m3ada581ca7\" y=\"17.083637\"/>\n     <use style=\"fill:#0000ff;stroke:#0000ff;\" x=\"368.660538\" xlink:href=\"#m3ada581ca7\" y=\"17.083637\"/>\n     <use style=\"fill:#0000ff;stroke:#0000ff;\" x=\"368.965207\" xlink:href=\"#m3ada581ca7\" y=\"17.083637\"/>\n     <use style=\"fill:#0000ff;stroke:#0000ff;\" x=\"369.269875\" xlink:href=\"#m3ada581ca7\" y=\"17.083637\"/>\n     <use style=\"fill:#0000ff;stroke:#0000ff;\" x=\"369.574543\" xlink:href=\"#m3ada581ca7\" y=\"17.083637\"/>\n     <use style=\"fill:#0000ff;stroke:#0000ff;\" x=\"369.879211\" xlink:href=\"#m3ada581ca7\" y=\"17.083637\"/>\n     <use style=\"fill:#0000ff;stroke:#0000ff;\" x=\"370.18388\" xlink:href=\"#m3ada581ca7\" y=\"17.083637\"/>\n     <use style=\"fill:#0000ff;stroke:#0000ff;\" x=\"370.488548\" xlink:href=\"#m3ada581ca7\" y=\"17.083637\"/>\n     <use style=\"fill:#0000ff;stroke:#0000ff;\" x=\"370.793216\" xlink:href=\"#m3ada581ca7\" y=\"17.083637\"/>\n     <use style=\"fill:#0000ff;stroke:#0000ff;\" x=\"371.097885\" xlink:href=\"#m3ada581ca7\" y=\"17.083637\"/>\n     <use style=\"fill:#0000ff;stroke:#0000ff;\" x=\"371.402553\" xlink:href=\"#m3ada581ca7\" y=\"17.083637\"/>\n     <use style=\"fill:#0000ff;stroke:#0000ff;\" x=\"371.707221\" xlink:href=\"#m3ada581ca7\" y=\"17.083637\"/>\n     <use style=\"fill:#0000ff;stroke:#0000ff;\" x=\"372.01189\" xlink:href=\"#m3ada581ca7\" y=\"17.083637\"/>\n     <use style=\"fill:#0000ff;stroke:#0000ff;\" x=\"372.316558\" xlink:href=\"#m3ada581ca7\" y=\"17.083637\"/>\n     <use style=\"fill:#0000ff;stroke:#0000ff;\" x=\"372.621226\" xlink:href=\"#m3ada581ca7\" y=\"17.083637\"/>\n     <use style=\"fill:#0000ff;stroke:#0000ff;\" x=\"372.925895\" xlink:href=\"#m3ada581ca7\" y=\"17.083637\"/>\n     <use style=\"fill:#0000ff;stroke:#0000ff;\" x=\"373.230563\" xlink:href=\"#m3ada581ca7\" y=\"17.083637\"/>\n     <use style=\"fill:#0000ff;stroke:#0000ff;\" x=\"373.535231\" xlink:href=\"#m3ada581ca7\" y=\"17.083637\"/>\n     <use style=\"fill:#0000ff;stroke:#0000ff;\" x=\"373.839899\" xlink:href=\"#m3ada581ca7\" y=\"17.083637\"/>\n     <use style=\"fill:#0000ff;stroke:#0000ff;\" x=\"374.144568\" xlink:href=\"#m3ada581ca7\" y=\"17.083637\"/>\n     <use style=\"fill:#0000ff;stroke:#0000ff;\" x=\"374.449236\" xlink:href=\"#m3ada581ca7\" y=\"17.083637\"/>\n     <use style=\"fill:#0000ff;stroke:#0000ff;\" x=\"374.753904\" xlink:href=\"#m3ada581ca7\" y=\"17.083637\"/>\n     <use style=\"fill:#0000ff;stroke:#0000ff;\" x=\"375.058573\" xlink:href=\"#m3ada581ca7\" y=\"17.083637\"/>\n     <use style=\"fill:#0000ff;stroke:#0000ff;\" x=\"375.363241\" xlink:href=\"#m3ada581ca7\" y=\"17.083637\"/>\n     <use style=\"fill:#0000ff;stroke:#0000ff;\" x=\"375.667909\" xlink:href=\"#m3ada581ca7\" y=\"17.083637\"/>\n     <use style=\"fill:#0000ff;stroke:#0000ff;\" x=\"375.972578\" xlink:href=\"#m3ada581ca7\" y=\"17.083637\"/>\n     <use style=\"fill:#0000ff;stroke:#0000ff;\" x=\"376.277246\" xlink:href=\"#m3ada581ca7\" y=\"17.083637\"/>\n     <use style=\"fill:#0000ff;stroke:#0000ff;\" x=\"376.581914\" xlink:href=\"#m3ada581ca7\" y=\"17.083636\"/>\n     <use style=\"fill:#0000ff;stroke:#0000ff;\" x=\"376.886582\" xlink:href=\"#m3ada581ca7\" y=\"17.083636\"/>\n     <use style=\"fill:#0000ff;stroke:#0000ff;\" x=\"377.191251\" xlink:href=\"#m3ada581ca7\" y=\"17.083636\"/>\n     <use style=\"fill:#0000ff;stroke:#0000ff;\" x=\"377.495919\" xlink:href=\"#m3ada581ca7\" y=\"17.083636\"/>\n     <use style=\"fill:#0000ff;stroke:#0000ff;\" x=\"377.800587\" xlink:href=\"#m3ada581ca7\" y=\"17.083636\"/>\n     <use style=\"fill:#0000ff;stroke:#0000ff;\" x=\"378.105256\" xlink:href=\"#m3ada581ca7\" y=\"17.083636\"/>\n    </g>\n   </g>\n   <g id=\"patch_3\">\n    <path d=\"M 58.523438 224.64 \nL 58.523438 7.2 \n\" style=\"fill:none;stroke:#000000;stroke-linecap:square;stroke-linejoin:miter;stroke-width:0.8;\"/>\n   </g>\n   <g id=\"patch_4\">\n    <path d=\"M 393.323438 224.64 \nL 393.323438 7.2 \n\" style=\"fill:none;stroke:#000000;stroke-linecap:square;stroke-linejoin:miter;stroke-width:0.8;\"/>\n   </g>\n   <g id=\"patch_5\">\n    <path d=\"M 58.523438 224.64 \nL 393.323437 224.64 \n\" style=\"fill:none;stroke:#000000;stroke-linecap:square;stroke-linejoin:miter;stroke-width:0.8;\"/>\n   </g>\n   <g id=\"patch_6\">\n    <path d=\"M 58.523438 7.2 \nL 393.323437 7.2 \n\" style=\"fill:none;stroke:#000000;stroke-linecap:square;stroke-linejoin:miter;stroke-width:0.8;\"/>\n   </g>\n  </g>\n </g>\n <defs>\n  <clipPath id=\"padf352fed1\">\n   <rect height=\"217.44\" width=\"334.8\" x=\"58.523438\" y=\"7.2\"/>\n  </clipPath>\n </defs>\n</svg>\n",
      "image/png": "[encoded data removed]"
     },
     "metadata": {
      "needs_background": "light"
     }
    }
   ],
   "source": [
    "fig,ax = plt.subplots(num=2)\n",
    "\n",
    "ax.set_ylabel('l(Theta)')\n",
    "ax.set_xlabel('Iterations')\n",
    "_=ax.plot(range(len(log_l_history)),log_l_history,'b.')"
   ]
  },
  {
   "cell_type": "markdown",
   "metadata": {
    "id": "g0sfyGRyOeB1"
   },
   "source": [
    "Plot the data and the decision boundary:"
   ]
  },
  {
   "cell_type": "code",
   "execution_count": 215,
   "metadata": {
    "colab": {
     "base_uri": "https://localhost:8080/",
     "height": 195
    },
    "id": "KQClMhK9OeB2",
    "outputId": "73ca95f2-de91-419b-9188-f98fb9b5386f"
   },
   "outputs": [
    {
     "output_type": "execute_result",
     "data": {
      "text/plain": [
       "   y        x1        x2\n",
       "0 -1  1.343250 -1.331148\n",
       "1 -1  1.820553 -0.634668\n",
       "2 -1  0.986321 -1.888576\n",
       "3 -1  1.944373 -1.635452\n",
       "4 -1  0.976734 -1.353315"
      ],
      "text/html": "<div>\n<style scoped>\n    .dataframe tbody tr th:only-of-type {\n        vertical-align: middle;\n    }\n\n    .dataframe tbody tr th {\n        vertical-align: top;\n    }\n\n    .dataframe thead th {\n        text-align: right;\n    }\n</style>\n<table border=\"1\" class=\"dataframe\">\n  <thead>\n    <tr style=\"text-align: right;\">\n      <th></th>\n      <th>y</th>\n      <th>x1</th>\n      <th>x2</th>\n    </tr>\n  </thead>\n  <tbody>\n    <tr>\n      <th>0</th>\n      <td>-1</td>\n      <td>1.343250</td>\n      <td>-1.331148</td>\n    </tr>\n    <tr>\n      <th>1</th>\n      <td>-1</td>\n      <td>1.820553</td>\n      <td>-0.634668</td>\n    </tr>\n    <tr>\n      <th>2</th>\n      <td>-1</td>\n      <td>0.986321</td>\n      <td>-1.888576</td>\n    </tr>\n    <tr>\n      <th>3</th>\n      <td>-1</td>\n      <td>1.944373</td>\n      <td>-1.635452</td>\n    </tr>\n    <tr>\n      <th>4</th>\n      <td>-1</td>\n      <td>0.976734</td>\n      <td>-1.353315</td>\n    </tr>\n  </tbody>\n</table>\n</div>"
     },
     "metadata": {},
     "execution_count": 215
    }
   ],
   "source": [
    "df_x_pl=df_x.copy()\n",
    "df_y_pl=df_y.copy()\n",
    "df_x_pl.insert(0, \"y\", df_y)\n",
    "df_x_pl[\"y\"] = pd.to_numeric(df_x_pl[\"y\"], downcast='signed')\n",
    "df_x_pl.head()"
   ]
  },
  {
   "cell_type": "code",
   "execution_count": 216,
   "metadata": {
    "colab": {
     "base_uri": "https://localhost:8080/",
     "height": 279
    },
    "id": "o7UgpsNFOeB4",
    "outputId": "0c716ca2-ca3c-42fc-b731-c9e3992b27c1"
   },
   "outputs": [
    {
     "output_type": "display_data",
     "data": {
      "text/plain": "<Figure size 432x288 with 1 Axes>",
      "image/svg+xml": "<?xml version=\"1.0\" encoding=\"utf-8\" standalone=\"no\"?>\n<!DOCTYPE svg PUBLIC \"-//W3C//DTD SVG 1.1//EN\"\n  \"http://www.w3.org/Graphics/SVG/1.1/DTD/svg11.dtd\">\n<!-- Created with matplotlib (https://matplotlib.org/) -->\n<svg height=\"262.19625pt\" version=\"1.1\" viewBox=\"0 0 385.151055 262.19625\" width=\"385.151055pt\" xmlns=\"http://www.w3.org/2000/svg\" xmlns:xlink=\"http://www.w3.org/1999/xlink\">\n <metadata>\n  <rdf:RDF xmlns:cc=\"http://creativecommons.org/ns#\" xmlns:dc=\"http://purl.org/dc/elements/1.1/\" xmlns:rdf=\"http://www.w3.org/1999/02/22-rdf-syntax-ns#\">\n   <cc:Work>\n    <dc:type rdf:resource=\"http://purl.org/dc/dcmitype/StillImage\"/>\n    <dc:date>2020-11-18T23:17:33.391695</dc:date>\n    <dc:format>image/svg+xml</dc:format>\n    <dc:creator>\n     <cc:Agent>\n      <dc:title>Matplotlib v3.3.2, https://matplotlib.org/</dc:title>\n     </cc:Agent>\n    </dc:creator>\n   </cc:Work>\n  </rdf:RDF>\n </metadata>\n <defs>\n  <style type=\"text/css\">*{stroke-linecap:butt;stroke-linejoin:round;}</style>\n </defs>\n <g id=\"figure_1\">\n  <g id=\"patch_1\">\n   <path d=\"M 0 262.19625 \nL 385.151055 262.19625 \nL 385.151055 0 \nL 0 0 \nz\n\" style=\"fill:none;\"/>\n  </g>\n  <g id=\"axes_1\">\n   <g id=\"patch_2\">\n    <path d=\"M 42.620313 224.64 \nL 377.420313 224.64 \nL 377.420313 7.2 \nL 42.620313 7.2 \nz\n\" style=\"fill:#ffffff;\"/>\n   </g>\n   <g id=\"PathCollection_1\">\n    <defs>\n     <path d=\"M 0 3 \nC 0.795609 3 1.55874 2.683901 2.12132 2.12132 \nC 2.683901 1.55874 3 0.795609 3 -0 \nC 3 -0.795609 2.683901 -1.55874 2.12132 -2.12132 \nC 1.55874 -2.683901 0.795609 -3 0 -3 \nC -0.795609 -3 -1.55874 -2.683901 -2.12132 -2.12132 \nC -2.683901 -1.55874 -3 -0.795609 -3 0 \nC -3 0.795609 -2.683901 1.55874 -2.12132 2.12132 \nC -1.55874 2.683901 -0.795609 3 0 3 \nz\n\" id=\"C0_0_9ba04e99fc\"/>\n    </defs>\n    <g clip-path=\"url(#pefd4aca3dd)\">\n     <use style=\"fill:#edd1cb;stroke:#ffffff;stroke-width:0.48;\" x=\"90.791421\" xlink:href=\"#C0_0_9ba04e99fc\" y=\"147.123686\"/>\n    </g>\n    <g clip-path=\"url(#pefd4aca3dd)\">\n     <use style=\"fill:#edd1cb;stroke:#ffffff;stroke-width:0.48;\" x=\"111.15325\" xlink:href=\"#C0_0_9ba04e99fc\" y=\"129.516759\"/>\n    </g>\n    <g clip-path=\"url(#pefd4aca3dd)\">\n     <use style=\"fill:#edd1cb;stroke:#ffffff;stroke-width:0.48;\" x=\"75.564722\" xlink:href=\"#C0_0_9ba04e99fc\" y=\"161.215407\"/>\n    </g>\n    <g clip-path=\"url(#pefd4aca3dd)\">\n     <use style=\"fill:#edd1cb;stroke:#ffffff;stroke-width:0.48;\" x=\"116.435459\" xlink:href=\"#C0_0_9ba04e99fc\" y=\"154.816457\"/>\n    </g>\n    <g clip-path=\"url(#pefd4aca3dd)\">\n     <use style=\"fill:#edd1cb;stroke:#ffffff;stroke-width:0.48;\" x=\"75.155732\" xlink:href=\"#C0_0_9ba04e99fc\" y=\"147.68407\"/>\n    </g>\n    <g clip-path=\"url(#pefd4aca3dd)\">\n     <use style=\"fill:#edd1cb;stroke:#ffffff;stroke-width:0.48;\" x=\"116.498809\" xlink:href=\"#C0_0_9ba04e99fc\" y=\"165.152789\"/>\n    </g>\n    <g clip-path=\"url(#pefd4aca3dd)\">\n     <use style=\"fill:#edd1cb;stroke:#ffffff;stroke-width:0.48;\" x=\"123.395128\" xlink:href=\"#C0_0_9ba04e99fc\" y=\"167.20907\"/>\n    </g>\n    <g clip-path=\"url(#pefd4aca3dd)\">\n     <use style=\"fill:#edd1cb;stroke:#ffffff;stroke-width:0.48;\" x=\"121.810629\" xlink:href=\"#C0_0_9ba04e99fc\" y=\"175.74714\"/>\n    </g>\n    <g clip-path=\"url(#pefd4aca3dd)\">\n     <use style=\"fill:#edd1cb;stroke:#ffffff;stroke-width:0.48;\" x=\"70.54485\" xlink:href=\"#C0_0_9ba04e99fc\" y=\"174.445851\"/>\n    </g>\n    <g clip-path=\"url(#pefd4aca3dd)\">\n     <use style=\"fill:#edd1cb;stroke:#ffffff;stroke-width:0.48;\" x=\"110.304589\" xlink:href=\"#C0_0_9ba04e99fc\" y=\"183.59803\"/>\n    </g>\n    <g clip-path=\"url(#pefd4aca3dd)\">\n     <use style=\"fill:#edd1cb;stroke:#ffffff;stroke-width:0.48;\" x=\"166.945382\" xlink:href=\"#C0_0_9ba04e99fc\" y=\"200.567765\"/>\n    </g>\n    <g clip-path=\"url(#pefd4aca3dd)\">\n     <use style=\"fill:#edd1cb;stroke:#ffffff;stroke-width:0.48;\" x=\"165.510472\" xlink:href=\"#C0_0_9ba04e99fc\" y=\"205.607848\"/>\n    </g>\n    <g clip-path=\"url(#pefd4aca3dd)\">\n     <use style=\"fill:#edd1cb;stroke:#ffffff;stroke-width:0.48;\" x=\"157.572357\" xlink:href=\"#C0_0_9ba04e99fc\" y=\"214.756364\"/>\n    </g>\n    <g clip-path=\"url(#pefd4aca3dd)\">\n     <use style=\"fill:#edd1cb;stroke:#ffffff;stroke-width:0.48;\" x=\"147.690911\" xlink:href=\"#C0_0_9ba04e99fc\" y=\"189.814108\"/>\n    </g>\n    <g clip-path=\"url(#pefd4aca3dd)\">\n     <use style=\"fill:#edd1cb;stroke:#ffffff;stroke-width:0.48;\" x=\"150.627354\" xlink:href=\"#C0_0_9ba04e99fc\" y=\"181.982322\"/>\n    </g>\n    <g clip-path=\"url(#pefd4aca3dd)\">\n     <use style=\"fill:#edd1cb;stroke:#ffffff;stroke-width:0.48;\" x=\"211.443658\" xlink:href=\"#C0_0_9ba04e99fc\" y=\"200.997649\"/>\n    </g>\n    <g clip-path=\"url(#pefd4aca3dd)\">\n     <use style=\"fill:#edd1cb;stroke:#ffffff;stroke-width:0.48;\" x=\"201.199118\" xlink:href=\"#C0_0_9ba04e99fc\" y=\"166.810558\"/>\n    </g>\n    <g clip-path=\"url(#pefd4aca3dd)\">\n     <use style=\"fill:#edd1cb;stroke:#ffffff;stroke-width:0.48;\" x=\"220.283806\" xlink:href=\"#C0_0_9ba04e99fc\" y=\"173.650533\"/>\n    </g>\n    <g clip-path=\"url(#pefd4aca3dd)\">\n     <use style=\"fill:#edd1cb;stroke:#ffffff;stroke-width:0.48;\" x=\"238.327777\" xlink:href=\"#C0_0_9ba04e99fc\" y=\"198.926878\"/>\n    </g>\n    <g clip-path=\"url(#pefd4aca3dd)\">\n     <use style=\"fill:#edd1cb;stroke:#ffffff;stroke-width:0.48;\" x=\"211.215012\" xlink:href=\"#C0_0_9ba04e99fc\" y=\"184.607089\"/>\n    </g>\n    <g clip-path=\"url(#pefd4aca3dd)\">\n     <use style=\"fill:#edd1cb;stroke:#ffffff;stroke-width:0.48;\" x=\"138.731425\" xlink:href=\"#C0_0_9ba04e99fc\" y=\"154.19438\"/>\n    </g>\n    <g clip-path=\"url(#pefd4aca3dd)\">\n     <use style=\"fill:#edd1cb;stroke:#ffffff;stroke-width:0.48;\" x=\"182.05971\" xlink:href=\"#C0_0_9ba04e99fc\" y=\"152.741869\"/>\n    </g>\n    <g clip-path=\"url(#pefd4aca3dd)\">\n     <use style=\"fill:#edd1cb;stroke:#ffffff;stroke-width:0.48;\" x=\"177.050287\" xlink:href=\"#C0_0_9ba04e99fc\" y=\"159.393168\"/>\n    </g>\n    <g clip-path=\"url(#pefd4aca3dd)\">\n     <use style=\"fill:#edd1cb;stroke:#ffffff;stroke-width:0.48;\" x=\"156.233406\" xlink:href=\"#C0_0_9ba04e99fc\" y=\"160.269755\"/>\n    </g>\n    <g clip-path=\"url(#pefd4aca3dd)\">\n     <use style=\"fill:#edd1cb;stroke:#ffffff;stroke-width:0.48;\" x=\"166.120577\" xlink:href=\"#C0_0_9ba04e99fc\" y=\"154.893374\"/>\n    </g>\n    <g clip-path=\"url(#pefd4aca3dd)\">\n     <use style=\"fill:#edd1cb;stroke:#ffffff;stroke-width:0.48;\" x=\"128.124218\" xlink:href=\"#C0_0_9ba04e99fc\" y=\"111.594646\"/>\n    </g>\n    <g clip-path=\"url(#pefd4aca3dd)\">\n     <use style=\"fill:#edd1cb;stroke:#ffffff;stroke-width:0.48;\" x=\"118.594659\" xlink:href=\"#C0_0_9ba04e99fc\" y=\"109.359727\"/>\n    </g>\n    <g clip-path=\"url(#pefd4aca3dd)\">\n     <use style=\"fill:#edd1cb;stroke:#ffffff;stroke-width:0.48;\" x=\"159.337022\" xlink:href=\"#C0_0_9ba04e99fc\" y=\"113.045877\"/>\n    </g>\n    <g clip-path=\"url(#pefd4aca3dd)\">\n     <use style=\"fill:#edd1cb;stroke:#ffffff;stroke-width:0.48;\" x=\"119.730001\" xlink:href=\"#C0_0_9ba04e99fc\" y=\"109.117362\"/>\n    </g>\n    <g clip-path=\"url(#pefd4aca3dd)\">\n     <use style=\"fill:#edd1cb;stroke:#ffffff;stroke-width:0.48;\" x=\"120.885717\" xlink:href=\"#C0_0_9ba04e99fc\" y=\"129.545636\"/>\n    </g>\n    <g clip-path=\"url(#pefd4aca3dd)\">\n     <use style=\"fill:#edd1cb;stroke:#ffffff;stroke-width:0.48;\" x=\"70.836475\" xlink:href=\"#C0_0_9ba04e99fc\" y=\"127.271743\"/>\n    </g>\n    <g clip-path=\"url(#pefd4aca3dd)\">\n     <use style=\"fill:#edd1cb;stroke:#ffffff;stroke-width:0.48;\" x=\"57.838494\" xlink:href=\"#C0_0_9ba04e99fc\" y=\"114.313705\"/>\n    </g>\n    <g clip-path=\"url(#pefd4aca3dd)\">\n     <use style=\"fill:#edd1cb;stroke:#ffffff;stroke-width:0.48;\" x=\"94.34913\" xlink:href=\"#C0_0_9ba04e99fc\" y=\"132.505227\"/>\n    </g>\n    <g clip-path=\"url(#pefd4aca3dd)\">\n     <use style=\"fill:#edd1cb;stroke:#ffffff;stroke-width:0.48;\" x=\"64.316744\" xlink:href=\"#C0_0_9ba04e99fc\" y=\"135.388042\"/>\n    </g>\n    <g clip-path=\"url(#pefd4aca3dd)\">\n     <use style=\"fill:#edd1cb;stroke:#ffffff;stroke-width:0.48;\" x=\"74.162963\" xlink:href=\"#C0_0_9ba04e99fc\" y=\"151.131753\"/>\n    </g>\n    <g clip-path=\"url(#pefd4aca3dd)\">\n     <use style=\"fill:#edd1cb;stroke:#ffffff;stroke-width:0.48;\" x=\"239.679116\" xlink:href=\"#C0_0_9ba04e99fc\" y=\"111.698398\"/>\n    </g>\n    <g clip-path=\"url(#pefd4aca3dd)\">\n     <use style=\"fill:#edd1cb;stroke:#ffffff;stroke-width:0.48;\" x=\"217.22637\" xlink:href=\"#C0_0_9ba04e99fc\" y=\"77.696217\"/>\n    </g>\n    <g clip-path=\"url(#pefd4aca3dd)\">\n     <use style=\"fill:#edd1cb;stroke:#ffffff;stroke-width:0.48;\" x=\"290.821481\" xlink:href=\"#C0_0_9ba04e99fc\" y=\"102.089086\"/>\n    </g>\n    <g clip-path=\"url(#pefd4aca3dd)\">\n     <use style=\"fill:#edd1cb;stroke:#ffffff;stroke-width:0.48;\" x=\"264.626615\" xlink:href=\"#C0_0_9ba04e99fc\" y=\"181.92029\"/>\n    </g>\n    <g clip-path=\"url(#pefd4aca3dd)\">\n     <use style=\"fill:#edd1cb;stroke:#ffffff;stroke-width:0.48;\" x=\"181.052502\" xlink:href=\"#C0_0_9ba04e99fc\" y=\"184.877002\"/>\n    </g>\n    <g clip-path=\"url(#pefd4aca3dd)\">\n     <use style=\"fill:#edd1cb;stroke:#ffffff;stroke-width:0.48;\" x=\"149.868135\" xlink:href=\"#C0_0_9ba04e99fc\" y=\"136.830444\"/>\n    </g>\n    <g clip-path=\"url(#pefd4aca3dd)\">\n     <use style=\"fill:#edd1cb;stroke:#ffffff;stroke-width:0.48;\" x=\"76.273023\" xlink:href=\"#C0_0_9ba04e99fc\" y=\"93.95813\"/>\n    </g>\n    <g clip-path=\"url(#pefd4aca3dd)\">\n     <use style=\"fill:#edd1cb;stroke:#ffffff;stroke-width:0.48;\" x=\"189.784127\" xlink:href=\"#C0_0_9ba04e99fc\" y=\"133.134555\"/>\n    </g>\n    <g clip-path=\"url(#pefd4aca3dd)\">\n     <use style=\"fill:#edd1cb;stroke:#ffffff;stroke-width:0.48;\" x=\"217.22637\" xlink:href=\"#C0_0_9ba04e99fc\" y=\"139.787156\"/>\n    </g>\n    <g clip-path=\"url(#pefd4aca3dd)\">\n     <use style=\"fill:#edd1cb;stroke:#ffffff;stroke-width:0.48;\" x=\"191.031503\" xlink:href=\"#C0_0_9ba04e99fc\" y=\"116.133465\"/>\n    </g>\n    <g clip-path=\"url(#pefd4aca3dd)\">\n     <use style=\"fill:#edd1cb;stroke:#ffffff;stroke-width:0.48;\" x=\"278.347736\" xlink:href=\"#C0_0_9ba04e99fc\" y=\"154.570712\"/>\n    </g>\n    <g clip-path=\"url(#pefd4aca3dd)\">\n     <use style=\"fill:#edd1cb;stroke:#ffffff;stroke-width:0.48;\" x=\"245.915993\" xlink:href=\"#C0_0_9ba04e99fc\" y=\"151.614\"/>\n    </g>\n    <g clip-path=\"url(#pefd4aca3dd)\">\n     <use style=\"fill:#edd1cb;stroke:#ffffff;stroke-width:0.48;\" x=\"310.779479\" xlink:href=\"#C0_0_9ba04e99fc\" y=\"187.094536\"/>\n    </g>\n    <g clip-path=\"url(#pefd4aca3dd)\">\n     <use style=\"fill:#edd1cb;stroke:#ffffff;stroke-width:0.48;\" x=\"257.142366\" xlink:href=\"#C0_0_9ba04e99fc\" y=\"90.262241\"/>\n    </g>\n    <g clip-path=\"url(#pefd4aca3dd)\">\n     <use style=\"fill:#edd1cb;stroke:#ffffff;stroke-width:0.48;\" x=\"104.962642\" xlink:href=\"#C0_0_9ba04e99fc\" y=\"99.132375\"/>\n    </g>\n    <g clip-path=\"url(#pefd4aca3dd)\">\n     <use style=\"fill:#2d1e3e;stroke:#ffffff;stroke-width:0.48;\" x=\"254.079772\" xlink:href=\"#C0_0_9ba04e99fc\" y=\"82.874498\"/>\n    </g>\n    <g clip-path=\"url(#pefd4aca3dd)\">\n     <use style=\"fill:#2d1e3e;stroke:#ffffff;stroke-width:0.48;\" x=\"241.649399\" xlink:href=\"#C0_0_9ba04e99fc\" y=\"72.817703\"/>\n    </g>\n    <g clip-path=\"url(#pefd4aca3dd)\">\n     <use style=\"fill:#2d1e3e;stroke:#ffffff;stroke-width:0.48;\" x=\"232.497426\" xlink:href=\"#C0_0_9ba04e99fc\" y=\"86.434246\"/>\n    </g>\n    <g clip-path=\"url(#pefd4aca3dd)\">\n     <use style=\"fill:#2d1e3e;stroke:#ffffff;stroke-width:0.48;\" x=\"225.178857\" xlink:href=\"#C0_0_9ba04e99fc\" y=\"82.247746\"/>\n    </g>\n    <g clip-path=\"url(#pefd4aca3dd)\">\n     <use style=\"fill:#2d1e3e;stroke:#ffffff;stroke-width:0.48;\" x=\"210.583286\" xlink:href=\"#C0_0_9ba04e99fc\" y=\"91.549393\"/>\n    </g>\n    <g clip-path=\"url(#pefd4aca3dd)\">\n     <use style=\"fill:#2d1e3e;stroke:#ffffff;stroke-width:0.48;\" x=\"192.086298\" xlink:href=\"#C0_0_9ba04e99fc\" y=\"84.357079\"/>\n    </g>\n    <g clip-path=\"url(#pefd4aca3dd)\">\n     <use style=\"fill:#2d1e3e;stroke:#ffffff;stroke-width:0.48;\" x=\"188.022473\" xlink:href=\"#C0_0_9ba04e99fc\" y=\"80.338668\"/>\n    </g>\n    <g clip-path=\"url(#pefd4aca3dd)\">\n     <use style=\"fill:#2d1e3e;stroke:#ffffff;stroke-width:0.48;\" x=\"164.057951\" xlink:href=\"#C0_0_9ba04e99fc\" y=\"75.913693\"/>\n    </g>\n    <g clip-path=\"url(#pefd4aca3dd)\">\n     <use style=\"fill:#2d1e3e;stroke:#ffffff;stroke-width:0.48;\" x=\"335.174575\" xlink:href=\"#C0_0_9ba04e99fc\" y=\"122.310689\"/>\n    </g>\n    <g clip-path=\"url(#pefd4aca3dd)\">\n     <use style=\"fill:#2d1e3e;stroke:#ffffff;stroke-width:0.48;\" x=\"291.120935\" xlink:href=\"#C0_0_9ba04e99fc\" y=\"119.730922\"/>\n    </g>\n    <g clip-path=\"url(#pefd4aca3dd)\">\n     <use style=\"fill:#2d1e3e;stroke:#ffffff;stroke-width:0.48;\" x=\"318.234267\" xlink:href=\"#C0_0_9ba04e99fc\" y=\"116.628559\"/>\n    </g>\n    <g clip-path=\"url(#pefd4aca3dd)\">\n     <use style=\"fill:#2d1e3e;stroke:#ffffff;stroke-width:0.48;\" x=\"325.545422\" xlink:href=\"#C0_0_9ba04e99fc\" y=\"106.905428\"/>\n    </g>\n    <g clip-path=\"url(#pefd4aca3dd)\">\n     <use style=\"fill:#2d1e3e;stroke:#ffffff;stroke-width:0.48;\" x=\"307.668372\" xlink:href=\"#C0_0_9ba04e99fc\" y=\"117.192072\"/>\n    </g>\n    <g clip-path=\"url(#pefd4aca3dd)\">\n     <use style=\"fill:#2d1e3e;stroke:#ffffff;stroke-width:0.48;\" x=\"325.523128\" xlink:href=\"#C0_0_9ba04e99fc\" y=\"76.172043\"/>\n    </g>\n    <g clip-path=\"url(#pefd4aca3dd)\">\n     <use style=\"fill:#2d1e3e;stroke:#ffffff;stroke-width:0.48;\" x=\"362.202131\" xlink:href=\"#C0_0_9ba04e99fc\" y=\"72.909452\"/>\n    </g>\n    <g clip-path=\"url(#pefd4aca3dd)\">\n     <use style=\"fill:#2d1e3e;stroke:#ffffff;stroke-width:0.48;\" x=\"301.69566\" xlink:href=\"#C0_0_9ba04e99fc\" y=\"52.405263\"/>\n    </g>\n    <g clip-path=\"url(#pefd4aca3dd)\">\n     <use style=\"fill:#2d1e3e;stroke:#ffffff;stroke-width:0.48;\" x=\"331.303122\" xlink:href=\"#C0_0_9ba04e99fc\" y=\"81.620115\"/>\n    </g>\n    <g clip-path=\"url(#pefd4aca3dd)\">\n     <use style=\"fill:#2d1e3e;stroke:#ffffff;stroke-width:0.48;\" x=\"336.333683\" xlink:href=\"#C0_0_9ba04e99fc\" y=\"57.464465\"/>\n    </g>\n    <g clip-path=\"url(#pefd4aca3dd)\">\n     <use style=\"fill:#2d1e3e;stroke:#ffffff;stroke-width:0.48;\" x=\"269.294461\" xlink:href=\"#C0_0_9ba04e99fc\" y=\"105.896443\"/>\n    </g>\n    <g clip-path=\"url(#pefd4aca3dd)\">\n     <use style=\"fill:#2d1e3e;stroke:#ffffff;stroke-width:0.48;\" x=\"282.212018\" xlink:href=\"#C0_0_9ba04e99fc\" y=\"119.027529\"/>\n    </g>\n    <g clip-path=\"url(#pefd4aca3dd)\">\n     <use style=\"fill:#2d1e3e;stroke:#ffffff;stroke-width:0.48;\" x=\"304.783701\" xlink:href=\"#C0_0_9ba04e99fc\" y=\"107.419355\"/>\n    </g>\n    <g clip-path=\"url(#pefd4aca3dd)\">\n     <use style=\"fill:#2d1e3e;stroke:#ffffff;stroke-width:0.48;\" x=\"293.734692\" xlink:href=\"#C0_0_9ba04e99fc\" y=\"114.507823\"/>\n    </g>\n    <g clip-path=\"url(#pefd4aca3dd)\">\n     <use style=\"fill:#2d1e3e;stroke:#ffffff;stroke-width:0.48;\" x=\"273.398089\" xlink:href=\"#C0_0_9ba04e99fc\" y=\"104.08451\"/>\n    </g>\n    <g clip-path=\"url(#pefd4aca3dd)\">\n     <use style=\"fill:#2d1e3e;stroke:#ffffff;stroke-width:0.48;\" x=\"284.487855\" xlink:href=\"#C0_0_9ba04e99fc\" y=\"43.274779\"/>\n    </g>\n    <g clip-path=\"url(#pefd4aca3dd)\">\n     <use style=\"fill:#2d1e3e;stroke:#ffffff;stroke-width:0.48;\" x=\"271.453632\" xlink:href=\"#C0_0_9ba04e99fc\" y=\"35.906445\"/>\n    </g>\n    <g clip-path=\"url(#pefd4aca3dd)\">\n     <use style=\"fill:#2d1e3e;stroke:#ffffff;stroke-width:0.48;\" x=\"332.325713\" xlink:href=\"#C0_0_9ba04e99fc\" y=\"119.990015\"/>\n    </g>\n    <g clip-path=\"url(#pefd4aca3dd)\">\n     <use style=\"fill:#2d1e3e;stroke:#ffffff;stroke-width:0.48;\" x=\"223.488629\" xlink:href=\"#C0_0_9ba04e99fc\" y=\"92.252029\"/>\n    </g>\n    <g clip-path=\"url(#pefd4aca3dd)\">\n     <use style=\"fill:#2d1e3e;stroke:#ffffff;stroke-width:0.48;\" x=\"274.500906\" xlink:href=\"#C0_0_9ba04e99fc\" y=\"80.472247\"/>\n    </g>\n    <g clip-path=\"url(#pefd4aca3dd)\">\n     <use style=\"fill:#2d1e3e;stroke:#ffffff;stroke-width:0.48;\" x=\"231.164802\" xlink:href=\"#C0_0_9ba04e99fc\" y=\"64.258699\"/>\n    </g>\n    <g clip-path=\"url(#pefd4aca3dd)\">\n     <use style=\"fill:#2d1e3e;stroke:#ffffff;stroke-width:0.48;\" x=\"191.27476\" xlink:href=\"#C0_0_9ba04e99fc\" y=\"56.354848\"/>\n    </g>\n    <g clip-path=\"url(#pefd4aca3dd)\">\n     <use style=\"fill:#2d1e3e;stroke:#ffffff;stroke-width:0.48;\" x=\"209.218322\" xlink:href=\"#C0_0_9ba04e99fc\" y=\"49.073165\"/>\n    </g>\n    <g clip-path=\"url(#pefd4aca3dd)\">\n     <use style=\"fill:#2d1e3e;stroke:#ffffff;stroke-width:0.48;\" x=\"236.830373\" xlink:href=\"#C0_0_9ba04e99fc\" y=\"43.873854\"/>\n    </g>\n    <g clip-path=\"url(#pefd4aca3dd)\">\n     <use style=\"fill:#2d1e3e;stroke:#ffffff;stroke-width:0.48;\" x=\"164.933147\" xlink:href=\"#C0_0_9ba04e99fc\" y=\"42.726031\"/>\n    </g>\n    <g clip-path=\"url(#pefd4aca3dd)\">\n     <use style=\"fill:#2d1e3e;stroke:#ffffff;stroke-width:0.48;\" x=\"207.247373\" xlink:href=\"#C0_0_9ba04e99fc\" y=\"190.051248\"/>\n    </g>\n    <g clip-path=\"url(#pefd4aca3dd)\">\n     <use style=\"fill:#2d1e3e;stroke:#ffffff;stroke-width:0.48;\" x=\"182.299878\" xlink:href=\"#C0_0_9ba04e99fc\" y=\"161.223312\"/>\n    </g>\n    <g clip-path=\"url(#pefd4aca3dd)\">\n     <use style=\"fill:#2d1e3e;stroke:#ffffff;stroke-width:0.48;\" x=\"66.294024\" xlink:href=\"#C0_0_9ba04e99fc\" y=\"82.870463\"/>\n    </g>\n    <g clip-path=\"url(#pefd4aca3dd)\">\n     <use style=\"fill:#2d1e3e;stroke:#ffffff;stroke-width:0.48;\" x=\"97.478393\" xlink:href=\"#C0_0_9ba04e99fc\" y=\"17.083636\"/>\n    </g>\n    <g clip-path=\"url(#pefd4aca3dd)\">\n     <use style=\"fill:#2d1e3e;stroke:#ffffff;stroke-width:0.48;\" x=\"280.842484\" xlink:href=\"#C0_0_9ba04e99fc\" y=\"166.397558\"/>\n    </g>\n    <g clip-path=\"url(#pefd4aca3dd)\">\n     <use style=\"fill:#2d1e3e;stroke:#ffffff;stroke-width:0.48;\" x=\"324.066128\" xlink:href=\"#C0_0_9ba04e99fc\" y=\"134.570187\"/>\n    </g>\n    <g clip-path=\"url(#pefd4aca3dd)\">\n     <use style=\"fill:#2d1e3e;stroke:#ffffff;stroke-width:0.48;\" x=\"336.828217\" xlink:href=\"#C0_0_9ba04e99fc\" y=\"139.260831\"/>\n    </g>\n    <g clip-path=\"url(#pefd4aca3dd)\">\n     <use style=\"fill:#2d1e3e;stroke:#ffffff;stroke-width:0.48;\" x=\"353.19022\" xlink:href=\"#C0_0_9ba04e99fc\" y=\"157.527424\"/>\n    </g>\n    <g clip-path=\"url(#pefd4aca3dd)\">\n     <use style=\"fill:#2d1e3e;stroke:#ffffff;stroke-width:0.48;\" x=\"167.33138\" xlink:href=\"#C0_0_9ba04e99fc\" y=\"102.828264\"/>\n    </g>\n    <g clip-path=\"url(#pefd4aca3dd)\">\n     <use style=\"fill:#2d1e3e;stroke:#ffffff;stroke-width:0.48;\" x=\"104.962642\" xlink:href=\"#C0_0_9ba04e99fc\" y=\"100.61073\"/>\n    </g>\n    <g clip-path=\"url(#pefd4aca3dd)\">\n     <use style=\"fill:#2d1e3e;stroke:#ffffff;stroke-width:0.48;\" x=\"139.889134\" xlink:href=\"#C0_0_9ba04e99fc\" y=\"135.352088\"/>\n    </g>\n    <g clip-path=\"url(#pefd4aca3dd)\">\n     <use style=\"fill:#2d1e3e;stroke:#ffffff;stroke-width:0.48;\" x=\"237.184368\" xlink:href=\"#C0_0_9ba04e99fc\" y=\"110.95922\"/>\n    </g>\n    <g clip-path=\"url(#pefd4aca3dd)\">\n     <use style=\"fill:#2d1e3e;stroke:#ffffff;stroke-width:0.48;\" x=\"282.08986\" xlink:href=\"#C0_0_9ba04e99fc\" y=\"130.917021\"/>\n    </g>\n    <g clip-path=\"url(#pefd4aca3dd)\">\n     <use style=\"fill:#2d1e3e;stroke:#ffffff;stroke-width:0.48;\" x=\"131.157513\" xlink:href=\"#C0_0_9ba04e99fc\" y=\"63.65184\"/>\n    </g>\n    <g clip-path=\"url(#pefd4aca3dd)\">\n     <use style=\"fill:#2d1e3e;stroke:#ffffff;stroke-width:0.48;\" x=\"139.889134\" xlink:href=\"#C0_0_9ba04e99fc\" y=\"77.696217\"/>\n    </g>\n    <g clip-path=\"url(#pefd4aca3dd)\">\n     <use style=\"fill:#2d1e3e;stroke:#ffffff;stroke-width:0.48;\" x=\"122.425888\" xlink:href=\"#C0_0_9ba04e99fc\" y=\"79.174575\"/>\n    </g>\n   </g>\n   <g id=\"PathCollection_2\"/>\n   <g id=\"PathCollection_3\"/>\n   <g id=\"matplotlib.axis_1\">\n    <g id=\"xtick_1\">\n     <g id=\"line2d_1\">\n      <defs>\n       <path d=\"M 0 0 \nL 0 3.5 \n\" id=\"mbcda6bf3fa\" style=\"stroke:#000000;stroke-width:0.8;\"/>\n      </defs>\n      <g>\n       <use style=\"stroke:#000000;stroke-width:0.8;\" x=\"76.148285\" xlink:href=\"#mbcda6bf3fa\" y=\"224.64\"/>\n      </g>\n     </g>\n     <g id=\"text_1\">\n      <!-- 1 -->\n      <g transform=\"translate(72.967035 239.238437)scale(0.1 -0.1)\">\n       <defs>\n        <path d=\"M 12.40625 8.296875 \nL 28.515625 8.296875 \nL 28.515625 63.921875 \nL 10.984375 60.40625 \nL 10.984375 69.390625 \nL 28.421875 72.90625 \nL 38.28125 72.90625 \nL 38.28125 8.296875 \nL 54.390625 8.296875 \nL 54.390625 0 \nL 12.40625 0 \nz\n\" id=\"DejaVuSans-49\"/>\n       </defs>\n       <use xlink:href=\"#DejaVuSans-49\"/>\n      </g>\n     </g>\n    </g>\n    <g id=\"xtick_2\">\n     <g id=\"line2d_2\">\n      <g>\n       <use style=\"stroke:#000000;stroke-width:0.8;\" x=\"118.808502\" xlink:href=\"#mbcda6bf3fa\" y=\"224.64\"/>\n      </g>\n     </g>\n     <g id=\"text_2\">\n      <!-- 2 -->\n      <g transform=\"translate(115.627252 239.238437)scale(0.1 -0.1)\">\n       <defs>\n        <path d=\"M 19.1875 8.296875 \nL 53.609375 8.296875 \nL 53.609375 0 \nL 7.328125 0 \nL 7.328125 8.296875 \nQ 12.9375 14.109375 22.625 23.890625 \nQ 32.328125 33.6875 34.8125 36.53125 \nQ 39.546875 41.84375 41.421875 45.53125 \nQ 43.3125 49.21875 43.3125 52.78125 \nQ 43.3125 58.59375 39.234375 62.25 \nQ 35.15625 65.921875 28.609375 65.921875 \nQ 23.96875 65.921875 18.8125 64.3125 \nQ 13.671875 62.703125 7.8125 59.421875 \nL 7.8125 69.390625 \nQ 13.765625 71.78125 18.9375 73 \nQ 24.125 74.21875 28.421875 74.21875 \nQ 39.75 74.21875 46.484375 68.546875 \nQ 53.21875 62.890625 53.21875 53.421875 \nQ 53.21875 48.921875 51.53125 44.890625 \nQ 49.859375 40.875 45.40625 35.40625 \nQ 44.1875 33.984375 37.640625 27.21875 \nQ 31.109375 20.453125 19.1875 8.296875 \nz\n\" id=\"DejaVuSans-50\"/>\n       </defs>\n       <use xlink:href=\"#DejaVuSans-50\"/>\n      </g>\n     </g>\n    </g>\n    <g id=\"xtick_3\">\n     <g id=\"line2d_3\">\n      <g>\n       <use style=\"stroke:#000000;stroke-width:0.8;\" x=\"161.468719\" xlink:href=\"#mbcda6bf3fa\" y=\"224.64\"/>\n      </g>\n     </g>\n     <g id=\"text_3\">\n      <!-- 3 -->\n      <g transform=\"translate(158.287469 239.238437)scale(0.1 -0.1)\">\n       <defs>\n        <path d=\"M 40.578125 39.3125 \nQ 47.65625 37.796875 51.625 33 \nQ 55.609375 28.21875 55.609375 21.1875 \nQ 55.609375 10.40625 48.1875 4.484375 \nQ 40.765625 -1.421875 27.09375 -1.421875 \nQ 22.515625 -1.421875 17.65625 -0.515625 \nQ 12.796875 0.390625 7.625 2.203125 \nL 7.625 11.71875 \nQ 11.71875 9.328125 16.59375 8.109375 \nQ 21.484375 6.890625 26.8125 6.890625 \nQ 36.078125 6.890625 40.9375 10.546875 \nQ 45.796875 14.203125 45.796875 21.1875 \nQ 45.796875 27.640625 41.28125 31.265625 \nQ 36.765625 34.90625 28.71875 34.90625 \nL 20.21875 34.90625 \nL 20.21875 43.015625 \nL 29.109375 43.015625 \nQ 36.375 43.015625 40.234375 45.921875 \nQ 44.09375 48.828125 44.09375 54.296875 \nQ 44.09375 59.90625 40.109375 62.90625 \nQ 36.140625 65.921875 28.71875 65.921875 \nQ 24.65625 65.921875 20.015625 65.03125 \nQ 15.375 64.15625 9.8125 62.3125 \nL 9.8125 71.09375 \nQ 15.4375 72.65625 20.34375 73.4375 \nQ 25.25 74.21875 29.59375 74.21875 \nQ 40.828125 74.21875 47.359375 69.109375 \nQ 53.90625 64.015625 53.90625 55.328125 \nQ 53.90625 49.265625 50.4375 45.09375 \nQ 46.96875 40.921875 40.578125 39.3125 \nz\n\" id=\"DejaVuSans-51\"/>\n       </defs>\n       <use xlink:href=\"#DejaVuSans-51\"/>\n      </g>\n     </g>\n    </g>\n    <g id=\"xtick_4\">\n     <g id=\"line2d_4\">\n      <g>\n       <use style=\"stroke:#000000;stroke-width:0.8;\" x=\"204.128936\" xlink:href=\"#mbcda6bf3fa\" y=\"224.64\"/>\n      </g>\n     </g>\n     <g id=\"text_4\">\n      <!-- 4 -->\n      <g transform=\"translate(200.947686 239.238437)scale(0.1 -0.1)\">\n       <defs>\n        <path d=\"M 37.796875 64.3125 \nL 12.890625 25.390625 \nL 37.796875 25.390625 \nz\nM 35.203125 72.90625 \nL 47.609375 72.90625 \nL 47.609375 25.390625 \nL 58.015625 25.390625 \nL 58.015625 17.1875 \nL 47.609375 17.1875 \nL 47.609375 0 \nL 37.796875 0 \nL 37.796875 17.1875 \nL 4.890625 17.1875 \nL 4.890625 26.703125 \nz\n\" id=\"DejaVuSans-52\"/>\n       </defs>\n       <use xlink:href=\"#DejaVuSans-52\"/>\n      </g>\n     </g>\n    </g>\n    <g id=\"xtick_5\">\n     <g id=\"line2d_5\">\n      <g>\n       <use style=\"stroke:#000000;stroke-width:0.8;\" x=\"246.789153\" xlink:href=\"#mbcda6bf3fa\" y=\"224.64\"/>\n      </g>\n     </g>\n     <g id=\"text_5\">\n      <!-- 5 -->\n      <g transform=\"translate(243.607903 239.238437)scale(0.1 -0.1)\">\n       <defs>\n        <path d=\"M 10.796875 72.90625 \nL 49.515625 72.90625 \nL 49.515625 64.59375 \nL 19.828125 64.59375 \nL 19.828125 46.734375 \nQ 21.96875 47.46875 24.109375 47.828125 \nQ 26.265625 48.1875 28.421875 48.1875 \nQ 40.625 48.1875 47.75 41.5 \nQ 54.890625 34.8125 54.890625 23.390625 \nQ 54.890625 11.625 47.5625 5.09375 \nQ 40.234375 -1.421875 26.90625 -1.421875 \nQ 22.3125 -1.421875 17.546875 -0.640625 \nQ 12.796875 0.140625 7.71875 1.703125 \nL 7.71875 11.625 \nQ 12.109375 9.234375 16.796875 8.0625 \nQ 21.484375 6.890625 26.703125 6.890625 \nQ 35.15625 6.890625 40.078125 11.328125 \nQ 45.015625 15.765625 45.015625 23.390625 \nQ 45.015625 31 40.078125 35.4375 \nQ 35.15625 39.890625 26.703125 39.890625 \nQ 22.75 39.890625 18.8125 39.015625 \nQ 14.890625 38.140625 10.796875 36.28125 \nz\n\" id=\"DejaVuSans-53\"/>\n       </defs>\n       <use xlink:href=\"#DejaVuSans-53\"/>\n      </g>\n     </g>\n    </g>\n    <g id=\"xtick_6\">\n     <g id=\"line2d_6\">\n      <g>\n       <use style=\"stroke:#000000;stroke-width:0.8;\" x=\"289.449371\" xlink:href=\"#mbcda6bf3fa\" y=\"224.64\"/>\n      </g>\n     </g>\n     <g id=\"text_6\">\n      <!-- 6 -->\n      <g transform=\"translate(286.268121 239.238437)scale(0.1 -0.1)\">\n       <defs>\n        <path d=\"M 33.015625 40.375 \nQ 26.375 40.375 22.484375 35.828125 \nQ 18.609375 31.296875 18.609375 23.390625 \nQ 18.609375 15.53125 22.484375 10.953125 \nQ 26.375 6.390625 33.015625 6.390625 \nQ 39.65625 6.390625 43.53125 10.953125 \nQ 47.40625 15.53125 47.40625 23.390625 \nQ 47.40625 31.296875 43.53125 35.828125 \nQ 39.65625 40.375 33.015625 40.375 \nz\nM 52.59375 71.296875 \nL 52.59375 62.3125 \nQ 48.875 64.0625 45.09375 64.984375 \nQ 41.3125 65.921875 37.59375 65.921875 \nQ 27.828125 65.921875 22.671875 59.328125 \nQ 17.53125 52.734375 16.796875 39.40625 \nQ 19.671875 43.65625 24.015625 45.921875 \nQ 28.375 48.1875 33.59375 48.1875 \nQ 44.578125 48.1875 50.953125 41.515625 \nQ 57.328125 34.859375 57.328125 23.390625 \nQ 57.328125 12.15625 50.6875 5.359375 \nQ 44.046875 -1.421875 33.015625 -1.421875 \nQ 20.359375 -1.421875 13.671875 8.265625 \nQ 6.984375 17.96875 6.984375 36.375 \nQ 6.984375 53.65625 15.1875 63.9375 \nQ 23.390625 74.21875 37.203125 74.21875 \nQ 40.921875 74.21875 44.703125 73.484375 \nQ 48.484375 72.75 52.59375 71.296875 \nz\n\" id=\"DejaVuSans-54\"/>\n       </defs>\n       <use xlink:href=\"#DejaVuSans-54\"/>\n      </g>\n     </g>\n    </g>\n    <g id=\"xtick_7\">\n     <g id=\"line2d_7\">\n      <g>\n       <use style=\"stroke:#000000;stroke-width:0.8;\" x=\"332.109588\" xlink:href=\"#mbcda6bf3fa\" y=\"224.64\"/>\n      </g>\n     </g>\n     <g id=\"text_7\">\n      <!-- 7 -->\n      <g transform=\"translate(328.928338 239.238437)scale(0.1 -0.1)\">\n       <defs>\n        <path d=\"M 8.203125 72.90625 \nL 55.078125 72.90625 \nL 55.078125 68.703125 \nL 28.609375 0 \nL 18.3125 0 \nL 43.21875 64.59375 \nL 8.203125 64.59375 \nz\n\" id=\"DejaVuSans-55\"/>\n       </defs>\n       <use xlink:href=\"#DejaVuSans-55\"/>\n      </g>\n     </g>\n    </g>\n    <g id=\"xtick_8\">\n     <g id=\"line2d_8\">\n      <g>\n       <use style=\"stroke:#000000;stroke-width:0.8;\" x=\"374.769805\" xlink:href=\"#mbcda6bf3fa\" y=\"224.64\"/>\n      </g>\n     </g>\n     <g id=\"text_8\">\n      <!-- 8 -->\n      <g transform=\"translate(371.588555 239.238437)scale(0.1 -0.1)\">\n       <defs>\n        <path d=\"M 31.78125 34.625 \nQ 24.75 34.625 20.71875 30.859375 \nQ 16.703125 27.09375 16.703125 20.515625 \nQ 16.703125 13.921875 20.71875 10.15625 \nQ 24.75 6.390625 31.78125 6.390625 \nQ 38.8125 6.390625 42.859375 10.171875 \nQ 46.921875 13.96875 46.921875 20.515625 \nQ 46.921875 27.09375 42.890625 30.859375 \nQ 38.875 34.625 31.78125 34.625 \nz\nM 21.921875 38.8125 \nQ 15.578125 40.375 12.03125 44.71875 \nQ 8.5 49.078125 8.5 55.328125 \nQ 8.5 64.0625 14.71875 69.140625 \nQ 20.953125 74.21875 31.78125 74.21875 \nQ 42.671875 74.21875 48.875 69.140625 \nQ 55.078125 64.0625 55.078125 55.328125 \nQ 55.078125 49.078125 51.53125 44.71875 \nQ 48 40.375 41.703125 38.8125 \nQ 48.828125 37.15625 52.796875 32.3125 \nQ 56.78125 27.484375 56.78125 20.515625 \nQ 56.78125 9.90625 50.3125 4.234375 \nQ 43.84375 -1.421875 31.78125 -1.421875 \nQ 19.734375 -1.421875 13.25 4.234375 \nQ 6.78125 9.90625 6.78125 20.515625 \nQ 6.78125 27.484375 10.78125 32.3125 \nQ 14.796875 37.15625 21.921875 38.8125 \nz\nM 18.3125 54.390625 \nQ 18.3125 48.734375 21.84375 45.5625 \nQ 25.390625 42.390625 31.78125 42.390625 \nQ 38.140625 42.390625 41.71875 45.5625 \nQ 45.3125 48.734375 45.3125 54.390625 \nQ 45.3125 60.0625 41.71875 63.234375 \nQ 38.140625 66.40625 31.78125 66.40625 \nQ 25.390625 66.40625 21.84375 63.234375 \nQ 18.3125 60.0625 18.3125 54.390625 \nz\n\" id=\"DejaVuSans-56\"/>\n       </defs>\n       <use xlink:href=\"#DejaVuSans-56\"/>\n      </g>\n     </g>\n    </g>\n    <g id=\"text_9\">\n     <!-- x1 -->\n     <g transform=\"translate(203.879688 252.916562)scale(0.1 -0.1)\">\n      <defs>\n       <path d=\"M 54.890625 54.6875 \nL 35.109375 28.078125 \nL 55.90625 0 \nL 45.3125 0 \nL 29.390625 21.484375 \nL 13.484375 0 \nL 2.875 0 \nL 24.125 28.609375 \nL 4.6875 54.6875 \nL 15.28125 54.6875 \nL 29.78125 35.203125 \nL 44.28125 54.6875 \nz\n\" id=\"DejaVuSans-120\"/>\n      </defs>\n      <use xlink:href=\"#DejaVuSans-120\"/>\n      <use x=\"59.179688\" xlink:href=\"#DejaVuSans-49\"/>\n     </g>\n    </g>\n   </g>\n   <g id=\"matplotlib.axis_2\">\n    <g id=\"ytick_1\">\n     <g id=\"line2d_9\">\n      <defs>\n       <path d=\"M 0 0 \nL -3.5 0 \n\" id=\"m5e909857de\" style=\"stroke:#000000;stroke-width:0.8;\"/>\n      </defs>\n      <g>\n       <use style=\"stroke:#000000;stroke-width:0.8;\" x=\"42.620313\" xlink:href=\"#m5e909857de\" y=\"214.591951\"/>\n      </g>\n     </g>\n     <g id=\"text_10\">\n      <!-- −4 -->\n      <g transform=\"translate(20.878125 218.39117)scale(0.1 -0.1)\">\n       <defs>\n        <path d=\"M 10.59375 35.5 \nL 73.1875 35.5 \nL 73.1875 27.203125 \nL 10.59375 27.203125 \nz\n\" id=\"DejaVuSans-8722\"/>\n       </defs>\n       <use xlink:href=\"#DejaVuSans-8722\"/>\n       <use x=\"83.789062\" xlink:href=\"#DejaVuSans-52\"/>\n      </g>\n     </g>\n    </g>\n    <g id=\"ytick_2\">\n     <g id=\"line2d_10\">\n      <g>\n       <use style=\"stroke:#000000;stroke-width:0.8;\" x=\"42.620313\" xlink:href=\"#m5e909857de\" y=\"189.312069\"/>\n      </g>\n     </g>\n     <g id=\"text_11\">\n      <!-- −3 -->\n      <g transform=\"translate(20.878125 193.111288)scale(0.1 -0.1)\">\n       <use xlink:href=\"#DejaVuSans-8722\"/>\n       <use x=\"83.789062\" xlink:href=\"#DejaVuSans-51\"/>\n      </g>\n     </g>\n    </g>\n    <g id=\"ytick_3\">\n     <g id=\"line2d_11\">\n      <g>\n       <use style=\"stroke:#000000;stroke-width:0.8;\" x=\"42.620313\" xlink:href=\"#m5e909857de\" y=\"164.032188\"/>\n      </g>\n     </g>\n     <g id=\"text_12\">\n      <!-- −2 -->\n      <g transform=\"translate(20.878125 167.831406)scale(0.1 -0.1)\">\n       <use xlink:href=\"#DejaVuSans-8722\"/>\n       <use x=\"83.789062\" xlink:href=\"#DejaVuSans-50\"/>\n      </g>\n     </g>\n    </g>\n    <g id=\"ytick_4\">\n     <g id=\"line2d_12\">\n      <g>\n       <use style=\"stroke:#000000;stroke-width:0.8;\" x=\"42.620313\" xlink:href=\"#m5e909857de\" y=\"138.752306\"/>\n      </g>\n     </g>\n     <g id=\"text_13\">\n      <!-- −1 -->\n      <g transform=\"translate(20.878125 142.551525)scale(0.1 -0.1)\">\n       <use xlink:href=\"#DejaVuSans-8722\"/>\n       <use x=\"83.789062\" xlink:href=\"#DejaVuSans-49\"/>\n      </g>\n     </g>\n    </g>\n    <g id=\"ytick_5\">\n     <g id=\"line2d_13\">\n      <g>\n       <use style=\"stroke:#000000;stroke-width:0.8;\" x=\"42.620313\" xlink:href=\"#m5e909857de\" y=\"113.472425\"/>\n      </g>\n     </g>\n     <g id=\"text_14\">\n      <!-- 0 -->\n      <g transform=\"translate(29.257813 117.271643)scale(0.1 -0.1)\">\n       <defs>\n        <path d=\"M 31.78125 66.40625 \nQ 24.171875 66.40625 20.328125 58.90625 \nQ 16.5 51.421875 16.5 36.375 \nQ 16.5 21.390625 20.328125 13.890625 \nQ 24.171875 6.390625 31.78125 6.390625 \nQ 39.453125 6.390625 43.28125 13.890625 \nQ 47.125 21.390625 47.125 36.375 \nQ 47.125 51.421875 43.28125 58.90625 \nQ 39.453125 66.40625 31.78125 66.40625 \nz\nM 31.78125 74.21875 \nQ 44.046875 74.21875 50.515625 64.515625 \nQ 56.984375 54.828125 56.984375 36.375 \nQ 56.984375 17.96875 50.515625 8.265625 \nQ 44.046875 -1.421875 31.78125 -1.421875 \nQ 19.53125 -1.421875 13.0625 8.265625 \nQ 6.59375 17.96875 6.59375 36.375 \nQ 6.59375 54.828125 13.0625 64.515625 \nQ 19.53125 74.21875 31.78125 74.21875 \nz\n\" id=\"DejaVuSans-48\"/>\n       </defs>\n       <use xlink:href=\"#DejaVuSans-48\"/>\n      </g>\n     </g>\n    </g>\n    <g id=\"ytick_6\">\n     <g id=\"line2d_14\">\n      <g>\n       <use style=\"stroke:#000000;stroke-width:0.8;\" x=\"42.620313\" xlink:href=\"#m5e909857de\" y=\"88.192543\"/>\n      </g>\n     </g>\n     <g id=\"text_15\">\n      <!-- 1 -->\n      <g transform=\"translate(29.257813 91.991762)scale(0.1 -0.1)\">\n       <use xlink:href=\"#DejaVuSans-49\"/>\n      </g>\n     </g>\n    </g>\n    <g id=\"ytick_7\">\n     <g id=\"line2d_15\">\n      <g>\n       <use style=\"stroke:#000000;stroke-width:0.8;\" x=\"42.620313\" xlink:href=\"#m5e909857de\" y=\"62.912661\"/>\n      </g>\n     </g>\n     <g id=\"text_16\">\n      <!-- 2 -->\n      <g transform=\"translate(29.257813 66.71188)scale(0.1 -0.1)\">\n       <use xlink:href=\"#DejaVuSans-50\"/>\n      </g>\n     </g>\n    </g>\n    <g id=\"ytick_8\">\n     <g id=\"line2d_16\">\n      <g>\n       <use style=\"stroke:#000000;stroke-width:0.8;\" x=\"42.620313\" xlink:href=\"#m5e909857de\" y=\"37.63278\"/>\n      </g>\n     </g>\n     <g id=\"text_17\">\n      <!-- 3 -->\n      <g transform=\"translate(29.257813 41.431999)scale(0.1 -0.1)\">\n       <use xlink:href=\"#DejaVuSans-51\"/>\n      </g>\n     </g>\n    </g>\n    <g id=\"ytick_9\">\n     <g id=\"line2d_17\">\n      <g>\n       <use style=\"stroke:#000000;stroke-width:0.8;\" x=\"42.620313\" xlink:href=\"#m5e909857de\" y=\"12.352898\"/>\n      </g>\n     </g>\n     <g id=\"text_18\">\n      <!-- 4 -->\n      <g transform=\"translate(29.257813 16.152117)scale(0.1 -0.1)\">\n       <use xlink:href=\"#DejaVuSans-52\"/>\n      </g>\n     </g>\n    </g>\n    <g id=\"text_19\">\n     <!-- x2 -->\n     <g transform=\"translate(14.798438 122.060625)rotate(-90)scale(0.1 -0.1)\">\n      <use xlink:href=\"#DejaVuSans-120\"/>\n      <use x=\"59.179688\" xlink:href=\"#DejaVuSans-50\"/>\n     </g>\n    </g>\n   </g>\n   <g id=\"line2d_18\">\n    <path clip-path=\"url(#pefd4aca3dd)\" d=\"M 57.838494 66.314661 \nL 362.202131 183.324175 \n\" style=\"fill:none;stroke:#ff0000;stroke-linecap:square;stroke-width:1.5;\"/>\n   </g>\n   <g id=\"patch_3\">\n    <path d=\"M 42.620313 224.64 \nL 42.620313 7.2 \n\" style=\"fill:none;stroke:#000000;stroke-linecap:square;stroke-linejoin:miter;stroke-width:0.8;\"/>\n   </g>\n   <g id=\"patch_4\">\n    <path d=\"M 377.420313 224.64 \nL 377.420313 7.2 \n\" style=\"fill:none;stroke:#000000;stroke-linecap:square;stroke-linejoin:miter;stroke-width:0.8;\"/>\n   </g>\n   <g id=\"patch_5\">\n    <path d=\"M 42.620313 224.64 \nL 377.420313 224.64 \n\" style=\"fill:none;stroke:#000000;stroke-linecap:square;stroke-linejoin:miter;stroke-width:0.8;\"/>\n   </g>\n   <g id=\"patch_6\">\n    <path d=\"M 42.620313 7.2 \nL 377.420313 7.2 \n\" style=\"fill:none;stroke:#000000;stroke-linecap:square;stroke-linejoin:miter;stroke-width:0.8;\"/>\n   </g>\n   <g id=\"legend_1\">\n    <g id=\"patch_7\">\n     <path d=\"M 49.620313 59.234375 \nL 91.590625 59.234375 \nQ 93.590625 59.234375 93.590625 57.234375 \nL 93.590625 14.2 \nQ 93.590625 12.2 91.590625 12.2 \nL 49.620313 12.2 \nQ 47.620313 12.2 47.620313 14.2 \nL 47.620313 57.234375 \nQ 47.620313 59.234375 49.620313 59.234375 \nz\n\" style=\"fill:#ffffff;opacity:0.8;stroke:#cccccc;stroke-linejoin:miter;\"/>\n    </g>\n    <g id=\"text_20\">\n     <!-- y -->\n     <g transform=\"translate(67.646094 23.798437)scale(0.1 -0.1)\">\n      <defs>\n       <path d=\"M 32.171875 -5.078125 \nQ 28.375 -14.84375 24.75 -17.8125 \nQ 21.140625 -20.796875 15.09375 -20.796875 \nL 7.90625 -20.796875 \nL 7.90625 -13.28125 \nL 13.1875 -13.28125 \nQ 16.890625 -13.28125 18.9375 -11.515625 \nQ 21 -9.765625 23.484375 -3.21875 \nL 25.09375 0.875 \nL 2.984375 54.6875 \nL 12.5 54.6875 \nL 29.59375 11.921875 \nL 46.6875 54.6875 \nL 56.203125 54.6875 \nz\n\" id=\"DejaVuSans-121\"/>\n      </defs>\n      <use xlink:href=\"#DejaVuSans-121\"/>\n     </g>\n    </g>\n    <g id=\"PathCollection_4\">\n     <defs>\n      <path d=\"M 0 3 \nC 0.795609 3 1.55874 2.683901 2.12132 2.12132 \nC 2.683901 1.55874 3 0.795609 3 0 \nC 3 -0.795609 2.683901 -1.55874 2.12132 -2.12132 \nC 1.55874 -2.683901 0.795609 -3 0 -3 \nC -0.795609 -3 -1.55874 -2.683901 -2.12132 -2.12132 \nC -2.683901 -1.55874 -3 -0.795609 -3 0 \nC -3 0.795609 -2.683901 1.55874 -2.12132 2.12132 \nC -1.55874 2.683901 -0.795609 3 0 3 \nz\n\" id=\"m84e3026a37\" style=\"stroke:#edd1cb;\"/>\n     </defs>\n     <g>\n      <use style=\"fill:#edd1cb;stroke:#edd1cb;\" x=\"61.620313\" xlink:href=\"#m84e3026a37\" y=\"35.851562\"/>\n     </g>\n    </g>\n    <g id=\"text_21\">\n     <!-- -1 -->\n     <g transform=\"translate(79.620313 38.476562)scale(0.1 -0.1)\">\n      <defs>\n       <path d=\"M 4.890625 31.390625 \nL 31.203125 31.390625 \nL 31.203125 23.390625 \nL 4.890625 23.390625 \nz\n\" id=\"DejaVuSans-45\"/>\n      </defs>\n      <use xlink:href=\"#DejaVuSans-45\"/>\n      <use x=\"36.083984\" xlink:href=\"#DejaVuSans-49\"/>\n     </g>\n    </g>\n    <g id=\"PathCollection_5\">\n     <defs>\n      <path d=\"M 0 3 \nC 0.795609 3 1.55874 2.683901 2.12132 2.12132 \nC 2.683901 1.55874 3 0.795609 3 0 \nC 3 -0.795609 2.683901 -1.55874 2.12132 -2.12132 \nC 1.55874 -2.683901 0.795609 -3 0 -3 \nC -0.795609 -3 -1.55874 -2.683901 -2.12132 -2.12132 \nC -2.683901 -1.55874 -3 -0.795609 -3 0 \nC -3 0.795609 -2.683901 1.55874 -2.12132 2.12132 \nC -1.55874 2.683901 -0.795609 3 0 3 \nz\n\" id=\"mf07ea91688\" style=\"stroke:#2d1e3e;\"/>\n     </defs>\n     <g>\n      <use style=\"fill:#2d1e3e;stroke:#2d1e3e;\" x=\"61.620313\" xlink:href=\"#mf07ea91688\" y=\"50.529687\"/>\n     </g>\n    </g>\n    <g id=\"text_22\">\n     <!-- 1 -->\n     <g transform=\"translate(79.620313 53.154687)scale(0.1 -0.1)\">\n      <use xlink:href=\"#DejaVuSans-49\"/>\n     </g>\n    </g>\n   </g>\n  </g>\n </g>\n <defs>\n  <clipPath id=\"pefd4aca3dd\">\n   <rect height=\"217.44\" width=\"334.8\" x=\"42.620313\" y=\"7.2\"/>\n  </clipPath>\n </defs>\n</svg>\n",
      "image/png": "[encoded data removed]"
     },
     "metadata": {
      "needs_background": "light"
     }
    }
   ],
   "source": [
    "# Generate vector to plot decision boundary\n",
    "x1_vec = np.linspace(df_x_pl[\"x1\"].min(),df_x_pl[\"x1\"].max(),2);\n",
    "\n",
    "# Plot raw data\n",
    "sns.scatterplot(x=\"x1\", y=\"x2\", hue=\"y\", data=df_x_pl);\n",
    "\n",
    "# Plot decision boundary\n",
    "plt.plot(x1_vec,(-x1_vec*theta_final[1]-theta_final[0])/theta_final[2], color=\"red\");\n",
    "\n",
    "# Save the theta_final value for later comparisons\n",
    "theta_GA = theta_final.copy()"
   ]
  },
  {
   "cell_type": "markdown",
   "metadata": {
    "id": "7VztviyAOeB7"
   },
   "source": [
    "################# Do not write above this line #################"
   ]
  },
  {
   "cell_type": "markdown",
   "metadata": {
    "id": "DeTYW9SlOeB8"
   },
   "source": [
    "Write now your considerations. Discuss in particular:\n",
    "- what effects do the learning rate $\\alpha$ and the number of iterations have on the computed $\\theta$\n",
    "- may you still achieve the same value if you decrease the learning rate $\\alpha$ and increase the number of iterations n_iter up to an infinite number of them? Why?\n",
    "- may you still achieve the same value if you increase the learning rate $\\alpha$ substantially and decrease the number of iterations n_iter? Why?\n",
    "\n",
    "Substantiate your answer with experiments and plots of the $l(\\theta)$ and the decision boundary."
   ]
  },
  {
   "cell_type": "markdown",
   "metadata": {
    "id": "wOZ8520WOeB9"
   },
   "source": [
    "################# Do not write below this line #################"
   ]
  },
  {
   "cell_type": "markdown",
   "metadata": {
    "id": "UN7JwWH8OeB9"
   },
   "source": [
    "\n",
    "## [15 points] Question 2: Logistic Regression with the Newton's method"
   ]
  },
  {
   "cell_type": "markdown",
   "metadata": {
    "id": "X_lAFSxwOeB-"
   },
   "source": [
    "### (a) [5 points] Equations for the Hessian of the log likelihood\n",
    "\n",
    "Derive the equation for the Hessian matrix $H$ of the log-likelihood $l(\\theta)$ of the parameters $\\theta$.\n",
    "\n",
    "Recall that: $H_{i,j} = \\frac{\\delta^2 l(\\theta)}{\\delta \\theta_i \\delta \\theta_j}$\n",
    "\n",
    "Also write the parameter update rule for the Newton's method, as a function of the Hessian and gradient of $l(\\theta)$.\n",
    "\n",
    "Question: in order to learn the optimal $\\theta$, do you need to minimize or to maximize $\\nabla_{\\theta} l$?"
   ]
  },
  {
   "cell_type": "markdown",
   "metadata": {
    "id": "c7tXIk65OeB-"
   },
   "source": [
    "################# Do not write above this line #################"
   ]
  },
  {
   "cell_type": "markdown",
   "metadata": {
    "id": "NUTclFjBOeB_"
   },
   "source": [
    "Your equations and the answer to the question here."
   ]
  },
  {
   "cell_type": "markdown",
   "metadata": {
    "id": "A2gKz7VDOeB_"
   },
   "source": [
    "################# Do not write below this line #################"
   ]
  },
  {
   "cell_type": "markdown",
   "metadata": {
    "id": "5c-C9dZeOeCA"
   },
   "source": [
    "### (b) [10 points] Implementation of logistic regression with the Newton's method\n",
    "\n",
    "Code up the equations above to learn the logistic regression parameters. Consider as data the files logistic_x.txt and logistic_y.txt. The first contains the feature values  $x^{(i)}_1$ and $x^{(i)}_2$  for the  𝑖 -th data sample  $x^{(i)}$ . The second contains the ground truth label  $y^{(i)}$  for each corresponding data sample."
   ]
  },
  {
   "cell_type": "markdown",
   "metadata": {
    "id": "L9IGQc9_OeCA"
   },
   "source": [
    "Define the Hessian function hess_l and the Newton's method function \"newton\":"
   ]
  },
  {
   "cell_type": "markdown",
   "metadata": {
    "id": "FKOYOByzOeCB"
   },
   "source": [
    "################# Do not write above this line #################"
   ]
  },
  {
   "cell_type": "markdown",
   "metadata": {
    "id": "8yk_i8EhOeCB"
   },
   "source": [
    "Your code here"
   ]
  },
  {
   "cell_type": "code",
   "execution_count": null,
   "metadata": {
    "id": "gxH5xTi0OeCC"
   },
   "outputs": [],
   "source": [
    "def hess_l(theta, x, y):\n",
    "    pass # return the Hessian matrix hess\n",
    "    # return hess\n",
    "\n",
    "def newton(theta0, x, y, G, H, eps):\n",
    "    pass # return the optimized theta parameters,\n",
    "        # as well as two lists containing the log likelihood's and values of theta at all iterations\n",
    "    # return theta, theta_history, log_l_history"
   ]
  },
  {
   "cell_type": "markdown",
   "metadata": {
    "id": "r6z0jueTOeCG"
   },
   "source": [
    "################# Do not write below this line #################"
   ]
  },
  {
   "cell_type": "markdown",
   "metadata": {},
   "source": [
    "Check your hess_l implementation: hess_l applied to the theta_test (defined below) should provide a value for hess_l_test close to the target_value (defined below); in other words the error_test should be 0, up to machine error precision."
   ]
  },
  {
   "cell_type": "code",
   "execution_count": null,
   "metadata": {},
   "outputs": [],
   "source": [
    "target_value = np.array([[-0.14357024, -0.43836134,  0.18767787], \\\n",
    "                         [-0.43836134, -1.72295801,  0.61817001], \\\n",
    "                         [ 0.18767787,  0.61817001, -0.51247901]])\n",
    "theta_test=np.array([-2,1,2])\n",
    "\n",
    "hess_l_test  = hess_l(theta_test,x,y)\n",
    "error_test=np.sum(np.abs(hess_l_test-target_value),axis=(0,1))\n",
    "\n",
    "print(\"{:f}\".format(error_test))"
   ]
  },
  {
   "cell_type": "markdown",
   "metadata": {
    "id": "48hVqShUOeCG"
   },
   "source": [
    "Now run Newton's method to perform logistic regression:"
   ]
  },
  {
   "cell_type": "code",
   "execution_count": null,
   "metadata": {
    "colab": {
     "base_uri": "https://localhost:8080/",
     "height": 34
    },
    "id": "dhw9YOdVOeCH",
    "outputId": "f8bddc10-e9d3-4792-f8d4-73f1ba1d1e68"
   },
   "outputs": [],
   "source": [
    "# Initialize theta0\n",
    "theta0 = np.zeros(x.shape[1])\n",
    "\n",
    "# Run Newton's method\n",
    "theta_final, theta_history, log_l_history = newton(theta0,x,y,grad_l,hess_l,1e-6)\n",
    "print(theta_final)"
   ]
  },
  {
   "cell_type": "markdown",
   "metadata": {
    "id": "swC4RWi0OeCJ"
   },
   "source": [
    "Let's plot the log likelihood over iterations"
   ]
  },
  {
   "cell_type": "code",
   "execution_count": null,
   "metadata": {
    "colab": {
     "base_uri": "https://localhost:8080/",
     "height": 279
    },
    "id": "5TDSytMMOeCK",
    "outputId": "06d5feca-7b74-4216-a5db-deb251c7f142"
   },
   "outputs": [],
   "source": [
    "fig,ax = plt.subplots(num=2)\n",
    "\n",
    "ax.set_ylabel('l(Theta)')\n",
    "ax.set_xlabel('Iterations')\n",
    "_=ax.plot(range(len(log_l_history)),log_l_history,'b.')"
   ]
  },
  {
   "cell_type": "markdown",
   "metadata": {
    "id": "xnGtGzYDOeCN"
   },
   "source": [
    "Plot the data and our decision boundary:"
   ]
  },
  {
   "cell_type": "code",
   "execution_count": null,
   "metadata": {
    "colab": {
     "base_uri": "https://localhost:8080/",
     "height": 195
    },
    "id": "dhDCM-n4OeCO",
    "outputId": "383e7da5-82e7-4b61-df54-d4032a28b0eb"
   },
   "outputs": [],
   "source": [
    "df_x_pl=df_x.copy()\n",
    "df_y_pl=df_y.copy()\n",
    "df_x_pl.insert(0, \"y\", df_y)\n",
    "df_x_pl[\"y\"] = pd.to_numeric(df_x_pl[\"y\"],downcast='signed')\n",
    "df_x_pl.head()"
   ]
  },
  {
   "cell_type": "code",
   "execution_count": null,
   "metadata": {
    "colab": {
     "base_uri": "https://localhost:8080/",
     "height": 279
    },
    "id": "g_5r0nW5OeCR",
    "outputId": "8e8e832f-a6a4-426b-ad28-77607ba8adc3",
    "scrolled": true
   },
   "outputs": [],
   "source": [
    "# Generate vector to plot decision boundary\n",
    "x1_vec = np.linspace(df_x_pl[\"x1\"].min(),df_x_pl[\"x1\"].max(),2);\n",
    "\n",
    "# Plot raw data\n",
    "sns.scatterplot(x=\"x1\", y=\"x2\", hue=\"y\", data=df_x_pl);\n",
    "\n",
    "# Plot decision boundary\n",
    "plt.plot(x1_vec,(-x1_vec*theta_final[1]-theta_final[0])/theta_final[2], color=\"red\");"
   ]
  },
  {
   "cell_type": "markdown",
   "metadata": {
    "id": "27QoXQikOeCT"
   },
   "source": [
    "################# Do not write above this line #################"
   ]
  },
  {
   "cell_type": "markdown",
   "metadata": {
    "id": "4rPY_EKzOeCT"
   },
   "source": [
    "Write now your considerations. Discuss in particular:\n",
    "- the different convergence speed of the Newton's method, compared to Gradient Ascent\n",
    "- the incurred cost for the different convergence speed"
   ]
  },
  {
   "cell_type": "markdown",
   "metadata": {
    "id": "po-FgiDPOeCT"
   },
   "source": [
    "################# Do not write below this line #################"
   ]
  },
  {
   "cell_type": "markdown",
   "metadata": {
    "id": "lqj8HMJMOeCU"
   },
   "source": [
    "\n",
    "## [7 points] Question 3: Logistic Regression with non linear boundaries"
   ]
  },
  {
   "cell_type": "markdown",
   "metadata": {
    "id": "C1phEkjHOeCU"
   },
   "source": [
    "### (a) Polynomial features for logistic regression\n",
    "\n",
    "Define new features, e.g. of 2nd and 3rd degrees, and learn a logistic regression classifier by using the new features, by using the Newton's optimization algorithm (or the gradient ascent one, if you like)."
   ]
  },
  {
   "cell_type": "markdown",
   "metadata": {
    "id": "dRbt5SbZPcn6"
   },
   "source": [
    "In particular, we would consider a polynomial boundary with equation:\n",
    "\n",
    "$f(x_1, x_2) = c_0 + c_1 x_1 + c_2 x_2 + c_3 x_1^2 + c_4 x_2^2 + c_5 x_1 x_2 + c_6 x_1^3 + c_7 x_2^3 + c_8 x_1^2 x_2 + c_9 x_1 x_2^2$\n",
    "\n",
    "We would therefore compute 7 new features: 3 new ones for the quadratic terms and 4 new ones for the cubic terms.\n",
    "\n",
    "Create new arrays by stacking x (from the previous questions) and the new 7 features (in the order x1x1, x2x2, x1x2, x1x1x1, x2x2x2, x1x1x2, x1x2x2). In particular create x_new_quad by additionally stacking with x the quadratic features, and x_new_cubic by additionally stacking with x the quadratic and the cubic features."
   ]
  },
  {
   "cell_type": "code",
   "execution_count": 2,
   "metadata": {
    "id": "BQTbat6UOeCV",
    "scrolled": false
   },
   "outputs": [
    {
     "ename": "NameError",
     "evalue": "name 'x' is not defined",
     "output_type": "error",
     "traceback": [
      "\u001b[0;31m---------------------------------------------------------------------------\u001b[0m",
      "\u001b[0;31mNameError\u001b[0m                                 Traceback (most recent call last)",
      "\u001b[0;32m<ipython-input-2-6c114c57500e>\u001b[0m in \u001b[0;36m<module>\u001b[0;34m\u001b[0m\n\u001b[1;32m      1\u001b[0m \u001b[0;31m# First extract features x1 and x2 from x and reshape them to x1 vector arrays\u001b[0m\u001b[0;34m\u001b[0m\u001b[0;34m\u001b[0m\u001b[0;34m\u001b[0m\u001b[0m\n\u001b[0;32m----> 2\u001b[0;31m \u001b[0mx1\u001b[0m \u001b[0;34m=\u001b[0m \u001b[0mx\u001b[0m\u001b[0;34m[\u001b[0m\u001b[0;34m:\u001b[0m\u001b[0;34m,\u001b[0m\u001b[0;36m1\u001b[0m\u001b[0;34m]\u001b[0m\u001b[0;34m\u001b[0m\u001b[0;34m\u001b[0m\u001b[0m\n\u001b[0m\u001b[1;32m      3\u001b[0m \u001b[0mx2\u001b[0m \u001b[0;34m=\u001b[0m \u001b[0mx\u001b[0m\u001b[0;34m[\u001b[0m\u001b[0;34m:\u001b[0m\u001b[0;34m,\u001b[0m\u001b[0;36m2\u001b[0m\u001b[0;34m]\u001b[0m\u001b[0;34m\u001b[0m\u001b[0;34m\u001b[0m\u001b[0m\n\u001b[1;32m      4\u001b[0m \u001b[0mx1\u001b[0m \u001b[0;34m=\u001b[0m \u001b[0mx1\u001b[0m\u001b[0;34m.\u001b[0m\u001b[0mreshape\u001b[0m\u001b[0;34m(\u001b[0m\u001b[0mx1\u001b[0m\u001b[0;34m.\u001b[0m\u001b[0mshape\u001b[0m\u001b[0;34m[\u001b[0m\u001b[0;36m0\u001b[0m\u001b[0;34m]\u001b[0m\u001b[0;34m,\u001b[0m \u001b[0;36m1\u001b[0m\u001b[0;34m)\u001b[0m\u001b[0;34m\u001b[0m\u001b[0;34m\u001b[0m\u001b[0m\n\u001b[1;32m      5\u001b[0m \u001b[0mx2\u001b[0m \u001b[0;34m=\u001b[0m \u001b[0mx2\u001b[0m\u001b[0;34m.\u001b[0m\u001b[0mreshape\u001b[0m\u001b[0;34m(\u001b[0m\u001b[0mx2\u001b[0m\u001b[0;34m.\u001b[0m\u001b[0mshape\u001b[0m\u001b[0;34m[\u001b[0m\u001b[0;36m0\u001b[0m\u001b[0;34m]\u001b[0m\u001b[0;34m,\u001b[0m \u001b[0;36m1\u001b[0m\u001b[0;34m)\u001b[0m\u001b[0;34m\u001b[0m\u001b[0;34m\u001b[0m\u001b[0m\n",
      "\u001b[0;31mNameError\u001b[0m: name 'x' is not defined"
     ]
    }
   ],
   "source": [
    "# First extract features x1 and x2 from x and reshape them to x1 vector arrays\n",
    "x1 = x[:,1]\n",
    "x2 = x[:,2]\n",
    "x1 = x1.reshape(x1.shape[0], 1)\n",
    "x2 = x2.reshape(x2.shape[0], 1)\n",
    "print(x[:5,:]) # For visualization of the first 5 values\n",
    "print(x1[:5,:]) # For visualization of the first 5 values\n",
    "print(x2[:5,:]) # For visualization of the first 5 values"
   ]
  },
  {
   "cell_type": "markdown",
   "metadata": {
    "id": "rL2ZN00OOeCX"
   },
   "source": [
    "################# Do not write above this line #################"
   ]
  },
  {
   "cell_type": "markdown",
   "metadata": {
    "id": "rsyCm-uNOeCY"
   },
   "source": [
    "Your code here"
   ]
  },
  {
   "cell_type": "code",
   "execution_count": null,
   "metadata": {
    "id": "ROZQgI2COeCY"
   },
   "outputs": [],
   "source": [
    "# Define features: x1x1, x2x2, x1x2, x1x1x1, x2x2x2, x1x1x2, x1x2x2\n",
    "\n",
    "# Stack the features together together with x, to define\n",
    "# x_new_quad [x, x1x1, x2x2, x1x2]\n",
    "# and x_new_cubic [x, x1x1, x2x2, x1x2, x1x1x1, x2x2x2, x1x1x2, x1x2x2]"
   ]
  },
  {
   "cell_type": "markdown",
   "metadata": {
    "id": "_KvgwVckOeCe"
   },
   "source": [
    "################# Do not write below this line #################"
   ]
  },
  {
   "cell_type": "markdown",
   "metadata": {
    "id": "if0-ozefOeCe"
   },
   "source": [
    "Now use the Newton's optimization algorithm to learn theta by maximizing the log-likelihood, both for the case of x_new_quad and x_new_cubic.\n",
    "\n",
    "Note: you may alternatively use gradient ascent, as in Question 1, if you like."
   ]
  },
  {
   "cell_type": "code",
   "execution_count": null,
   "metadata": {
    "id": "rVe936XNOeCe"
   },
   "outputs": [],
   "source": [
    "# Initialize theta0, in case of quadratic features\n",
    "theta0_quad = np.zeros(x_new_quad.shape[1])\n",
    "\n",
    "# Run Newton's method, in case of quadratic features\n",
    "theta_final_quad, theta_history_quad, log_l_history_quad = newton(theta0_quad,x_new_quad,y,grad_l,hess_l,1e-6)\n",
    "\n",
    "# Initialize theta0, in case of quadratic and cubic features\n",
    "theta0_cubic = np.zeros(x_new_cubic.shape[1])\n",
    "\n",
    "# Run Newton's method, in case of quadratic and cubic features\n",
    "theta_final_cubic, theta_history_cubic, log_l_history_cubic = newton(theta0_cubic,x_new_cubic,y,grad_l,hess_l,1e-6)\n",
    "\n",
    "# check and compare with previous results\n",
    "print(theta_final_quad)\n",
    "print(theta_final_cubic)"
   ]
  },
  {
   "cell_type": "code",
   "execution_count": null,
   "metadata": {
    "colab": {
     "base_uri": "https://localhost:8080/",
     "height": 279
    },
    "id": "0fdHd2L8OeCh",
    "outputId": "90db5074-51ff-458e-be72-e5bd3ae4a935"
   },
   "outputs": [],
   "source": [
    "# Plot the log likelihood values in the optimization iterations, in one of the two cases.\n",
    "fig,ax = plt.subplots(num=2)\n",
    "\n",
    "ax.set_ylabel('l(Theta)')\n",
    "ax.set_xlabel('Iterations')\n",
    "_=ax.plot(range(len(log_l_history_cubic)),log_l_history_cubic,'b.')"
   ]
  },
  {
   "cell_type": "markdown",
   "metadata": {
    "id": "oyHrTkyVOeCj"
   },
   "source": [
    "### (b) Plot the computed non-linear boundary and discuss the questions\n",
    "\n"
   ]
  },
  {
   "cell_type": "markdown",
   "metadata": {
    "id": "XLqrjKy9OeCj"
   },
   "source": [
    "First, define a boundary_function to compute the boundary equation for the input feature vectors $x_1$ and $x_2$, according to estimated parameters theta, both in the case of quadratic (theta_final_quad) and of quadratic and cubic features (theta_final_cubic). Refer for the equation to the introductory part of Question 3."
   ]
  },
  {
   "cell_type": "markdown",
   "metadata": {
    "id": "aRfx4RsEOeCj"
   },
   "source": [
    "################# Do not write above this line #################"
   ]
  },
  {
   "cell_type": "markdown",
   "metadata": {},
   "source": [
    "Your code here"
   ]
  },
  {
   "cell_type": "code",
   "execution_count": null,
   "metadata": {
    "id": "Q9z3OOOdOeCk"
   },
   "outputs": [],
   "source": [
    "def boundary_function(x1_vec, x2_vec, theta_final):\n",
    "    \n",
    "    x1_vec, x2_vec = np.meshgrid(x1_vec,x2_vec)\n",
    "    \n",
    "    if len(theta_final) == 6:\n",
    "        # boundary function value for features up to quadratic\n",
    "        c_0, c_1, c_2, c_3, c_4, c_5 = theta_final\n",
    "        # f =\n",
    "    elif len(theta_final) == 10:\n",
    "        # boundary function value for features up to cubic\n",
    "        c_0, c_1, c_2, c_3, c_4, c_5, c_6, c_7, c_8, c_9 = theta_final\n",
    "        # f = \n",
    "    else:\n",
    "        raise(\"Number of Parameters is not correct\")\n",
    "        \n",
    "    return x1_vec, x2_vec, f"
   ]
  },
  {
   "cell_type": "markdown",
   "metadata": {
    "id": "APohoz_HOeCq"
   },
   "source": [
    "################# Do not write below this line #################"
   ]
  },
  {
   "cell_type": "markdown",
   "metadata": {},
   "source": [
    "Now plot the decision boundaries corresponding to the theta_final_quad and theta_final_cubic solutions."
   ]
  },
  {
   "cell_type": "code",
   "execution_count": null,
   "metadata": {
    "colab": {
     "base_uri": "https://localhost:8080/",
     "height": 296
    },
    "id": "y8dN6C_YOeCq",
    "outputId": "7537487b-2361-4de9-8024-51b67ba30436"
   },
   "outputs": [],
   "source": [
    "x1_vec = np.linspace(df_x_pl[\"x1\"].min()-1,df_x_pl[\"x1\"].max()+1,200);\n",
    "x2_vec = np.linspace(df_x_pl[\"x2\"].min()-1,df_x_pl[\"x2\"].max()+1,200);\n",
    "\n",
    "x1_vec, x2_vec, f = boundary_function(x1_vec, x2_vec, theta_final_quad)\n",
    "\n",
    "sns.scatterplot(x=\"x1\", y=\"x2\", hue=\"y\", data=df_x_pl);\n",
    "\n",
    "plt.contour(x1_vec, x2_vec, f, colors=\"red\", levels=[0])"
   ]
  },
  {
   "cell_type": "code",
   "execution_count": null,
   "metadata": {},
   "outputs": [],
   "source": [
    "x1_vec = np.linspace(df_x_pl[\"x1\"].min()-1,df_x_pl[\"x1\"].max()+1,200);\n",
    "x2_vec = np.linspace(df_x_pl[\"x2\"].min()-1,df_x_pl[\"x2\"].max()+1,200);\n",
    "\n",
    "x1_vec, x2_vec, f = boundary_function(x1_vec, x2_vec, theta_final_cubic)\n",
    "\n",
    "sns.scatterplot(x=\"x1\", y=\"x2\", hue=\"y\", data=df_x_pl);\n",
    "\n",
    "plt.contour(x1_vec, x2_vec, f, colors=\"red\", levels=[0])"
   ]
  },
  {
   "cell_type": "markdown",
   "metadata": {
    "id": "x2q06ghtctFD"
   },
   "source": [
    "################# Do not write above this line #################"
   ]
  },
  {
   "cell_type": "markdown",
   "metadata": {
    "id": "BRKJBKIoOeCt"
   },
   "source": [
    "Write now your considerations. Discuss in particular:\n",
    "- What happens if you further increase the degree of the polynomial. How would the boundary change? Would you incur underfitting or overfitting?\n",
    "- Look at the boundary of the quadratic and cubic polynomial features. Do they meet your expectations? Why? Consider in particular the classifier decision boundary in areas where there are fewer training data, i.e. where the classifier is supposed to generalize. Hint: Try changing the minimum and maximum limits in vectors x1_vec and x2_vec before plotting the boundaries.\n",
    "- Look at the values of the original features, the 2nd and 3rd degree ones. Do you expect that normalizing the input features (either by setting their range to [-1,1] or by subtracting their mean and dividing by their standard deviation) would improve the classifier? Why yes or why not?"
   ]
  },
  {
   "cell_type": "markdown",
   "metadata": {
    "id": "rqCIJlppcvpJ"
   },
   "source": [
    "################# Do not write below this line #################"
   ]
  },
  {
   "cell_type": "markdown",
   "metadata": {
    "id": "vBXW0UPaOeCt"
   },
   "source": [
    "\n",
    "## [10 points, extra, not compulsory] Question 4: Gaussian Discriminant Analysis\n",
    "\n"
   ]
  },
  {
   "cell_type": "markdown",
   "metadata": {
    "id": "7XCqvVbVOeCt"
   },
   "source": [
    "### (a) Review and implement classification with Gradient Discriminant Analysis (GDA)\n",
    "\n",
    "Recall the assumptions for GDA\n",
    "\n",
    "$\\begin{aligned} y & \\sim \\operatorname{Bernoulli}(\\phi) \\\\ x \\mid y=0 & \\sim \\mathcal{N}\\left(\\mu_{0}, \\Sigma\\right) \\\\ x \\mid y=1 & \\sim \\mathcal{N}\\left(\\mu_{1}, \\Sigma\\right) \\end{aligned}$\n",
    "\n",
    "Recall the probability distributions:\n",
    "\n",
    "$\\begin{aligned} p(y) &=\\phi^{y}(1-\\phi)^{1-y} \\\\ p(x \\mid y=0) &=\\frac{1}{(2 \\pi)^{d / 2}|\\Sigma|^{1 / 2}} \\exp \\left(-\\frac{1}{2}\\left(x-\\mu_{0}\\right)^{T} \\Sigma^{-1}\\left(x-\\mu_{0}\\right)\\right) \\\\ p(x \\mid y=1) &=\\frac{1}{(2 \\pi)^{d / 2}|\\Sigma|^{1 / 2}} \\exp \\left(-\\frac{1}{2}\\left(x-\\mu_{1}\\right)^{T} \\Sigma^{-1}\\left(x-\\mu_{1}\\right)\\right) \\end{aligned}$\n",
    "\n",
    "Overall, the parameters of the model are $\\phi, \\Sigma, \\mu_{0}$ and $\\mu_{1}$ and the log-likelihood is given by:\n",
    "\n",
    "$\\begin{aligned} \\ell\\left(\\phi, \\mu_{0}, \\mu_{1}, \\Sigma\\right) &=\\log \\prod_{i=1}^{n} p\\left(x^{(i)}, y^{(i)} ; \\phi, \\mu_{0}, \\mu_{1}, \\Sigma\\right) \\\\ &=\\log \\prod_{i=1}^{n} p\\left(x^{(i)} \\mid y^{(i)} ; \\mu_{0}, \\mu_{1}, \\Sigma\\right) p\\left(y^{(i)} ; \\phi\\right) \\end{aligned}$\n",
    "\n",
    "Parameters may be estimated by maximum likelihood estimate as follows:\n",
    "\n",
    "$\\begin{aligned} \\phi &=\\frac{1}{n} \\sum_{i=1}^{n} 1\\left\\{y^{(i)}=1\\right\\} \\\\ \\mu_{0} &=\\frac{\\sum_{i=1}^{n} 1\\left\\{y^{(i)}=0\\right\\} x^{(i)}}{\\sum_{i=1}^{n} 1\\left\\{y^{(i)}=0\\right\\}} \\\\ \\mu_{1} &=\\frac{\\sum_{i=1}^{n} 1\\left\\{y^{(i)}=1\\right\\} x^{(i)}}{\\sum_{i=1}^{n} 1\\left\\{y^{(i)}=1\\right\\}} \\\\ \\Sigma &=\\frac{1}{n} \\sum_{i=1}^{n}\\left(x^{(i)}-\\mu_{y^{(i)}}\\right)\\left(x^{(i)}-\\mu_{y^{(i)}}\\right)^{T} \\end{aligned}$\n",
    "\n",
    "Consider the data variables as from the previous questions, x and y.\n",
    "For this question, we would select features $x^{(i)}_1$ and $x^{(i)}_2$ into the new varible x12, dropping the $x_0=1$ convention."
   ]
  },
  {
   "cell_type": "code",
   "execution_count": null,
   "metadata": {},
   "outputs": [],
   "source": [
    "# First extract the sole features x1 and x2 from x into an x12 array and reshape it to x2 vector arrays\n",
    "x12 = x[:,1:]\n",
    "print(x[:5,:]) # For visualization of the first 5 values\n",
    "print(x12[:5,:]) # For visualization of the first 5 values\n",
    "print(y[:5]) # For visualization of the first 5 values"
   ]
  },
  {
   "cell_type": "markdown",
   "metadata": {},
   "source": [
    "Now code up the equations above to learn the GDA parameters from the training data."
   ]
  },
  {
   "cell_type": "markdown",
   "metadata": {},
   "source": [
    "\n",
    "################# Do not write above this line #################\n"
   ]
  },
  {
   "cell_type": "markdown",
   "metadata": {},
   "source": [
    "Your code here"
   ]
  },
  {
   "cell_type": "code",
   "execution_count": null,
   "metadata": {},
   "outputs": [],
   "source": [
    "def compute_phi(y):\n",
    "  # your code here\n",
    "  pass\n",
    "\n",
    "\n",
    "def compute_mu0(x, y):\n",
    "  # your code here\n",
    "  pass\n",
    "\n",
    "\n",
    "def compute_mu1(x, y):\n",
    "  # your code here\n",
    "  pass\n",
    "\n",
    "\n",
    "def compute_sigma(x, y, mu0, mu1):\n",
    "  # your code here\n",
    "  pass\n",
    "\n",
    "\n",
    "# computing p(x|y) for the Bayes rule\n",
    "def p_x_given_y(x,mu,sigma):\n",
    "  # your code here\n",
    "  pass\n"
   ]
  },
  {
   "cell_type": "markdown",
   "metadata": {
    "id": "7X0KeBHGEyMA"
   },
   "source": [
    "\n",
    "################# Do not write below this line #################\n"
   ]
  },
  {
   "cell_type": "code",
   "execution_count": null,
   "metadata": {},
   "outputs": [],
   "source": [
    "# Support functions\n",
    "\n",
    "# Function p(y) for applying the Bayes rule\n",
    "def p_y(y,phi):\n",
    "    if y==1: return phi\n",
    "    else: return 1-phi"
   ]
  },
  {
   "cell_type": "code",
   "execution_count": null,
   "metadata": {
    "colab": {
     "base_uri": "https://localhost:8080/",
     "height": 105
    },
    "id": "VJS9V7u-hr3C",
    "outputId": "736f893a-35af-4344-bba5-752903be8abe"
   },
   "outputs": [],
   "source": [
    "# Now estimate the GDA parameters\n",
    "phi = compute_phi(y)\n",
    "mu0 = compute_mu0(x12,y)\n",
    "mu1 = compute_mu1(x12,y)\n",
    "sigma = compute_sigma(x12, y, mu0, mu1)\n",
    "\n",
    "phi,mu0,mu1,sigma"
   ]
  },
  {
   "cell_type": "markdown",
   "metadata": {
    "id": "Q2MEcgHI0zZG"
   },
   "source": [
    "Now that we know both the distributions of $p(y)$ and $p(x|y)$, we may estimate the posterior probability for an input $x$ via Bayes Rule:\n",
    "\n",
    "\\begin{equation}\n",
    "p(y \\mid x)=\\frac{p(x \\mid y) p(y)}{p(x)}\n",
    "\\end{equation}\n",
    "where $p(x)$ is the same for both classes and may be disregarded.\n",
    "\n",
    "This is used to classify each data point, by comparing $p(y=1|x) \\propto p(x \\mid y=1) p(y=1)$ and $p(y=0|x) \\propto p(x \\mid y=0) p(y=0)$."
   ]
  },
  {
   "cell_type": "code",
   "execution_count": null,
   "metadata": {
    "colab": {
     "base_uri": "https://localhost:8080/",
     "height": 52
    },
    "id": "QXOCMphE-s3W",
    "outputId": "fb86b8d4-0a70-410e-bb29-34f5ddc4e4d6"
   },
   "outputs": [],
   "source": [
    "selected_example=1\n",
    "print('Selected example =', x12[selected_example,:])\n",
    "\n",
    "# compute p(y=0|x) ~ p(x|y=0)*p(y=0)  &  p(y=1|x) ~ p(x|y=1)*p(y=1)\n",
    "\n",
    "# y=0\n",
    "print('p(y=0|x) ~', p_x_given_y(x12[selected_example,:],mu0,sigma)*p_y(0,phi))\n",
    "\n",
    "# y=1\n",
    "print('p(y=1|x) ~', p_x_given_y(x12[selected_example,:],mu1,sigma)*p_y(1,phi))"
   ]
  },
  {
   "cell_type": "markdown",
   "metadata": {
    "id": "j-LisANTOeCu"
   },
   "source": [
    "### (b) Plot the estimated likelihood functions, the decision boundary and write your remarks\n"
   ]
  },
  {
   "cell_type": "code",
   "execution_count": null,
   "metadata": {},
   "outputs": [],
   "source": [
    "def boundary_gda(x1_vec, x2_vec, mu0, mu1, sigma, phi):\n",
    "    \n",
    "    x1_vec, x2_vec = np.meshgrid(x1_vec,x2_vec)\n",
    "    \n",
    "    f=np.zeros(x1_vec.shape)\n",
    "    \n",
    "    for i in range(f.shape[0]):\n",
    "        for j in range(f.shape[1]):\n",
    "            x12_ij = np.array( (x1_vec[i,j],x2_vec[i,j]) )\n",
    "            f[i,j] = p_x_given_y(x12_ij,mu1,sigma)*p_y(1,phi) - p_x_given_y(x12_ij,mu0,sigma)*p_y(0,phi)\n",
    "            \n",
    "    return x1_vec, x2_vec, f\n",
    "\n",
    "\n",
    "x1_vec = np.linspace(df_x_pl[\"x1\"].min()-1,df_x_pl[\"x1\"].max()+1,200);\n",
    "x2_vec = np.linspace(df_x_pl[\"x2\"].min()-1,df_x_pl[\"x2\"].max()+1,200);\n",
    "\n",
    "x1_vec, x2_vec, f = boundary_gda(x1_vec, x2_vec, mu0, mu1, sigma, phi)"
   ]
  },
  {
   "cell_type": "code",
   "execution_count": null,
   "metadata": {},
   "outputs": [],
   "source": [
    "from matplotlib import cm\n",
    "from scipy.stats import multivariate_normal\n",
    "\n",
    "# Define Gaussian pdfs\n",
    "rv0 = multivariate_normal(mu0, sigma)\n",
    "rv1 = multivariate_normal(mu1, sigma)\n",
    "\n",
    "pairx12 = np.dstack((x1_vec, x2_vec))\n",
    "\n",
    "# plot pdf contours\n",
    "plt.contourf(x1_vec, x2_vec, rv0.pdf(pairx12),alpha=0.5,cmap=cm.Reds)\n",
    "plt.contourf(x1_vec, x2_vec, rv1.pdf(pairx12),alpha=0.35,cmap=cm.Blues)\n",
    "\n",
    "# Add the GDA classification to the plot\n",
    "sns.scatterplot(x=\"x1\", y=\"x2\", hue=\"y\", data=df_x_pl);\n",
    "plt.contour(x1_vec, x2_vec, f, colors=\"red\", levels=[0])\n",
    "\n",
    "plt.ylim(df_x_pl[\"x2\"].min()-1,df_x_pl[\"x2\"].max()+1)\n",
    "plt.xlim(df_x_pl[\"x1\"].min()-1,df_x_pl[\"x1\"].max()+1)"
   ]
  },
  {
   "cell_type": "code",
   "execution_count": null,
   "metadata": {},
   "outputs": [],
   "source": [
    "# For comparison with the Logistic Regression boundary\n",
    "\n",
    "# Generate vector to plot decision boundary\n",
    "x1vec = np.linspace(df_x_pl[\"x1\"].min()-1,df_x_pl[\"x1\"].max()+1,2)\n",
    "\n",
    "# Plot raw data\n",
    "sns.scatterplot(x=\"x1\", y=\"x2\", hue=\"y\", data=df_x_pl)\n",
    "\n",
    "# Plot decision boundary\n",
    "log, = plt.plot(x1vec,(-x1vec*theta_GA[1]-theta_GA[0])/theta_GA[2], color=\"red\")\n",
    "gda = plt.contour(x1_vec, x2_vec, f, colors=\"green\", levels=[0])\n",
    "\n",
    "plt.legend([log, gda.collections[0]],['logistic regression','GDA'])\n",
    "\n",
    "plt.ylim(df_x_pl[\"x2\"].min()-1,df_x_pl[\"x2\"].max()+1)\n",
    "plt.xlim(df_x_pl[\"x1\"].min()-1,df_x_pl[\"x1\"].max()+1)\n",
    "\n",
    "# plt.legend()\n",
    "plt.show()"
   ]
  },
  {
   "cell_type": "markdown",
   "metadata": {
    "id": "xiSJyf3lOeCu"
   },
   "source": [
    "Write now your considerations. Discuss in particular:\n",
    "- Gaussian Discriminant Analysis makes stronger modelling assumptions than logistic regression. When may this be helpful and where may this be harmful?"
   ]
  },
  {
   "cell_type": "markdown",
   "metadata": {
    "id": "p6KSzi2BOeCu"
   },
   "source": [
    "Credits for material: Andrew Ng, C. Combier"
   ]
  }
 ],
 "metadata": {
  "colab": {
   "collapsed_sections": [
    "7XCqvVbVOeCt",
    "j-LisANTOeCu",
    "Z2o9jg7EOeCv"
   ],
   "name": "FDS_Exercise_2_own.ipynb",
   "provenance": []
  },
  "kernelspec": {
   "display_name": "Python 3",
   "language": "python",
   "name": "python3"
  },
  "language_info": {
   "codemirror_mode": {
    "name": "ipython",
    "version": 3
   },
   "file_extension": ".py",
   "mimetype": "text/x-python",
   "name": "python",
   "nbconvert_exporter": "python",
   "pygments_lexer": "ipython3",
   "version": "3.8.5-final"
  },
  "varInspector": {
   "cols": {
    "lenName": 16,
    "lenType": 16,
    "lenVar": 40
   },
   "kernels_config": {
    "python": {
     "delete_cmd_postfix": "",
     "delete_cmd_prefix": "del ",
     "library": "var_list.py",
     "varRefreshCmd": "print(var_dic_list())"
    },
    "r": {
     "delete_cmd_postfix": ") ",
     "delete_cmd_prefix": "rm(",
     "library": "var_list.r",
     "varRefreshCmd": "cat(var_dic_list()) "
    }
   },
   "types_to_exclude": [
    "module",
    "function",
    "builtin_function_or_method",
    "instance",
    "_Feature"
   ],
   "window_display": false
  }
 },
 "nbformat": 4,
 "nbformat_minor": 1
}